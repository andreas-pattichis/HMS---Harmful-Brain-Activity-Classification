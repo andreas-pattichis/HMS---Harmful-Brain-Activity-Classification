{
 "cells": [
  {
   "cell_type": "markdown",
   "id": "e306a2ff",
   "metadata": {
    "papermill": {
     "duration": 0.00378,
     "end_time": "2024-03-06T13:39:38.120530",
     "exception": false,
     "start_time": "2024-03-06T13:39:38.116750",
     "status": "completed"
    },
    "tags": []
   },
   "source": [
    "## 📙 Import libraries and modules"
   ]
  },
  {
   "cell_type": "code",
   "execution_count": 1,
   "id": "720cfc27",
   "metadata": {
    "execution": {
     "iopub.execute_input": "2024-03-06T13:39:38.128877Z",
     "iopub.status.busy": "2024-03-06T13:39:38.128517Z",
     "iopub.status.idle": "2024-03-06T13:39:44.189038Z",
     "shell.execute_reply": "2024-03-06T13:39:44.188125Z"
    },
    "papermill": {
     "duration": 6.067084,
     "end_time": "2024-03-06T13:39:44.191058",
     "exception": false,
     "start_time": "2024-03-06T13:39:38.123974",
     "status": "completed"
    },
    "tags": []
   },
   "outputs": [
    {
     "data": {
      "text/plain": [
       "46"
      ]
     },
     "execution_count": 1,
     "metadata": {},
     "output_type": "execute_result"
    }
   ],
   "source": [
    "# Importing essential libraries\n",
    "import gc\n",
    "import os\n",
    "import random\n",
    "import warnings\n",
    "import numpy as np\n",
    "import pandas as pd\n",
    "from IPython.display import display\n",
    "\n",
    "# PyTorch for deep learning\n",
    "import timm\n",
    "import torch\n",
    "import torch.nn as nn  \n",
    "import torch.optim as optim\n",
    "import torch.nn.functional as F\n",
    "from torch.optim.lr_scheduler import CosineAnnealingLR\n",
    "\n",
    "# torchvision for image processing and augmentation\n",
    "import torchvision.transforms as transforms\n",
    "\n",
    "# Suppressing minor warnings to keep the output clean\n",
    "warnings.filterwarnings('ignore', category=Warning)\n",
    "\n",
    "# Reclaim memory no longer in use.\n",
    "gc.collect()"
   ]
  },
  {
   "cell_type": "markdown",
   "id": "a8b378ec",
   "metadata": {
    "papermill": {
     "duration": 0.003294,
     "end_time": "2024-03-06T13:39:44.197933",
     "exception": false,
     "start_time": "2024-03-06T13:39:44.194639",
     "status": "completed"
    },
    "tags": []
   },
   "source": [
    "## ⚙️ Configuration"
   ]
  },
  {
   "cell_type": "code",
   "execution_count": 2,
   "id": "bb182006",
   "metadata": {
    "execution": {
     "iopub.execute_input": "2024-03-06T13:39:44.206091Z",
     "iopub.status.busy": "2024-03-06T13:39:44.205574Z",
     "iopub.status.idle": "2024-03-06T13:39:44.331257Z",
     "shell.execute_reply": "2024-03-06T13:39:44.330419Z"
    },
    "papermill": {
     "duration": 0.131934,
     "end_time": "2024-03-06T13:39:44.333234",
     "exception": false,
     "start_time": "2024-03-06T13:39:44.201300",
     "status": "completed"
    },
    "tags": []
   },
   "outputs": [
    {
     "data": {
      "text/plain": [
       "0"
      ]
     },
     "execution_count": 2,
     "metadata": {},
     "output_type": "execute_result"
    }
   ],
   "source": [
    "# Configuration class containing hyperparameters and settings\n",
    "class Config:\n",
    "    seed = 42 \n",
    "    image_transform = transforms.Resize((512,512))  \n",
    "    batch_size = 16\n",
    "    num_epochs = 9\n",
    "    num_folds = 5\n",
    "\n",
    "# Set the seed for reproducibility across multiple libraries\n",
    "def set_seed(seed):\n",
    "    torch.backends.cudnn.deterministic = True\n",
    "    torch.backends.cudnn.benchmark = True\n",
    "    torch.manual_seed(seed)\n",
    "    np.random.seed(seed)\n",
    "    random.seed(seed)\n",
    "    \n",
    "set_seed(Config.seed)\n",
    "\n",
    "# Define the 'Kullback Leibler Divergence' loss function\n",
    "def KL_loss(p,q):\n",
    "    epsilon=10**(-15)\n",
    "    p=torch.clip(p,epsilon,1-epsilon)\n",
    "    q = nn.functional.log_softmax(q,dim=1)\n",
    "    return torch.mean(torch.sum(p*(torch.log(p)-q),dim=1))\n",
    "\n",
    "# Reclaim memory no longer in use.\n",
    "gc.collect()"
   ]
  },
  {
   "cell_type": "markdown",
   "id": "c2c39840",
   "metadata": {
    "papermill": {
     "duration": 0.003423,
     "end_time": "2024-03-06T13:39:44.340357",
     "exception": false,
     "start_time": "2024-03-06T13:39:44.336934",
     "status": "completed"
    },
    "tags": []
   },
   "source": [
    "## 📂 Data Loading"
   ]
  },
  {
   "cell_type": "code",
   "execution_count": 3,
   "id": "e75bd0ad",
   "metadata": {
    "execution": {
     "iopub.execute_input": "2024-03-06T13:39:44.348685Z",
     "iopub.status.busy": "2024-03-06T13:39:44.348207Z",
     "iopub.status.idle": "2024-03-06T13:39:44.851427Z",
     "shell.execute_reply": "2024-03-06T13:39:44.850466Z"
    },
    "papermill": {
     "duration": 0.509659,
     "end_time": "2024-03-06T13:39:44.853443",
     "exception": false,
     "start_time": "2024-03-06T13:39:44.343784",
     "status": "completed"
    },
    "tags": []
   },
   "outputs": [
    {
     "data": {
      "text/plain": [
       "0"
      ]
     },
     "execution_count": 3,
     "metadata": {},
     "output_type": "execute_result"
    }
   ],
   "source": [
    "# Load training data\n",
    "train_df = pd.read_csv(\"/kaggle/input/hms-harmful-brain-activity-classification/train.csv\")\n",
    "\n",
    "# Filter out cases where the total number of votes is less than 4\n",
    "indices_eliminados = train_df.index[train_df[['seizure_vote','lpd_vote','gpd_vote','lrda_vote','grda_vote','other_vote']].sum(axis=1) < 4]\n",
    "train_df = train_df.drop(indices_eliminados)\n",
    "train_df = train_df.reset_index()\n",
    "\n",
    "# Define labels for classification\n",
    "labels = ['seizure', 'lpd', 'gpd', 'lrda', 'grda', 'other']\n",
    "\n",
    "# Initialize an empty DataFrame for storing features\n",
    "train_feats = pd.DataFrame()\n",
    "\n",
    "# Aggregate votes for each label and merge into train_feats DataFrame\n",
    "for label in labels:\n",
    "    # Group by 'spectrogram_id' and sum the votes for the current label\n",
    "    group = train_df[f'{label}_vote'].groupby(train_df['spectrogram_id']).sum()\n",
    "\n",
    "    # Create a DataFrame from the grouped data\n",
    "    label_vote_sum = pd.DataFrame({'spectrogram_id': group.index, f'{label}_vote_sum': group.values})\n",
    "\n",
    "    # Initialize train_feats with the first label or merge subsequent labels\n",
    "    if label == 'seizure':\n",
    "        train_feats = label_vote_sum\n",
    "    else:\n",
    "        train_feats = train_feats.merge(label_vote_sum, on='spectrogram_id', how='left')\n",
    "\n",
    "# Add a column to sum all votes\n",
    "train_feats['total_vote'] = 0\n",
    "for label in labels:\n",
    "    train_feats['total_vote'] += train_feats[f'{label}_vote_sum']\n",
    "\n",
    "# Calculate and store the normalized vote for each label\n",
    "for label in labels:\n",
    "    train_feats[f'{label}_vote'] = train_feats[f'{label}_vote_sum'] / train_feats['total_vote']\n",
    "\n",
    "# Select relevant columns for the training features\n",
    "choose_cols = ['spectrogram_id']\n",
    "for label in labels:\n",
    "    choose_cols += [f'{label}_vote']\n",
    "train_feats = train_feats[choose_cols]\n",
    "\n",
    "# Add a column with the path to the spectrogram files\n",
    "train_feats['path'] = train_feats['spectrogram_id'].apply(lambda x: \"/kaggle/input/hms-harmful-brain-activity-classification/train_spectrograms/\" + str(x) + \".parquet\")\n",
    "\n",
    "# Reclaim memory no longer in use.\n",
    "gc.collect()"
   ]
  },
  {
   "cell_type": "markdown",
   "id": "87fd3c44",
   "metadata": {
    "papermill": {
     "duration": 0.003651,
     "end_time": "2024-03-06T13:39:44.860948",
     "exception": false,
     "start_time": "2024-03-06T13:39:44.857297",
     "status": "completed"
    },
    "tags": []
   },
   "source": [
    "## 🎰 Data Preprocessing"
   ]
  },
  {
   "cell_type": "code",
   "execution_count": 4,
   "id": "912f94cc",
   "metadata": {
    "execution": {
     "iopub.execute_input": "2024-03-06T13:39:44.869591Z",
     "iopub.status.busy": "2024-03-06T13:39:44.869083Z",
     "iopub.status.idle": "2024-03-06T13:39:44.876555Z",
     "shell.execute_reply": "2024-03-06T13:39:44.875752Z"
    },
    "papermill": {
     "duration": 0.013844,
     "end_time": "2024-03-06T13:39:44.878381",
     "exception": false,
     "start_time": "2024-03-06T13:39:44.864537",
     "status": "completed"
    },
    "tags": []
   },
   "outputs": [],
   "source": [
    "def get_batch(paths, batch_size=Config.batch_size):\n",
    "    # Set a small epsilon to avoid division by zero\n",
    "    eps = 1e-6\n",
    "\n",
    "    # Initialize a list to store batch data\n",
    "    batch_data = []\n",
    "\n",
    "    # Iterate over each path in the provided paths\n",
    "    for path in paths:\n",
    "        # Read data from parquet file\n",
    "        data = pd.read_parquet(path[0])\n",
    "\n",
    "        # Fill missing values, remove time column, and transpose\n",
    "        data = data.fillna(-1).values[:, 1:].T\n",
    "\n",
    "        # Clip values and apply logarithmic transformation\n",
    "        data = np.clip(data, np.exp(-6), np.exp(10))\n",
    "        data = np.log(data)\n",
    "\n",
    "        # Normalize the data\n",
    "        data_mean = data.mean(axis=(0, 1))\n",
    "        data_std = data.std(axis=(0, 1))\n",
    "        data = (data - data_mean) / (data_std + eps)\n",
    "\n",
    "        # Convert data to a PyTorch tensor and apply transformations\n",
    "        data_tensor = torch.unsqueeze(torch.Tensor(data), dim=0)\n",
    "        data = Config.image_transform(data_tensor)\n",
    "\n",
    "        # Append the processed data to the batch_data list\n",
    "        batch_data.append(data)\n",
    "\n",
    "    # Stack all the batch data into a single tensor\n",
    "    batch_data = torch.stack(batch_data)\n",
    "\n",
    "    # Return the batch data\n",
    "    return batch_data"
   ]
  },
  {
   "cell_type": "markdown",
   "id": "8bb5674e",
   "metadata": {
    "papermill": {
     "duration": 0.003384,
     "end_time": "2024-03-06T13:39:44.885443",
     "exception": false,
     "start_time": "2024-03-06T13:39:44.882059",
     "status": "completed"
    },
    "tags": []
   },
   "source": [
    "## 🤖 Model Training"
   ]
  },
  {
   "cell_type": "code",
   "execution_count": 5,
   "id": "11d7ebc6",
   "metadata": {
    "execution": {
     "iopub.execute_input": "2024-03-06T13:39:44.893937Z",
     "iopub.status.busy": "2024-03-06T13:39:44.893665Z",
     "iopub.status.idle": "2024-03-06T16:41:35.446478Z",
     "shell.execute_reply": "2024-03-06T16:41:35.445511Z"
    },
    "papermill": {
     "duration": 10910.570457,
     "end_time": "2024-03-06T16:41:35.459416",
     "exception": false,
     "start_time": "2024-03-06T13:39:44.888959",
     "status": "completed"
    },
    "tags": []
   },
   "outputs": [
    {
     "name": "stdout",
     "output_type": "stream",
     "text": [
      "Using device: cuda\n"
     ]
    },
    {
     "data": {
      "application/vnd.jupyter.widget-view+json": {
       "model_id": "e5f8131070e74eb6a1977fe8d0687476",
       "version_major": 2,
       "version_minor": 0
      },
      "text/plain": [
       "model.safetensors:   0%|          | 0.00/21.4M [00:00<?, ?B/s]"
      ]
     },
     "metadata": {},
     "output_type": "display_data"
    },
    {
     "name": "stdout",
     "output_type": "stream",
     "text": [
      "Starting training for fold 1\n",
      "Epoch 1: Train Loss = 0.81\n",
      "Epoch 1: Test Loss = 0.46\n",
      "Epoch 2: Train Loss = 0.45\n",
      "Epoch 2: Test Loss = 0.50\n",
      "Epoch 3: Train Loss = 0.36\n",
      "Epoch 3: Test Loss = 0.50\n",
      "Epoch 4: Train Loss = 0.30\n",
      "Epoch 4: Test Loss = 0.45\n",
      "Epoch 5: Train Loss = 0.22\n",
      "Epoch 5: Test Loss = 0.40\n",
      "Epoch 6: Train Loss = 0.16\n",
      "Epoch 6: Test Loss = 0.40\n",
      "Epoch 7: Train Loss = 0.11\n",
      "Epoch 7: Test Loss = 0.37\n",
      "Epoch 8: Train Loss = 0.09\n",
      "Epoch 8: Test Loss = 0.37\n",
      "Epoch 9: Train Loss = 0.07\n",
      "Epoch 9: Test Loss = 0.37\n",
      "Fold 1 Best Test Loss: 0.37\n",
      "Starting training for fold 2\n",
      "Epoch 1: Train Loss = 0.76\n",
      "Epoch 1: Test Loss = 0.49\n",
      "Epoch 2: Train Loss = 0.46\n",
      "Epoch 2: Test Loss = 0.47\n",
      "Epoch 3: Train Loss = 0.37\n",
      "Epoch 3: Test Loss = 0.45\n",
      "Epoch 4: Train Loss = 0.30\n",
      "Epoch 4: Test Loss = 0.42\n",
      "Epoch 5: Train Loss = 0.23\n",
      "Epoch 5: Test Loss = 0.42\n",
      "Epoch 6: Train Loss = 0.16\n",
      "Epoch 6: Test Loss = 0.46\n",
      "Epoch 7: Train Loss = 0.12\n",
      "Epoch 7: Test Loss = 0.38\n",
      "Epoch 8: Train Loss = 0.09\n",
      "Epoch 8: Test Loss = 0.39\n",
      "Epoch 9: Train Loss = 0.07\n",
      "Epoch 9: Test Loss = 0.38\n",
      "Fold 2 Best Test Loss: 0.38\n",
      "Starting training for fold 3\n",
      "Epoch 1: Train Loss = 0.77\n",
      "Epoch 1: Test Loss = 0.52\n",
      "Epoch 2: Train Loss = 0.44\n",
      "Epoch 2: Test Loss = 0.46\n",
      "Epoch 3: Train Loss = 0.36\n",
      "Epoch 3: Test Loss = 0.46\n",
      "Epoch 4: Train Loss = 0.29\n",
      "Epoch 4: Test Loss = 0.44\n",
      "Epoch 5: Train Loss = 0.22\n",
      "Epoch 5: Test Loss = 0.45\n",
      "Epoch 6: Train Loss = 0.16\n",
      "Epoch 6: Test Loss = 0.42\n",
      "Epoch 7: Train Loss = 0.12\n",
      "Epoch 7: Test Loss = 0.41\n",
      "Epoch 8: Train Loss = 0.09\n",
      "Epoch 8: Test Loss = 0.41\n",
      "Epoch 9: Train Loss = 0.07\n",
      "Epoch 9: Test Loss = 0.41\n",
      "Fold 3 Best Test Loss: 0.41\n",
      "Starting training for fold 4\n",
      "Epoch 1: Train Loss = 0.78\n",
      "Epoch 1: Test Loss = 0.49\n",
      "Epoch 2: Train Loss = 0.46\n",
      "Epoch 2: Test Loss = 0.47\n",
      "Epoch 3: Train Loss = 0.37\n",
      "Epoch 3: Test Loss = 0.49\n",
      "Epoch 4: Train Loss = 0.29\n",
      "Epoch 4: Test Loss = 0.44\n",
      "Epoch 5: Train Loss = 0.22\n",
      "Epoch 5: Test Loss = 0.46\n",
      "Epoch 6: Train Loss = 0.16\n",
      "Epoch 6: Test Loss = 0.41\n",
      "Epoch 7: Train Loss = 0.12\n",
      "Epoch 7: Test Loss = 0.40\n",
      "Epoch 8: Train Loss = 0.09\n",
      "Epoch 8: Test Loss = 0.39\n",
      "Epoch 9: Train Loss = 0.07\n",
      "Epoch 9: Test Loss = 0.40\n",
      "Fold 4 Best Test Loss: 0.39\n",
      "Starting training for fold 5\n",
      "Epoch 1: Train Loss = 0.76\n",
      "Epoch 1: Test Loss = 0.53\n",
      "Epoch 2: Train Loss = 0.46\n",
      "Epoch 2: Test Loss = 0.46\n",
      "Epoch 3: Train Loss = 0.36\n",
      "Epoch 3: Test Loss = 0.48\n",
      "Epoch 4: Train Loss = 0.29\n",
      "Epoch 4: Test Loss = 0.44\n",
      "Epoch 5: Train Loss = 0.22\n",
      "Epoch 5: Test Loss = 0.49\n",
      "Epoch 6: Train Loss = 0.16\n",
      "Epoch 6: Test Loss = 0.40\n",
      "Epoch 7: Train Loss = 0.12\n",
      "Epoch 7: Test Loss = 0.40\n",
      "Epoch 8: Train Loss = 0.09\n",
      "Epoch 8: Test Loss = 0.39\n",
      "Epoch 9: Train Loss = 0.07\n",
      "Epoch 9: Test Loss = 0.41\n",
      "Fold 5 Best Test Loss: 0.39\n"
     ]
    }
   ],
   "source": [
    "# Determine device availability\n",
    "device = 'cuda' if torch.cuda.is_available() else 'cpu'\n",
    "print(f\"Using device: {device}\")\n",
    "\n",
    "# Assuming train_feats is defined and contains the training features and labels\n",
    "total_idx = np.arange(len(train_feats))\n",
    "np.random.shuffle(total_idx)\n",
    "\n",
    "gc.collect()\n",
    "\n",
    "# Cross-validation loop\n",
    "for fold in range(Config.num_folds):\n",
    "    # Split data into train and test sets for this fold\n",
    "    test_idx = total_idx[fold * len(total_idx) // Config.num_folds:(fold + 1) * len(total_idx) // Config.num_folds]\n",
    "    train_idx = np.array([idx for idx in total_idx if idx not in test_idx])\n",
    "\n",
    "    # Initialize EfficientNet-B0 model with pretrained weights\n",
    "    model = timm.create_model('efficientnet_b0', pretrained=True, num_classes=6, in_chans=1)\n",
    "    model.to(device)\n",
    "\n",
    "    optimizer = optim.AdamW(model.parameters(), lr=0.001, betas=(0.5, 0.999), weight_decay=0.01)\n",
    "    scheduler = CosineAnnealingLR(optimizer, T_max=Config.num_epochs)\n",
    "\n",
    "    best_test_loss = float('inf')\n",
    "    train_losses = []\n",
    "    test_losses = []\n",
    "\n",
    "    print(f\"Starting training for fold {fold + 1}\")\n",
    "\n",
    "    # Training loop\n",
    "    for epoch in range(Config.num_epochs):\n",
    "        model.train()\n",
    "        train_loss = []\n",
    "        random_num = np.arange(len(train_idx))\n",
    "        np.random.shuffle(random_num)\n",
    "        train_idx = train_idx[random_num]\n",
    "\n",
    "        # Iterate over batches in the training set\n",
    "        for idx in range(0, len(train_idx), Config.batch_size):\n",
    "            optimizer.zero_grad()\n",
    "            train_idx1 = train_idx[idx:idx + Config.batch_size]\n",
    "            train_X1_path = train_feats[['path']].iloc[train_idx1].values\n",
    "            train_X1 = get_batch(train_X1_path, batch_size=Config.batch_size)\n",
    "            train_y1 = train_feats[['seizure_vote', 'lpd_vote', 'gpd_vote', 'lrda_vote', 'grda_vote', 'other_vote']].iloc[train_idx1].values\n",
    "            train_y1 = torch.Tensor(train_y1)\n",
    "\n",
    "            train_pred = model(train_X1.to(device))\n",
    "            loss = KL_loss(train_y1.to(device), train_pred)\n",
    "            loss.backward()\n",
    "            optimizer.step()\n",
    "            train_loss.append(loss.item())\n",
    "\n",
    "        epoch_train_loss = np.mean(train_loss)\n",
    "        train_losses.append(epoch_train_loss)\n",
    "        print(f\"Epoch {epoch + 1}: Train Loss = {epoch_train_loss:.2f}\")\n",
    "\n",
    "        scheduler.step()\n",
    "\n",
    "        # Evaluation loop\n",
    "        model.eval()\n",
    "        test_loss = []\n",
    "        with torch.no_grad():\n",
    "            for idx in range(0, len(test_idx), Config.batch_size):\n",
    "                test_idx1 = test_idx[idx:idx + Config.batch_size]\n",
    "                test_X1_path = train_feats[['path']].iloc[test_idx1].values\n",
    "                test_X1 = get_batch(test_X1_path, batch_size=Config.batch_size)\n",
    "                test_y1 = train_feats[['seizure_vote', 'lpd_vote', 'gpd_vote', 'lrda_vote', 'grda_vote', 'other_vote']].iloc[test_idx1].values\n",
    "                test_y1 = torch.Tensor(test_y1)\n",
    "\n",
    "                test_pred = model(test_X1.to(device))\n",
    "                loss = KL_loss(test_y1.to(device), test_pred)\n",
    "                test_loss.append(loss.item())\n",
    "\n",
    "        epoch_test_loss = np.mean(test_loss)\n",
    "        test_losses.append(epoch_test_loss)\n",
    "        print(f\"Epoch {epoch + 1}: Test Loss = {epoch_test_loss:.2f}\")\n",
    "\n",
    "        # Save the model if it has the best test loss so far\n",
    "        if epoch_test_loss < best_test_loss:\n",
    "            best_test_loss = epoch_test_loss\n",
    "            torch.save(model.state_dict(), f\"efficientnet_b0_fold{fold}.pth\")\n",
    "\n",
    "        gc.collect()\n",
    "\n",
    "    print(f\"Fold {fold + 1} Best Test Loss: {best_test_loss:.2f}\")"
   ]
  }
 ],
 "metadata": {
  "kaggle": {
   "accelerator": "gpu",
   "dataSources": [
    {
     "databundleVersionId": 7469972,
     "sourceId": 59093,
     "sourceType": "competition"
    }
   ],
   "dockerImageVersionId": 30636,
   "isGpuEnabled": true,
   "isInternetEnabled": true,
   "language": "python",
   "sourceType": "notebook"
  },
  "kernelspec": {
   "display_name": "Python 3",
   "language": "python",
   "name": "python3"
  },
  "language_info": {
   "codemirror_mode": {
    "name": "ipython",
    "version": 3
   },
   "file_extension": ".py",
   "mimetype": "text/x-python",
   "name": "python",
   "nbconvert_exporter": "python",
   "pygments_lexer": "ipython3",
   "version": "3.10.12"
  },
  "papermill": {
   "default_parameters": {},
   "duration": 10922.930955,
   "end_time": "2024-03-06T16:41:37.656660",
   "environment_variables": {},
   "exception": null,
   "input_path": "__notebook__.ipynb",
   "output_path": "__notebook__.ipynb",
   "parameters": {},
   "start_time": "2024-03-06T13:39:34.725705",
   "version": "2.4.0"
  },
  "widgets": {
   "application/vnd.jupyter.widget-state+json": {
    "state": {
     "1d4d8a54e1e84d8e9915c36dfcad484b": {
      "model_module": "@jupyter-widgets/controls",
      "model_module_version": "1.5.0",
      "model_name": "HTMLModel",
      "state": {
       "_dom_classes": [],
       "_model_module": "@jupyter-widgets/controls",
       "_model_module_version": "1.5.0",
       "_model_name": "HTMLModel",
       "_view_count": null,
       "_view_module": "@jupyter-widgets/controls",
       "_view_module_version": "1.5.0",
       "_view_name": "HTMLView",
       "description": "",
       "description_tooltip": null,
       "layout": "IPY_MODEL_4fb526b4233644c0b6a0d850756377e5",
       "placeholder": "​",
       "style": "IPY_MODEL_ee73dc878cfc4fd3be6f4fb1abfd712f",
       "value": "model.safetensors: 100%"
      }
     },
     "27615ee809c44be4a41b2d319022c107": {
      "model_module": "@jupyter-widgets/controls",
      "model_module_version": "1.5.0",
      "model_name": "FloatProgressModel",
      "state": {
       "_dom_classes": [],
       "_model_module": "@jupyter-widgets/controls",
       "_model_module_version": "1.5.0",
       "_model_name": "FloatProgressModel",
       "_view_count": null,
       "_view_module": "@jupyter-widgets/controls",
       "_view_module_version": "1.5.0",
       "_view_name": "ProgressView",
       "bar_style": "success",
       "description": "",
       "description_tooltip": null,
       "layout": "IPY_MODEL_5f88afd56f734fae83b5f2b22a571aa4",
       "max": 21355344.0,
       "min": 0.0,
       "orientation": "horizontal",
       "style": "IPY_MODEL_f36fc3292f0d4350b9cfcd75f7d6769b",
       "value": 21355344.0
      }
     },
     "4fb526b4233644c0b6a0d850756377e5": {
      "model_module": "@jupyter-widgets/base",
      "model_module_version": "1.2.0",
      "model_name": "LayoutModel",
      "state": {
       "_model_module": "@jupyter-widgets/base",
       "_model_module_version": "1.2.0",
       "_model_name": "LayoutModel",
       "_view_count": null,
       "_view_module": "@jupyter-widgets/base",
       "_view_module_version": "1.2.0",
       "_view_name": "LayoutView",
       "align_content": null,
       "align_items": null,
       "align_self": null,
       "border": null,
       "bottom": null,
       "display": null,
       "flex": null,
       "flex_flow": null,
       "grid_area": null,
       "grid_auto_columns": null,
       "grid_auto_flow": null,
       "grid_auto_rows": null,
       "grid_column": null,
       "grid_gap": null,
       "grid_row": null,
       "grid_template_areas": null,
       "grid_template_columns": null,
       "grid_template_rows": null,
       "height": null,
       "justify_content": null,
       "justify_items": null,
       "left": null,
       "margin": null,
       "max_height": null,
       "max_width": null,
       "min_height": null,
       "min_width": null,
       "object_fit": null,
       "object_position": null,
       "order": null,
       "overflow": null,
       "overflow_x": null,
       "overflow_y": null,
       "padding": null,
       "right": null,
       "top": null,
       "visibility": null,
       "width": null
      }
     },
     "5f88afd56f734fae83b5f2b22a571aa4": {
      "model_module": "@jupyter-widgets/base",
      "model_module_version": "1.2.0",
      "model_name": "LayoutModel",
      "state": {
       "_model_module": "@jupyter-widgets/base",
       "_model_module_version": "1.2.0",
       "_model_name": "LayoutModel",
       "_view_count": null,
       "_view_module": "@jupyter-widgets/base",
       "_view_module_version": "1.2.0",
       "_view_name": "LayoutView",
       "align_content": null,
       "align_items": null,
       "align_self": null,
       "border": null,
       "bottom": null,
       "display": null,
       "flex": null,
       "flex_flow": null,
       "grid_area": null,
       "grid_auto_columns": null,
       "grid_auto_flow": null,
       "grid_auto_rows": null,
       "grid_column": null,
       "grid_gap": null,
       "grid_row": null,
       "grid_template_areas": null,
       "grid_template_columns": null,
       "grid_template_rows": null,
       "height": null,
       "justify_content": null,
       "justify_items": null,
       "left": null,
       "margin": null,
       "max_height": null,
       "max_width": null,
       "min_height": null,
       "min_width": null,
       "object_fit": null,
       "object_position": null,
       "order": null,
       "overflow": null,
       "overflow_x": null,
       "overflow_y": null,
       "padding": null,
       "right": null,
       "top": null,
       "visibility": null,
       "width": null
      }
     },
     "687bdd32435044c191147d2b3243cc70": {
      "model_module": "@jupyter-widgets/base",
      "model_module_version": "1.2.0",
      "model_name": "LayoutModel",
      "state": {
       "_model_module": "@jupyter-widgets/base",
       "_model_module_version": "1.2.0",
       "_model_name": "LayoutModel",
       "_view_count": null,
       "_view_module": "@jupyter-widgets/base",
       "_view_module_version": "1.2.0",
       "_view_name": "LayoutView",
       "align_content": null,
       "align_items": null,
       "align_self": null,
       "border": null,
       "bottom": null,
       "display": null,
       "flex": null,
       "flex_flow": null,
       "grid_area": null,
       "grid_auto_columns": null,
       "grid_auto_flow": null,
       "grid_auto_rows": null,
       "grid_column": null,
       "grid_gap": null,
       "grid_row": null,
       "grid_template_areas": null,
       "grid_template_columns": null,
       "grid_template_rows": null,
       "height": null,
       "justify_content": null,
       "justify_items": null,
       "left": null,
       "margin": null,
       "max_height": null,
       "max_width": null,
       "min_height": null,
       "min_width": null,
       "object_fit": null,
       "object_position": null,
       "order": null,
       "overflow": null,
       "overflow_x": null,
       "overflow_y": null,
       "padding": null,
       "right": null,
       "top": null,
       "visibility": null,
       "width": null
      }
     },
     "7ad0d65b05d64b6484db345777f9b96a": {
      "model_module": "@jupyter-widgets/controls",
      "model_module_version": "1.5.0",
      "model_name": "DescriptionStyleModel",
      "state": {
       "_model_module": "@jupyter-widgets/controls",
       "_model_module_version": "1.5.0",
       "_model_name": "DescriptionStyleModel",
       "_view_count": null,
       "_view_module": "@jupyter-widgets/base",
       "_view_module_version": "1.2.0",
       "_view_name": "StyleView",
       "description_width": ""
      }
     },
     "dd65a4f4c9044bcd9a004945aef639bb": {
      "model_module": "@jupyter-widgets/base",
      "model_module_version": "1.2.0",
      "model_name": "LayoutModel",
      "state": {
       "_model_module": "@jupyter-widgets/base",
       "_model_module_version": "1.2.0",
       "_model_name": "LayoutModel",
       "_view_count": null,
       "_view_module": "@jupyter-widgets/base",
       "_view_module_version": "1.2.0",
       "_view_name": "LayoutView",
       "align_content": null,
       "align_items": null,
       "align_self": null,
       "border": null,
       "bottom": null,
       "display": null,
       "flex": null,
       "flex_flow": null,
       "grid_area": null,
       "grid_auto_columns": null,
       "grid_auto_flow": null,
       "grid_auto_rows": null,
       "grid_column": null,
       "grid_gap": null,
       "grid_row": null,
       "grid_template_areas": null,
       "grid_template_columns": null,
       "grid_template_rows": null,
       "height": null,
       "justify_content": null,
       "justify_items": null,
       "left": null,
       "margin": null,
       "max_height": null,
       "max_width": null,
       "min_height": null,
       "min_width": null,
       "object_fit": null,
       "object_position": null,
       "order": null,
       "overflow": null,
       "overflow_x": null,
       "overflow_y": null,
       "padding": null,
       "right": null,
       "top": null,
       "visibility": null,
       "width": null
      }
     },
     "e5f8131070e74eb6a1977fe8d0687476": {
      "model_module": "@jupyter-widgets/controls",
      "model_module_version": "1.5.0",
      "model_name": "HBoxModel",
      "state": {
       "_dom_classes": [],
       "_model_module": "@jupyter-widgets/controls",
       "_model_module_version": "1.5.0",
       "_model_name": "HBoxModel",
       "_view_count": null,
       "_view_module": "@jupyter-widgets/controls",
       "_view_module_version": "1.5.0",
       "_view_name": "HBoxView",
       "box_style": "",
       "children": [
        "IPY_MODEL_1d4d8a54e1e84d8e9915c36dfcad484b",
        "IPY_MODEL_27615ee809c44be4a41b2d319022c107",
        "IPY_MODEL_f20c8c3bf27b4ea49a8894a2bb9283d8"
       ],
       "layout": "IPY_MODEL_dd65a4f4c9044bcd9a004945aef639bb"
      }
     },
     "ee73dc878cfc4fd3be6f4fb1abfd712f": {
      "model_module": "@jupyter-widgets/controls",
      "model_module_version": "1.5.0",
      "model_name": "DescriptionStyleModel",
      "state": {
       "_model_module": "@jupyter-widgets/controls",
       "_model_module_version": "1.5.0",
       "_model_name": "DescriptionStyleModel",
       "_view_count": null,
       "_view_module": "@jupyter-widgets/base",
       "_view_module_version": "1.2.0",
       "_view_name": "StyleView",
       "description_width": ""
      }
     },
     "f20c8c3bf27b4ea49a8894a2bb9283d8": {
      "model_module": "@jupyter-widgets/controls",
      "model_module_version": "1.5.0",
      "model_name": "HTMLModel",
      "state": {
       "_dom_classes": [],
       "_model_module": "@jupyter-widgets/controls",
       "_model_module_version": "1.5.0",
       "_model_name": "HTMLModel",
       "_view_count": null,
       "_view_module": "@jupyter-widgets/controls",
       "_view_module_version": "1.5.0",
       "_view_name": "HTMLView",
       "description": "",
       "description_tooltip": null,
       "layout": "IPY_MODEL_687bdd32435044c191147d2b3243cc70",
       "placeholder": "​",
       "style": "IPY_MODEL_7ad0d65b05d64b6484db345777f9b96a",
       "value": " 21.4M/21.4M [00:00&lt;00:00, 42.0MB/s]"
      }
     },
     "f36fc3292f0d4350b9cfcd75f7d6769b": {
      "model_module": "@jupyter-widgets/controls",
      "model_module_version": "1.5.0",
      "model_name": "ProgressStyleModel",
      "state": {
       "_model_module": "@jupyter-widgets/controls",
       "_model_module_version": "1.5.0",
       "_model_name": "ProgressStyleModel",
       "_view_count": null,
       "_view_module": "@jupyter-widgets/base",
       "_view_module_version": "1.2.0",
       "_view_name": "StyleView",
       "bar_color": null,
       "description_width": ""
      }
     }
    },
    "version_major": 2,
    "version_minor": 0
   }
  }
 },
 "nbformat": 4,
 "nbformat_minor": 5
}
