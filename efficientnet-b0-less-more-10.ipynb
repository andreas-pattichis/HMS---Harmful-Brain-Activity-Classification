{
 "cells": [
  {
   "cell_type": "code",
   "execution_count": 1,
   "id": "8bce87a6",
   "metadata": {
    "_cell_guid": "b1076dfc-b9ad-4769-8c92-a6c4dae69d19",
    "_uuid": "8f2839f25d086af736a60e9eeb907d3b93b6e0e5",
    "execution": {
     "iopub.execute_input": "2024-03-10T20:17:35.273078Z",
     "iopub.status.busy": "2024-03-10T20:17:35.272721Z",
     "iopub.status.idle": "2024-03-10T20:17:45.005543Z",
     "shell.execute_reply": "2024-03-10T20:17:45.004315Z"
    },
    "papermill": {
     "duration": 9.741179,
     "end_time": "2024-03-10T20:17:45.007851",
     "exception": false,
     "start_time": "2024-03-10T20:17:35.266672",
     "status": "completed"
    },
    "tags": []
   },
   "outputs": [
    {
     "data": {
      "text/plain": [
       "16"
      ]
     },
     "execution_count": 1,
     "metadata": {},
     "output_type": "execute_result"
    }
   ],
   "source": [
    "# Importing essential libraries\n",
    "import gc\n",
    "import os\n",
    "import random\n",
    "import warnings\n",
    "import numpy as np\n",
    "import pandas as pd\n",
    "from IPython.display import display\n",
    "\n",
    "# PyTorch for deep learning\n",
    "import timm\n",
    "import torch\n",
    "import torch.nn as nn  \n",
    "import torch.optim as optim\n",
    "import torch.nn.functional as F\n",
    "\n",
    "# torchvision for image processing and augmentation\n",
    "import torchvision.transforms as transforms\n",
    "\n",
    "# Suppressing minor warnings to keep the output clean\n",
    "warnings.filterwarnings('ignore', category=Warning)\n",
    "\n",
    "# Reclaim memory no longer in use.\n",
    "gc.collect()"
   ]
  },
  {
   "cell_type": "code",
   "execution_count": 2,
   "id": "8e11a0de",
   "metadata": {
    "execution": {
     "iopub.execute_input": "2024-03-10T20:17:45.017090Z",
     "iopub.status.busy": "2024-03-10T20:17:45.016249Z",
     "iopub.status.idle": "2024-03-10T20:17:45.021553Z",
     "shell.execute_reply": "2024-03-10T20:17:45.020460Z"
    },
    "papermill": {
     "duration": 0.01207,
     "end_time": "2024-03-10T20:17:45.023803",
     "exception": false,
     "start_time": "2024-03-10T20:17:45.011733",
     "status": "completed"
    },
    "tags": []
   },
   "outputs": [],
   "source": [
    "class Config:\n",
    "    seed=42\n",
    "    image_transform=transforms.Resize((512, 512))\n",
    "    num_folds=4"
   ]
  },
  {
   "cell_type": "code",
   "execution_count": 3,
   "id": "6ffe3b09",
   "metadata": {
    "execution": {
     "iopub.execute_input": "2024-03-10T20:17:45.032299Z",
     "iopub.status.busy": "2024-03-10T20:17:45.031926Z",
     "iopub.status.idle": "2024-03-10T20:17:48.147595Z",
     "shell.execute_reply": "2024-03-10T20:17:48.146363Z"
    },
    "papermill": {
     "duration": 3.122891,
     "end_time": "2024-03-10T20:17:48.150176",
     "exception": false,
     "start_time": "2024-03-10T20:17:45.027285",
     "status": "completed"
    },
    "tags": []
   },
   "outputs": [
    {
     "data": {
      "text/plain": [
       "36"
      ]
     },
     "execution_count": 3,
     "metadata": {},
     "output_type": "execute_result"
    }
   ],
   "source": [
    "models_less10 = []\n",
    "\n",
    "# Load EfficientNetB0\n",
    "for j in range(Config.num_folds):\n",
    "    # Create the same model architecture as during training\n",
    "    model_effnet_b0 = timm.create_model('efficientnet_b0', pretrained=False, num_classes=6, in_chans=1)\n",
    "    # Load the trained weights from the corresponding file\n",
    "    model_effnet_b0.load_state_dict(torch.load(f'/kaggle/input/less-than-10/pytorch/models_less10/1/efficientnet_b0_fold{j}.pth', map_location=torch.device('cpu')))\n",
    "    # Append the loaded model to the models list\n",
    "    models_less10.append(model_effnet_b0)\n",
    "gc.collect()\n",
    "\n",
    "models_more10 = []\n",
    "# Load EfficientNetB0\n",
    "for j in range(Config.num_folds):\n",
    "    # Create the same model architecture as during training\n",
    "    model_effnet_b0 = timm.create_model('efficientnet_b0', pretrained=False, num_classes=6, in_chans=1)\n",
    "    # Load the trained weights from the corresponding file\n",
    "    model_effnet_b0.load_state_dict(torch.load(f'/kaggle/input/more-than-10/pytorch/models_more10/1/efficientnet_b0_fold{j}.pth', map_location=torch.device('cpu')))\n",
    "    # Append the loaded model to the models list\n",
    "    models_more10.append(model_effnet_b0)\n",
    "gc.collect()\n"
   ]
  },
  {
   "cell_type": "code",
   "execution_count": 4,
   "id": "9524a90f",
   "metadata": {
    "execution": {
     "iopub.execute_input": "2024-03-10T20:17:48.159372Z",
     "iopub.status.busy": "2024-03-10T20:17:48.159000Z",
     "iopub.status.idle": "2024-03-10T20:17:48.408219Z",
     "shell.execute_reply": "2024-03-10T20:17:48.407100Z"
    },
    "papermill": {
     "duration": 0.256681,
     "end_time": "2024-03-10T20:17:48.410651",
     "exception": false,
     "start_time": "2024-03-10T20:17:48.153970",
     "status": "completed"
    },
    "tags": []
   },
   "outputs": [
    {
     "data": {
      "text/html": [
       "<div>\n",
       "<style scoped>\n",
       "    .dataframe tbody tr th:only-of-type {\n",
       "        vertical-align: middle;\n",
       "    }\n",
       "\n",
       "    .dataframe tbody tr th {\n",
       "        vertical-align: top;\n",
       "    }\n",
       "\n",
       "    .dataframe thead th {\n",
       "        text-align: right;\n",
       "    }\n",
       "</style>\n",
       "<table border=\"1\" class=\"dataframe\">\n",
       "  <thead>\n",
       "    <tr style=\"text-align: right;\">\n",
       "      <th></th>\n",
       "      <th>eeg_id</th>\n",
       "      <th>seizure_vote</th>\n",
       "      <th>lpd_vote</th>\n",
       "      <th>gpd_vote</th>\n",
       "      <th>lrda_vote</th>\n",
       "      <th>grda_vote</th>\n",
       "      <th>other_vote</th>\n",
       "      <th>spectrogram_id</th>\n",
       "      <th>patient_id</th>\n",
       "      <th>path</th>\n",
       "    </tr>\n",
       "  </thead>\n",
       "  <tbody>\n",
       "    <tr>\n",
       "      <th>0</th>\n",
       "      <td>3911565283</td>\n",
       "      <td>0.166667</td>\n",
       "      <td>0.166667</td>\n",
       "      <td>0.166667</td>\n",
       "      <td>0.166667</td>\n",
       "      <td>0.166667</td>\n",
       "      <td>0.166667</td>\n",
       "      <td>853520</td>\n",
       "      <td>6885</td>\n",
       "      <td>/kaggle/input/hms-harmful-brain-activity-class...</td>\n",
       "    </tr>\n",
       "  </tbody>\n",
       "</table>\n",
       "</div>"
      ],
      "text/plain": [
       "       eeg_id  seizure_vote  lpd_vote  gpd_vote  lrda_vote  grda_vote  \\\n",
       "0  3911565283      0.166667  0.166667  0.166667   0.166667   0.166667   \n",
       "\n",
       "   other_vote  spectrogram_id  patient_id  \\\n",
       "0    0.166667          853520        6885   \n",
       "\n",
       "                                                path  \n",
       "0  /kaggle/input/hms-harmful-brain-activity-class...  "
      ]
     },
     "metadata": {},
     "output_type": "display_data"
    },
    {
     "data": {
      "text/plain": [
       "0"
      ]
     },
     "execution_count": 4,
     "metadata": {},
     "output_type": "execute_result"
    }
   ],
   "source": [
    "# Load test data and sample submission dataframe\n",
    "test_df = pd.read_csv(\"/kaggle/input/hms-harmful-brain-activity-classification/test.csv\")\n",
    "submission = pd.read_csv(\"/kaggle/input/hms-harmful-brain-activity-classification/sample_submission.csv\")\n",
    "\n",
    "# Merge the submission dataframe with the test data on EEG IDs\n",
    "submission = submission.merge(test_df, on='eeg_id', how='left')\n",
    "\n",
    "# Generate file paths for each spectrogram based on the EEG data in the submission dataframe\n",
    "submission['path'] = submission['spectrogram_id'].apply(lambda x: f\"/kaggle/input/hms-harmful-brain-activity-classification/test_spectrograms/{x}.parquet\")\n",
    "\n",
    "# Display the first few rows of the submission dataframe\n",
    "display(submission.head())\n",
    "\n",
    "# Reclaim memory no longer in use\n",
    "gc.collect()"
   ]
  },
  {
   "cell_type": "code",
   "execution_count": 5,
   "id": "561782df",
   "metadata": {
    "execution": {
     "iopub.execute_input": "2024-03-10T20:17:48.420911Z",
     "iopub.status.busy": "2024-03-10T20:17:48.420537Z",
     "iopub.status.idle": "2024-03-10T20:17:50.250576Z",
     "shell.execute_reply": "2024-03-10T20:17:50.249439Z"
    },
    "papermill": {
     "duration": 1.838302,
     "end_time": "2024-03-10T20:17:50.253103",
     "exception": false,
     "start_time": "2024-03-10T20:17:48.414801",
     "status": "completed"
    },
    "tags": []
   },
   "outputs": [
    {
     "data": {
      "text/plain": [
       "0"
      ]
     },
     "execution_count": 5,
     "metadata": {},
     "output_type": "execute_result"
    }
   ],
   "source": [
    "# Define the weights for each model\n",
    "weight_less10 = 0.3\n",
    "weight_more10 = 0.7\n",
    "\n",
    "# Get file paths for test spectrograms\n",
    "paths = submission['path'].values\n",
    "test_preds = []\n",
    "\n",
    "# Generate predictions for each spectrogram using all models\n",
    "for path in paths:\n",
    "    eps = 1e-6\n",
    "    # Read and preprocess spectrogram data\n",
    "    data = pd.read_parquet(path)\n",
    "    data = data.fillna(-1).values[:, 1:].T\n",
    "    data = np.clip(data, np.exp(-6), np.exp(10))\n",
    "    data = np.log(data)\n",
    "    \n",
    "    # Normalize the data\n",
    "    data_mean = data.mean(axis=(0, 1))\n",
    "    data_std = data.std(axis=(0, 1))\n",
    "    data = (data - data_mean) / (data_std + eps)\n",
    "    data_tensor = torch.unsqueeze(torch.Tensor(data), dim=0)\n",
    "    data = Config.image_transform(data_tensor)\n",
    "\n",
    "    test_pred_less10 = []\n",
    "    test_pred_more10 = []\n",
    "    # Generate predictions using all models\n",
    "    for model_less, model_more in zip(models_less10, models_more10):\n",
    "        model_less.eval()\n",
    "        model_more.eval()\n",
    "        with torch.no_grad():\n",
    "            pred_less = F.softmax(model_less(data.unsqueeze(0)))[0]\n",
    "            pred_less = pred_less.detach().cpu().numpy()\n",
    "            pred_more = F.softmax(model_more(data.unsqueeze(0)))[0]\n",
    "            pred_less = pred_more.detach().cpu().numpy()\n",
    "        test_pred_less10.append(pred_less)\n",
    "        test_pred_more10.append(pred_more)\n",
    "        \n",
    "    # Combine predictions from all models using weighted voting\n",
    "    weighted_pred = weight_less10 * np.mean(test_pred_less10, axis=0) + \\\n",
    "                     weight_more10 * np.mean(test_pred_more10, axis=0)\n",
    "    \n",
    "    test_preds.append(weighted_pred)\n",
    "\n",
    "# Convert the list of predictions to a NumPy array for further processing\n",
    "test_preds = np.array(test_preds)\n",
    "\n",
    "# Reclaim memory no longer in use\n",
    "gc.collect()"
   ]
  },
  {
   "cell_type": "code",
   "execution_count": 6,
   "id": "8bb76e5e",
   "metadata": {
    "execution": {
     "iopub.execute_input": "2024-03-10T20:17:50.264554Z",
     "iopub.status.busy": "2024-03-10T20:17:50.264148Z",
     "iopub.status.idle": "2024-03-10T20:17:50.488440Z",
     "shell.execute_reply": "2024-03-10T20:17:50.487296Z"
    },
    "papermill": {
     "duration": 0.232932,
     "end_time": "2024-03-10T20:17:50.490824",
     "exception": false,
     "start_time": "2024-03-10T20:17:50.257892",
     "status": "completed"
    },
    "tags": []
   },
   "outputs": [
    {
     "data": {
      "text/html": [
       "<div>\n",
       "<style scoped>\n",
       "    .dataframe tbody tr th:only-of-type {\n",
       "        vertical-align: middle;\n",
       "    }\n",
       "\n",
       "    .dataframe tbody tr th {\n",
       "        vertical-align: top;\n",
       "    }\n",
       "\n",
       "    .dataframe thead th {\n",
       "        text-align: right;\n",
       "    }\n",
       "</style>\n",
       "<table border=\"1\" class=\"dataframe\">\n",
       "  <thead>\n",
       "    <tr style=\"text-align: right;\">\n",
       "      <th></th>\n",
       "      <th>eeg_id</th>\n",
       "      <th>seizure_vote</th>\n",
       "      <th>lpd_vote</th>\n",
       "      <th>gpd_vote</th>\n",
       "      <th>lrda_vote</th>\n",
       "      <th>grda_vote</th>\n",
       "      <th>other_vote</th>\n",
       "    </tr>\n",
       "  </thead>\n",
       "  <tbody>\n",
       "    <tr>\n",
       "      <th>0</th>\n",
       "      <td>3911565283</td>\n",
       "      <td>0.102981</td>\n",
       "      <td>0.19804</td>\n",
       "      <td>0.001352</td>\n",
       "      <td>0.419639</td>\n",
       "      <td>0.009529</td>\n",
       "      <td>0.268459</td>\n",
       "    </tr>\n",
       "  </tbody>\n",
       "</table>\n",
       "</div>"
      ],
      "text/plain": [
       "       eeg_id  seizure_vote  lpd_vote  gpd_vote  lrda_vote  grda_vote  \\\n",
       "0  3911565283      0.102981   0.19804  0.001352   0.419639   0.009529   \n",
       "\n",
       "   other_vote  \n",
       "0    0.268459  "
      ]
     },
     "metadata": {},
     "output_type": "display_data"
    },
    {
     "data": {
      "text/plain": [
       "0"
      ]
     },
     "execution_count": 6,
     "metadata": {},
     "output_type": "execute_result"
    }
   ],
   "source": [
    "# Load the sample submission file and update it with model predictions for each label\n",
    "submission = pd.read_csv(\"/kaggle/input/hms-harmful-brain-activity-classification/sample_submission.csv\")\n",
    "labels = ['seizure', 'lpd', 'gpd', 'lrda', 'grda', 'other']\n",
    "\n",
    "# Assign model predictions to respective columns in the submission DataFrame\n",
    "for i in range(len(labels)):\n",
    "    submission[f'{labels[i]}_vote'] = test_preds[:, i]\n",
    "\n",
    "# Save the updated DataFrame as the final submission file\n",
    "submission.to_csv(\"submission.csv\", index=None)\n",
    "\n",
    "# Display the first few rows of the submission file\n",
    "display(submission.head())\n",
    "\n",
    "# Reclaim memory no longer in use.\n",
    "gc.collect()"
   ]
  }
 ],
 "metadata": {
  "kaggle": {
   "accelerator": "none",
   "dataSources": [
    {
     "databundleVersionId": 7469972,
     "sourceId": 59093,
     "sourceType": "competition"
    },
    {
     "modelInstanceId": 12739,
     "sourceId": 15320,
     "sourceType": "modelInstanceVersion"
    },
    {
     "modelInstanceId": 12740,
     "sourceId": 15321,
     "sourceType": "modelInstanceVersion"
    }
   ],
   "dockerImageVersionId": 30664,
   "isGpuEnabled": false,
   "isInternetEnabled": false,
   "language": "python",
   "sourceType": "notebook"
  },
  "kernelspec": {
   "display_name": "Python 3",
   "language": "python",
   "name": "python3"
  },
  "language_info": {
   "codemirror_mode": {
    "name": "ipython",
    "version": 3
   },
   "file_extension": ".py",
   "mimetype": "text/x-python",
   "name": "python",
   "nbconvert_exporter": "python",
   "pygments_lexer": "ipython3",
   "version": "3.10.13"
  },
  "papermill": {
   "default_parameters": {},
   "duration": 19.69214,
   "end_time": "2024-03-10T20:17:52.018822",
   "environment_variables": {},
   "exception": null,
   "input_path": "__notebook__.ipynb",
   "output_path": "__notebook__.ipynb",
   "parameters": {},
   "start_time": "2024-03-10T20:17:32.326682",
   "version": "2.5.0"
  }
 },
 "nbformat": 4,
 "nbformat_minor": 5
}
