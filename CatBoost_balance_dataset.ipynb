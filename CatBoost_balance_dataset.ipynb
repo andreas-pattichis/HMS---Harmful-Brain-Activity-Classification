{
 "cells": [
  {
   "cell_type": "markdown",
   "id": "57480ca9",
   "metadata": {
    "papermill": {
     "duration": 0.010046,
     "end_time": "2024-02-22T12:05:07.454864",
     "exception": false,
     "start_time": "2024-02-22T12:05:07.444818",
     "status": "completed"
    },
    "tags": []
   },
   "source": [
    "# CatBoost Starter for Brain Comp\n",
    "This is a CatBoost starter notebook for Kaggle's brain comp. We use only spectrogram features. (The model does not use eeg features yet). We can improve the CV and LB score by engineering more (spectrogram and/or eeg) features and we can tune the CatBoost model (and/or use other ML DL models). Discussion about this starter is [here][2].\n",
    "\n",
    "In this notebook, we also compare five CV scores. Kaggle's sample submission uses equal predictions of 1/6 for all targets and achieves CV 1.46, LB 1.09. The best public notebook (on Jan 12th) [here][1] uses train means and achieves CV 1.26 LB 0.97. Our CatBoost model version 1 achieves CV 1.01 LB 0.81. Our CatBoost model version 2 achieves CV 0.82 LB 0.67. Then version 3 adds features from **EEG spectrograms** and achieves CV 0.74, wow! Let's see what LB is...\n",
    "\n",
    "# Exciting UPDATE!\n",
    "Version 3 of this notebook trains using **both** Kaggle spectrograms and my new **EEG spectrograms** from my Kaggle dataset [here][3] (which were created from my spectrogram starter [here][4]). We boost the CV score and (most likely) LB score by almost `+0.10`, wow! \n",
    "\n",
    "### Version Notes\n",
    "* Version 1 - Uses spectrogram features from 10 minute window `means`. Achieves CV 1.01, LB 0.81\n",
    "* Version 2 - Uses spectrogram features from 10 minute and 20 second `means` and `mins`. Achieves CV 0.82, LB 0.67\n",
    "* Version 3 - Uses Kaggle spectrogrms **plus EEG spectrograms**. Achieves 0.74, LB to be determined...\n",
    "\n",
    "[1]: https://www.kaggle.com/code/seshurajup/eda-train-csv\n",
    "[2]: https://www.kaggle.com/competitions/hms-harmful-brain-activity-classification/discussion/467576\n",
    "[3]: https://www.kaggle.com/datasets/cdeotte/brain-eeg-spectrograms\n",
    "[4]: https://www.kaggle.com/code/cdeotte/how-to-make-spectrogram-from-eeg"
   ]
  },
  {
   "cell_type": "markdown",
   "id": "b311b323",
   "metadata": {
    "papermill": {
     "duration": 0.009439,
     "end_time": "2024-02-22T12:05:07.473847",
     "exception": false,
     "start_time": "2024-02-22T12:05:07.464408",
     "status": "completed"
    },
    "tags": []
   },
   "source": [
    "# Load Libraries"
   ]
  },
  {
   "cell_type": "code",
   "execution_count": 1,
   "id": "6b3fb39b",
   "metadata": {
    "execution": {
     "iopub.execute_input": "2024-02-22T12:05:07.494080Z",
     "iopub.status.busy": "2024-02-22T12:05:07.493709Z",
     "iopub.status.idle": "2024-02-22T12:05:08.268064Z",
     "shell.execute_reply": "2024-02-22T12:05:08.267186Z"
    },
    "papermill": {
     "duration": 0.787317,
     "end_time": "2024-02-22T12:05:08.270461",
     "exception": false,
     "start_time": "2024-02-22T12:05:07.483144",
     "status": "completed"
    },
    "tags": []
   },
   "outputs": [],
   "source": [
    "import os, gc\n",
    "os.environ[\"CUDA_VISIBLE_DEVICES\"]=\"0,1\"\n",
    "import pandas as pd, numpy as np\n",
    "import matplotlib.pyplot as plt\n",
    "\n",
    "VER = 3"
   ]
  },
  {
   "cell_type": "markdown",
   "id": "6bcd7bca",
   "metadata": {
    "papermill": {
     "duration": 0.009233,
     "end_time": "2024-02-22T12:05:08.289392",
     "exception": false,
     "start_time": "2024-02-22T12:05:08.280159",
     "status": "completed"
    },
    "tags": []
   },
   "source": [
    "# Load Train Data"
   ]
  },
  {
   "cell_type": "code",
   "execution_count": 2,
   "id": "0b5890a6",
   "metadata": {
    "_cell_guid": "b1076dfc-b9ad-4769-8c92-a6c4dae69d19",
    "_uuid": "8f2839f25d086af736a60e9eeb907d3b93b6e0e5",
    "execution": {
     "iopub.execute_input": "2024-02-22T12:05:08.309378Z",
     "iopub.status.busy": "2024-02-22T12:05:08.309018Z",
     "iopub.status.idle": "2024-02-22T12:05:08.593304Z",
     "shell.execute_reply": "2024-02-22T12:05:08.592290Z"
    },
    "papermill": {
     "duration": 0.29685,
     "end_time": "2024-02-22T12:05:08.595523",
     "exception": false,
     "start_time": "2024-02-22T12:05:08.298673",
     "status": "completed"
    },
    "tags": []
   },
   "outputs": [
    {
     "name": "stdout",
     "output_type": "stream",
     "text": [
      "Train shape: (106800, 15)\n",
      "Targets ['seizure_vote', 'lpd_vote', 'gpd_vote', 'lrda_vote', 'grda_vote', 'other_vote']\n"
     ]
    },
    {
     "data": {
      "text/html": [
       "<div>\n",
       "<style scoped>\n",
       "    .dataframe tbody tr th:only-of-type {\n",
       "        vertical-align: middle;\n",
       "    }\n",
       "\n",
       "    .dataframe tbody tr th {\n",
       "        vertical-align: top;\n",
       "    }\n",
       "\n",
       "    .dataframe thead th {\n",
       "        text-align: right;\n",
       "    }\n",
       "</style>\n",
       "<table border=\"1\" class=\"dataframe\">\n",
       "  <thead>\n",
       "    <tr style=\"text-align: right;\">\n",
       "      <th></th>\n",
       "      <th>eeg_id</th>\n",
       "      <th>eeg_sub_id</th>\n",
       "      <th>eeg_label_offset_seconds</th>\n",
       "      <th>spectrogram_id</th>\n",
       "      <th>spectrogram_sub_id</th>\n",
       "      <th>spectrogram_label_offset_seconds</th>\n",
       "      <th>label_id</th>\n",
       "      <th>patient_id</th>\n",
       "      <th>expert_consensus</th>\n",
       "      <th>seizure_vote</th>\n",
       "      <th>lpd_vote</th>\n",
       "      <th>gpd_vote</th>\n",
       "      <th>lrda_vote</th>\n",
       "      <th>grda_vote</th>\n",
       "      <th>other_vote</th>\n",
       "    </tr>\n",
       "  </thead>\n",
       "  <tbody>\n",
       "    <tr>\n",
       "      <th>0</th>\n",
       "      <td>1628180742</td>\n",
       "      <td>0</td>\n",
       "      <td>0.0</td>\n",
       "      <td>353733</td>\n",
       "      <td>0</td>\n",
       "      <td>0.0</td>\n",
       "      <td>127492639</td>\n",
       "      <td>42516</td>\n",
       "      <td>Seizure</td>\n",
       "      <td>3</td>\n",
       "      <td>0</td>\n",
       "      <td>0</td>\n",
       "      <td>0</td>\n",
       "      <td>0</td>\n",
       "      <td>0</td>\n",
       "    </tr>\n",
       "    <tr>\n",
       "      <th>1</th>\n",
       "      <td>1628180742</td>\n",
       "      <td>1</td>\n",
       "      <td>6.0</td>\n",
       "      <td>353733</td>\n",
       "      <td>1</td>\n",
       "      <td>6.0</td>\n",
       "      <td>3887563113</td>\n",
       "      <td>42516</td>\n",
       "      <td>Seizure</td>\n",
       "      <td>3</td>\n",
       "      <td>0</td>\n",
       "      <td>0</td>\n",
       "      <td>0</td>\n",
       "      <td>0</td>\n",
       "      <td>0</td>\n",
       "    </tr>\n",
       "    <tr>\n",
       "      <th>2</th>\n",
       "      <td>1628180742</td>\n",
       "      <td>2</td>\n",
       "      <td>8.0</td>\n",
       "      <td>353733</td>\n",
       "      <td>2</td>\n",
       "      <td>8.0</td>\n",
       "      <td>1142670488</td>\n",
       "      <td>42516</td>\n",
       "      <td>Seizure</td>\n",
       "      <td>3</td>\n",
       "      <td>0</td>\n",
       "      <td>0</td>\n",
       "      <td>0</td>\n",
       "      <td>0</td>\n",
       "      <td>0</td>\n",
       "    </tr>\n",
       "    <tr>\n",
       "      <th>3</th>\n",
       "      <td>1628180742</td>\n",
       "      <td>3</td>\n",
       "      <td>18.0</td>\n",
       "      <td>353733</td>\n",
       "      <td>3</td>\n",
       "      <td>18.0</td>\n",
       "      <td>2718991173</td>\n",
       "      <td>42516</td>\n",
       "      <td>Seizure</td>\n",
       "      <td>3</td>\n",
       "      <td>0</td>\n",
       "      <td>0</td>\n",
       "      <td>0</td>\n",
       "      <td>0</td>\n",
       "      <td>0</td>\n",
       "    </tr>\n",
       "    <tr>\n",
       "      <th>4</th>\n",
       "      <td>1628180742</td>\n",
       "      <td>4</td>\n",
       "      <td>24.0</td>\n",
       "      <td>353733</td>\n",
       "      <td>4</td>\n",
       "      <td>24.0</td>\n",
       "      <td>3080632009</td>\n",
       "      <td>42516</td>\n",
       "      <td>Seizure</td>\n",
       "      <td>3</td>\n",
       "      <td>0</td>\n",
       "      <td>0</td>\n",
       "      <td>0</td>\n",
       "      <td>0</td>\n",
       "      <td>0</td>\n",
       "    </tr>\n",
       "  </tbody>\n",
       "</table>\n",
       "</div>"
      ],
      "text/plain": [
       "       eeg_id  eeg_sub_id  eeg_label_offset_seconds  spectrogram_id  \\\n",
       "0  1628180742           0                       0.0          353733   \n",
       "1  1628180742           1                       6.0          353733   \n",
       "2  1628180742           2                       8.0          353733   \n",
       "3  1628180742           3                      18.0          353733   \n",
       "4  1628180742           4                      24.0          353733   \n",
       "\n",
       "   spectrogram_sub_id  spectrogram_label_offset_seconds    label_id  \\\n",
       "0                   0                               0.0   127492639   \n",
       "1                   1                               6.0  3887563113   \n",
       "2                   2                               8.0  1142670488   \n",
       "3                   3                              18.0  2718991173   \n",
       "4                   4                              24.0  3080632009   \n",
       "\n",
       "   patient_id expert_consensus  seizure_vote  lpd_vote  gpd_vote  lrda_vote  \\\n",
       "0       42516          Seizure             3         0         0          0   \n",
       "1       42516          Seizure             3         0         0          0   \n",
       "2       42516          Seizure             3         0         0          0   \n",
       "3       42516          Seizure             3         0         0          0   \n",
       "4       42516          Seizure             3         0         0          0   \n",
       "\n",
       "   grda_vote  other_vote  \n",
       "0          0           0  \n",
       "1          0           0  \n",
       "2          0           0  \n",
       "3          0           0  \n",
       "4          0           0  "
      ]
     },
     "execution_count": 2,
     "metadata": {},
     "output_type": "execute_result"
    }
   ],
   "source": [
    "df = pd.read_csv('/kaggle/input/hms-harmful-brain-activity-classification/train.csv')\n",
    "TARGETS = df.columns[-6:]\n",
    "print('Train shape:', df.shape )\n",
    "print('Targets', list(TARGETS))\n",
    "df.head()"
   ]
  },
  {
   "cell_type": "markdown",
   "id": "c3bc37d3",
   "metadata": {
    "papermill": {
     "duration": 0.010047,
     "end_time": "2024-02-22T12:05:08.615901",
     "exception": false,
     "start_time": "2024-02-22T12:05:08.605854",
     "status": "completed"
    },
    "tags": []
   },
   "source": [
    "# Create Non-Overlapping Eeg Id Train Data\n",
    "The competition data description says that test data does not have multiple crops from the same `eeg_id`. Therefore we will train and validate using only 1 crop per `eeg_id`. There is a discussion about this [here][1].\n",
    "\n",
    "[1]: https://www.kaggle.com/competitions/hms-harmful-brain-activity-classification/discussion/467021"
   ]
  },
  {
   "cell_type": "code",
   "execution_count": 3,
   "id": "6bba0cf4",
   "metadata": {
    "execution": {
     "iopub.execute_input": "2024-02-22T12:05:08.637314Z",
     "iopub.status.busy": "2024-02-22T12:05:08.637009Z",
     "iopub.status.idle": "2024-02-22T12:05:08.738794Z",
     "shell.execute_reply": "2024-02-22T12:05:08.737890Z"
    },
    "papermill": {
     "duration": 0.114263,
     "end_time": "2024-02-22T12:05:08.740746",
     "exception": false,
     "start_time": "2024-02-22T12:05:08.626483",
     "status": "completed"
    },
    "tags": []
   },
   "outputs": [
    {
     "name": "stdout",
     "output_type": "stream",
     "text": [
      "Train non-overlapp eeg_id shape: (17089, 12)\n"
     ]
    },
    {
     "data": {
      "text/html": [
       "<div>\n",
       "<style scoped>\n",
       "    .dataframe tbody tr th:only-of-type {\n",
       "        vertical-align: middle;\n",
       "    }\n",
       "\n",
       "    .dataframe tbody tr th {\n",
       "        vertical-align: top;\n",
       "    }\n",
       "\n",
       "    .dataframe thead th {\n",
       "        text-align: right;\n",
       "    }\n",
       "</style>\n",
       "<table border=\"1\" class=\"dataframe\">\n",
       "  <thead>\n",
       "    <tr style=\"text-align: right;\">\n",
       "      <th></th>\n",
       "      <th>eeg_id</th>\n",
       "      <th>spec_id</th>\n",
       "      <th>min</th>\n",
       "      <th>max</th>\n",
       "      <th>patient_id</th>\n",
       "      <th>seizure_vote</th>\n",
       "      <th>lpd_vote</th>\n",
       "      <th>gpd_vote</th>\n",
       "      <th>lrda_vote</th>\n",
       "      <th>grda_vote</th>\n",
       "      <th>other_vote</th>\n",
       "      <th>target</th>\n",
       "    </tr>\n",
       "  </thead>\n",
       "  <tbody>\n",
       "    <tr>\n",
       "      <th>0</th>\n",
       "      <td>568657</td>\n",
       "      <td>789577333</td>\n",
       "      <td>0.0</td>\n",
       "      <td>16.0</td>\n",
       "      <td>20654</td>\n",
       "      <td>0.0</td>\n",
       "      <td>0.000000</td>\n",
       "      <td>0.25</td>\n",
       "      <td>0.000000</td>\n",
       "      <td>0.166667</td>\n",
       "      <td>0.583333</td>\n",
       "      <td>Other</td>\n",
       "    </tr>\n",
       "    <tr>\n",
       "      <th>1</th>\n",
       "      <td>582999</td>\n",
       "      <td>1552638400</td>\n",
       "      <td>0.0</td>\n",
       "      <td>38.0</td>\n",
       "      <td>20230</td>\n",
       "      <td>0.0</td>\n",
       "      <td>0.857143</td>\n",
       "      <td>0.00</td>\n",
       "      <td>0.071429</td>\n",
       "      <td>0.000000</td>\n",
       "      <td>0.071429</td>\n",
       "      <td>LPD</td>\n",
       "    </tr>\n",
       "    <tr>\n",
       "      <th>2</th>\n",
       "      <td>642382</td>\n",
       "      <td>14960202</td>\n",
       "      <td>1008.0</td>\n",
       "      <td>1032.0</td>\n",
       "      <td>5955</td>\n",
       "      <td>0.0</td>\n",
       "      <td>0.000000</td>\n",
       "      <td>0.00</td>\n",
       "      <td>0.000000</td>\n",
       "      <td>0.000000</td>\n",
       "      <td>1.000000</td>\n",
       "      <td>Other</td>\n",
       "    </tr>\n",
       "    <tr>\n",
       "      <th>3</th>\n",
       "      <td>751790</td>\n",
       "      <td>618728447</td>\n",
       "      <td>908.0</td>\n",
       "      <td>908.0</td>\n",
       "      <td>38549</td>\n",
       "      <td>0.0</td>\n",
       "      <td>0.000000</td>\n",
       "      <td>1.00</td>\n",
       "      <td>0.000000</td>\n",
       "      <td>0.000000</td>\n",
       "      <td>0.000000</td>\n",
       "      <td>GPD</td>\n",
       "    </tr>\n",
       "    <tr>\n",
       "      <th>4</th>\n",
       "      <td>778705</td>\n",
       "      <td>52296320</td>\n",
       "      <td>0.0</td>\n",
       "      <td>0.0</td>\n",
       "      <td>40955</td>\n",
       "      <td>0.0</td>\n",
       "      <td>0.000000</td>\n",
       "      <td>0.00</td>\n",
       "      <td>0.000000</td>\n",
       "      <td>0.000000</td>\n",
       "      <td>1.000000</td>\n",
       "      <td>Other</td>\n",
       "    </tr>\n",
       "  </tbody>\n",
       "</table>\n",
       "</div>"
      ],
      "text/plain": [
       "   eeg_id     spec_id     min     max  patient_id  seizure_vote  lpd_vote  \\\n",
       "0  568657   789577333     0.0    16.0       20654           0.0  0.000000   \n",
       "1  582999  1552638400     0.0    38.0       20230           0.0  0.857143   \n",
       "2  642382    14960202  1008.0  1032.0        5955           0.0  0.000000   \n",
       "3  751790   618728447   908.0   908.0       38549           0.0  0.000000   \n",
       "4  778705    52296320     0.0     0.0       40955           0.0  0.000000   \n",
       "\n",
       "   gpd_vote  lrda_vote  grda_vote  other_vote target  \n",
       "0      0.25   0.000000   0.166667    0.583333  Other  \n",
       "1      0.00   0.071429   0.000000    0.071429    LPD  \n",
       "2      0.00   0.000000   0.000000    1.000000  Other  \n",
       "3      1.00   0.000000   0.000000    0.000000    GPD  \n",
       "4      0.00   0.000000   0.000000    1.000000  Other  "
      ]
     },
     "execution_count": 3,
     "metadata": {},
     "output_type": "execute_result"
    }
   ],
   "source": [
    "train = df.groupby('eeg_id')[['spectrogram_id','spectrogram_label_offset_seconds']].agg(\n",
    "    {'spectrogram_id':'first','spectrogram_label_offset_seconds':'min'})\n",
    "train.columns = ['spec_id','min']\n",
    "\n",
    "tmp = df.groupby('eeg_id')[['spectrogram_id','spectrogram_label_offset_seconds']].agg(\n",
    "    {'spectrogram_label_offset_seconds':'max'})\n",
    "train['max'] = tmp\n",
    "\n",
    "tmp = df.groupby('eeg_id')[['patient_id']].agg('first')\n",
    "train['patient_id'] = tmp\n",
    "\n",
    "tmp = df.groupby('eeg_id')[TARGETS].agg('sum')\n",
    "for t in TARGETS:\n",
    "    train[t] = tmp[t].values\n",
    "    \n",
    "y_data = train[TARGETS].values\n",
    "y_data = y_data / y_data.sum(axis=1,keepdims=True)\n",
    "train[TARGETS] = y_data\n",
    "\n",
    "tmp = df.groupby('eeg_id')[['expert_consensus']].agg('first')\n",
    "train['target'] = tmp\n",
    "\n",
    "train = train.reset_index()\n",
    "print('Train non-overlapp eeg_id shape:', train.shape )\n",
    "train.head()"
   ]
  },
  {
   "cell_type": "code",
   "execution_count": 4,
   "id": "fc6363cd",
   "metadata": {
    "execution": {
     "iopub.execute_input": "2024-02-22T12:05:08.761978Z",
     "iopub.status.busy": "2024-02-22T12:05:08.761692Z",
     "iopub.status.idle": "2024-02-22T12:05:08.767850Z",
     "shell.execute_reply": "2024-02-22T12:05:08.766987Z"
    },
    "papermill": {
     "duration": 0.018856,
     "end_time": "2024-02-22T12:05:08.769741",
     "exception": false,
     "start_time": "2024-02-22T12:05:08.750885",
     "status": "completed"
    },
    "tags": []
   },
   "outputs": [
    {
     "data": {
      "text/plain": [
       "Index(['eeg_id', 'spec_id', 'min', 'max', 'patient_id', 'seizure_vote',\n",
       "       'lpd_vote', 'gpd_vote', 'lrda_vote', 'grda_vote', 'other_vote',\n",
       "       'target'],\n",
       "      dtype='object')"
      ]
     },
     "execution_count": 4,
     "metadata": {},
     "output_type": "execute_result"
    }
   ],
   "source": [
    "train.columns"
   ]
  },
  {
   "cell_type": "markdown",
   "id": "a07c3217",
   "metadata": {
    "papermill": {
     "duration": 0.010181,
     "end_time": "2024-02-22T12:05:08.790225",
     "exception": false,
     "start_time": "2024-02-22T12:05:08.780044",
     "status": "completed"
    },
    "tags": []
   },
   "source": [
    "# Feature Engineer\n",
    "In this section, we create features for our CatBoost model. \n",
    "\n",
    "First we need to read in all 11k train spectrogram files. Reading thousands of files takes 11 minutes with Pandas. Instead, we can read 1 file from my [Kaggle dataset here][1] which contains all the 11k spectrograms in less than 1 minute! To use my [Kaggle dataset][1], set variable `READ_SPEC_FILES = False`. Thanks for upvoting my Kaggle dataset!\n",
    "\n",
    "Next we need to engineer features for our CatBoost model. In version 1 notebook, we just take the mean (over time) of each of the 400 spectrogram frequencies (using middle 10 minutes). This produces 400 features (per each unique eeg id). We can improve CV and LB score by engineering new features (and/or tuning CatBoost).\n",
    "\n",
    "UPDATE: Version 2 creates features from `means` and `mins`. And version 2 uses `10 minute windows` and `20 second windows`.\n",
    "\n",
    "UPDATE: Version 3 uses **both** Kaggle spectrograms and **EEG spectrograms**. We load EEG spectrograms from my Kaggle dataset [here][2]. These EEG spectrograms were created from EEG raw waveforms in my spectrogram starter [here][3]. Thank you everyone for upvoting my new Kaggle dataset!\n",
    "\n",
    "[1]: https://www.kaggle.com/datasets/cdeotte/brain-spectrograms\n",
    "[2]: https://www.kaggle.com/datasets/cdeotte/brain-eeg-spectrograms\n",
    "[3]: https://www.kaggle.com/code/cdeotte/efficientnetb2-starter-lb-0-57"
   ]
  },
  {
   "cell_type": "code",
   "execution_count": 5,
   "id": "ae418b55",
   "metadata": {
    "execution": {
     "iopub.execute_input": "2024-02-22T12:05:08.811511Z",
     "iopub.status.busy": "2024-02-22T12:05:08.811246Z",
     "iopub.status.idle": "2024-02-22T12:05:08.815214Z",
     "shell.execute_reply": "2024-02-22T12:05:08.814350Z"
    },
    "papermill": {
     "duration": 0.0168,
     "end_time": "2024-02-22T12:05:08.817144",
     "exception": false,
     "start_time": "2024-02-22T12:05:08.800344",
     "status": "completed"
    },
    "tags": []
   },
   "outputs": [],
   "source": [
    "READ_SPEC_FILES = False\n",
    "READ_EEG_SPEC_FILES = False"
   ]
  },
  {
   "cell_type": "code",
   "execution_count": 6,
   "id": "e198a378",
   "metadata": {
    "execution": {
     "iopub.execute_input": "2024-02-22T12:05:08.839201Z",
     "iopub.status.busy": "2024-02-22T12:05:08.838549Z",
     "iopub.status.idle": "2024-02-22T12:06:05.993897Z",
     "shell.execute_reply": "2024-02-22T12:06:05.992813Z"
    },
    "papermill": {
     "duration": 57.179342,
     "end_time": "2024-02-22T12:06:06.007007",
     "exception": false,
     "start_time": "2024-02-22T12:05:08.827665",
     "status": "completed"
    },
    "tags": []
   },
   "outputs": [
    {
     "name": "stdout",
     "output_type": "stream",
     "text": [
      "There are 11138 spectrogram parquets\n",
      "CPU times: user 2.59 s, sys: 6.05 s, total: 8.64 s\n",
      "Wall time: 57.1 s\n"
     ]
    }
   ],
   "source": [
    "%%time\n",
    "# READ ALL SPECTROGRAMS\n",
    "PATH = '/kaggle/input/hms-harmful-brain-activity-classification/train_spectrograms/'\n",
    "files = os.listdir(PATH)\n",
    "print(f'There are {len(files)} spectrogram parquets')\n",
    "\n",
    "if READ_SPEC_FILES:    \n",
    "    spectrograms = {}\n",
    "    for i,f in enumerate(files):\n",
    "        if i%100==0: print(i,', ',end='')\n",
    "        tmp = pd.read_parquet(f'{PATH}{f}')\n",
    "        name = int(f.split('.')[0])\n",
    "        spectrograms[name] = tmp.iloc[:,1:].values\n",
    "else:\n",
    "    spectrograms = np.load('/kaggle/input/brain-spectrograms/specs.npy',allow_pickle=True).item()"
   ]
  },
  {
   "cell_type": "code",
   "execution_count": 7,
   "id": "759bfa5c",
   "metadata": {
    "execution": {
     "iopub.execute_input": "2024-02-22T12:06:06.030218Z",
     "iopub.status.busy": "2024-02-22T12:06:06.029861Z",
     "iopub.status.idle": "2024-02-22T12:07:13.778352Z",
     "shell.execute_reply": "2024-02-22T12:07:13.777378Z"
    },
    "papermill": {
     "duration": 67.772973,
     "end_time": "2024-02-22T12:07:13.790820",
     "exception": false,
     "start_time": "2024-02-22T12:06:06.017847",
     "status": "completed"
    },
    "tags": []
   },
   "outputs": [
    {
     "name": "stdout",
     "output_type": "stream",
     "text": [
      "CPU times: user 4.09 s, sys: 8.16 s, total: 12.3 s\n",
      "Wall time: 1min 7s\n"
     ]
    }
   ],
   "source": [
    "%%time\n",
    "# READ ALL EEG SPECTROGRAMS\n",
    "if READ_EEG_SPEC_FILES:\n",
    "    all_eegs = {}\n",
    "    for i,e in enumerate(train.eeg_id.values):\n",
    "        if i%100==0: print(i,', ',end='')\n",
    "        x = np.load(f'/kaggle/input/brain-eeg-spectrograms/EEG_Spectrograms/{e}.npy')\n",
    "        all_eegs[e] = x\n",
    "else:\n",
    "    all_eegs = np.load('/kaggle/input/brain-eeg-spectrograms/eeg_specs.npy',allow_pickle=True).item()"
   ]
  },
  {
   "cell_type": "code",
   "execution_count": 8,
   "id": "02caea00",
   "metadata": {
    "execution": {
     "iopub.execute_input": "2024-02-22T12:07:13.813002Z",
     "iopub.status.busy": "2024-02-22T12:07:13.812680Z",
     "iopub.status.idle": "2024-02-22T12:07:14.052223Z",
     "shell.execute_reply": "2024-02-22T12:07:14.051375Z"
    },
    "papermill": {
     "duration": 0.252869,
     "end_time": "2024-02-22T12:07:14.054224",
     "exception": false,
     "start_time": "2024-02-22T12:07:13.801355",
     "status": "completed"
    },
    "tags": []
   },
   "outputs": [
    {
     "data": {
      "text/html": [
       "<div>\n",
       "<style scoped>\n",
       "    .dataframe tbody tr th:only-of-type {\n",
       "        vertical-align: middle;\n",
       "    }\n",
       "\n",
       "    .dataframe tbody tr th {\n",
       "        vertical-align: top;\n",
       "    }\n",
       "\n",
       "    .dataframe thead th {\n",
       "        text-align: right;\n",
       "    }\n",
       "</style>\n",
       "<table border=\"1\" class=\"dataframe\">\n",
       "  <thead>\n",
       "    <tr style=\"text-align: right;\">\n",
       "      <th></th>\n",
       "      <th>time</th>\n",
       "      <th>LL_0.59</th>\n",
       "      <th>LL_0.78</th>\n",
       "      <th>LL_0.98</th>\n",
       "      <th>LL_1.17</th>\n",
       "      <th>LL_1.37</th>\n",
       "      <th>LL_1.56</th>\n",
       "      <th>LL_1.76</th>\n",
       "      <th>LL_1.95</th>\n",
       "      <th>LL_2.15</th>\n",
       "      <th>...</th>\n",
       "      <th>RP_18.16</th>\n",
       "      <th>RP_18.36</th>\n",
       "      <th>RP_18.55</th>\n",
       "      <th>RP_18.75</th>\n",
       "      <th>RP_18.95</th>\n",
       "      <th>RP_19.14</th>\n",
       "      <th>RP_19.34</th>\n",
       "      <th>RP_19.53</th>\n",
       "      <th>RP_19.73</th>\n",
       "      <th>RP_19.92</th>\n",
       "    </tr>\n",
       "  </thead>\n",
       "  <tbody>\n",
       "    <tr>\n",
       "      <th>0</th>\n",
       "      <td>1</td>\n",
       "      <td>28.680000</td>\n",
       "      <td>53.990002</td>\n",
       "      <td>67.629997</td>\n",
       "      <td>59.880001</td>\n",
       "      <td>50.880001</td>\n",
       "      <td>74.309998</td>\n",
       "      <td>78.480003</td>\n",
       "      <td>63.080002</td>\n",
       "      <td>59.869999</td>\n",
       "      <td>...</td>\n",
       "      <td>0.13</td>\n",
       "      <td>0.14</td>\n",
       "      <td>0.08</td>\n",
       "      <td>0.11</td>\n",
       "      <td>0.04</td>\n",
       "      <td>0.03</td>\n",
       "      <td>0.05</td>\n",
       "      <td>0.05</td>\n",
       "      <td>0.04</td>\n",
       "      <td>0.05</td>\n",
       "    </tr>\n",
       "    <tr>\n",
       "      <th>1</th>\n",
       "      <td>3</td>\n",
       "      <td>29.639999</td>\n",
       "      <td>38.959999</td>\n",
       "      <td>44.009998</td>\n",
       "      <td>66.800003</td>\n",
       "      <td>48.509998</td>\n",
       "      <td>42.180000</td>\n",
       "      <td>47.340000</td>\n",
       "      <td>48.599998</td>\n",
       "      <td>40.880001</td>\n",
       "      <td>...</td>\n",
       "      <td>0.15</td>\n",
       "      <td>0.13</td>\n",
       "      <td>0.08</td>\n",
       "      <td>0.08</td>\n",
       "      <td>0.07</td>\n",
       "      <td>0.06</td>\n",
       "      <td>0.07</td>\n",
       "      <td>0.06</td>\n",
       "      <td>0.06</td>\n",
       "      <td>0.06</td>\n",
       "    </tr>\n",
       "    <tr>\n",
       "      <th>2</th>\n",
       "      <td>5</td>\n",
       "      <td>8.890000</td>\n",
       "      <td>9.020000</td>\n",
       "      <td>16.360001</td>\n",
       "      <td>23.559999</td>\n",
       "      <td>27.340000</td>\n",
       "      <td>30.040001</td>\n",
       "      <td>27.559999</td>\n",
       "      <td>23.290001</td>\n",
       "      <td>15.120000</td>\n",
       "      <td>...</td>\n",
       "      <td>0.12</td>\n",
       "      <td>0.11</td>\n",
       "      <td>0.08</td>\n",
       "      <td>0.08</td>\n",
       "      <td>0.09</td>\n",
       "      <td>0.10</td>\n",
       "      <td>0.12</td>\n",
       "      <td>0.14</td>\n",
       "      <td>0.13</td>\n",
       "      <td>0.14</td>\n",
       "    </tr>\n",
       "    <tr>\n",
       "      <th>3</th>\n",
       "      <td>7</td>\n",
       "      <td>1.770000</td>\n",
       "      <td>1.930000</td>\n",
       "      <td>1.810000</td>\n",
       "      <td>1.600000</td>\n",
       "      <td>1.430000</td>\n",
       "      <td>1.280000</td>\n",
       "      <td>1.190000</td>\n",
       "      <td>1.110000</td>\n",
       "      <td>1.010000</td>\n",
       "      <td>...</td>\n",
       "      <td>0.03</td>\n",
       "      <td>0.03</td>\n",
       "      <td>0.03</td>\n",
       "      <td>0.03</td>\n",
       "      <td>0.03</td>\n",
       "      <td>0.03</td>\n",
       "      <td>0.03</td>\n",
       "      <td>0.04</td>\n",
       "      <td>0.04</td>\n",
       "      <td>0.04</td>\n",
       "    </tr>\n",
       "    <tr>\n",
       "      <th>4</th>\n",
       "      <td>9</td>\n",
       "      <td>NaN</td>\n",
       "      <td>NaN</td>\n",
       "      <td>NaN</td>\n",
       "      <td>NaN</td>\n",
       "      <td>NaN</td>\n",
       "      <td>NaN</td>\n",
       "      <td>NaN</td>\n",
       "      <td>NaN</td>\n",
       "      <td>NaN</td>\n",
       "      <td>...</td>\n",
       "      <td>NaN</td>\n",
       "      <td>NaN</td>\n",
       "      <td>NaN</td>\n",
       "      <td>NaN</td>\n",
       "      <td>NaN</td>\n",
       "      <td>NaN</td>\n",
       "      <td>NaN</td>\n",
       "      <td>NaN</td>\n",
       "      <td>NaN</td>\n",
       "      <td>NaN</td>\n",
       "    </tr>\n",
       "    <tr>\n",
       "      <th>5</th>\n",
       "      <td>11</td>\n",
       "      <td>NaN</td>\n",
       "      <td>NaN</td>\n",
       "      <td>NaN</td>\n",
       "      <td>NaN</td>\n",
       "      <td>NaN</td>\n",
       "      <td>NaN</td>\n",
       "      <td>NaN</td>\n",
       "      <td>NaN</td>\n",
       "      <td>NaN</td>\n",
       "      <td>...</td>\n",
       "      <td>NaN</td>\n",
       "      <td>NaN</td>\n",
       "      <td>NaN</td>\n",
       "      <td>NaN</td>\n",
       "      <td>NaN</td>\n",
       "      <td>NaN</td>\n",
       "      <td>NaN</td>\n",
       "      <td>NaN</td>\n",
       "      <td>NaN</td>\n",
       "      <td>NaN</td>\n",
       "    </tr>\n",
       "    <tr>\n",
       "      <th>6</th>\n",
       "      <td>13</td>\n",
       "      <td>NaN</td>\n",
       "      <td>NaN</td>\n",
       "      <td>NaN</td>\n",
       "      <td>NaN</td>\n",
       "      <td>NaN</td>\n",
       "      <td>NaN</td>\n",
       "      <td>NaN</td>\n",
       "      <td>NaN</td>\n",
       "      <td>NaN</td>\n",
       "      <td>...</td>\n",
       "      <td>NaN</td>\n",
       "      <td>NaN</td>\n",
       "      <td>NaN</td>\n",
       "      <td>NaN</td>\n",
       "      <td>NaN</td>\n",
       "      <td>NaN</td>\n",
       "      <td>NaN</td>\n",
       "      <td>NaN</td>\n",
       "      <td>NaN</td>\n",
       "      <td>NaN</td>\n",
       "    </tr>\n",
       "  </tbody>\n",
       "</table>\n",
       "<p>7 rows × 401 columns</p>\n",
       "</div>"
      ],
      "text/plain": [
       "   time    LL_0.59    LL_0.78    LL_0.98    LL_1.17    LL_1.37    LL_1.56  \\\n",
       "0     1  28.680000  53.990002  67.629997  59.880001  50.880001  74.309998   \n",
       "1     3  29.639999  38.959999  44.009998  66.800003  48.509998  42.180000   \n",
       "2     5   8.890000   9.020000  16.360001  23.559999  27.340000  30.040001   \n",
       "3     7   1.770000   1.930000   1.810000   1.600000   1.430000   1.280000   \n",
       "4     9        NaN        NaN        NaN        NaN        NaN        NaN   \n",
       "5    11        NaN        NaN        NaN        NaN        NaN        NaN   \n",
       "6    13        NaN        NaN        NaN        NaN        NaN        NaN   \n",
       "\n",
       "     LL_1.76    LL_1.95    LL_2.15  ...  RP_18.16  RP_18.36  RP_18.55  \\\n",
       "0  78.480003  63.080002  59.869999  ...      0.13      0.14      0.08   \n",
       "1  47.340000  48.599998  40.880001  ...      0.15      0.13      0.08   \n",
       "2  27.559999  23.290001  15.120000  ...      0.12      0.11      0.08   \n",
       "3   1.190000   1.110000   1.010000  ...      0.03      0.03      0.03   \n",
       "4        NaN        NaN        NaN  ...       NaN       NaN       NaN   \n",
       "5        NaN        NaN        NaN  ...       NaN       NaN       NaN   \n",
       "6        NaN        NaN        NaN  ...       NaN       NaN       NaN   \n",
       "\n",
       "   RP_18.75  RP_18.95  RP_19.14  RP_19.34  RP_19.53  RP_19.73  RP_19.92  \n",
       "0      0.11      0.04      0.03      0.05      0.05      0.04      0.05  \n",
       "1      0.08      0.07      0.06      0.07      0.06      0.06      0.06  \n",
       "2      0.08      0.09      0.10      0.12      0.14      0.13      0.14  \n",
       "3      0.03      0.03      0.03      0.03      0.04      0.04      0.04  \n",
       "4       NaN       NaN       NaN       NaN       NaN       NaN       NaN  \n",
       "5       NaN       NaN       NaN       NaN       NaN       NaN       NaN  \n",
       "6       NaN       NaN       NaN       NaN       NaN       NaN       NaN  \n",
       "\n",
       "[7 rows x 401 columns]"
      ]
     },
     "execution_count": 8,
     "metadata": {},
     "output_type": "execute_result"
    }
   ],
   "source": [
    "pd.read_parquet(f'{PATH}1000086677.parquet').head(7)"
   ]
  },
  {
   "cell_type": "code",
   "execution_count": 9,
   "id": "77bee2d4",
   "metadata": {
    "execution": {
     "iopub.execute_input": "2024-02-22T12:07:14.077226Z",
     "iopub.status.busy": "2024-02-22T12:07:14.076946Z",
     "iopub.status.idle": "2024-02-22T12:08:02.881310Z",
     "shell.execute_reply": "2024-02-22T12:08:02.880294Z"
    },
    "papermill": {
     "duration": 48.818359,
     "end_time": "2024-02-22T12:08:02.883551",
     "exception": false,
     "start_time": "2024-02-22T12:07:14.065192",
     "status": "completed"
    },
    "tags": []
   },
   "outputs": [
    {
     "name": "stdout",
     "output_type": "stream",
     "text": [
      "CPU times: user 0 ns, sys: 3 µs, total: 3 µs\n",
      "Wall time: 6.68 µs\n",
      "Index(['LL_0.59', 'LL_0.78', 'LL_0.98', 'LL_1.17', 'LL_1.37', 'LL_1.56',\n",
      "       'LL_1.76', 'LL_1.95', 'LL_2.15', 'LL_2.34',\n",
      "       ...\n",
      "       'RP_18.16', 'RP_18.36', 'RP_18.55', 'RP_18.75', 'RP_18.95', 'RP_19.14',\n",
      "       'RP_19.34', 'RP_19.53', 'RP_19.73', 'RP_19.92'],\n",
      "      dtype='object', length=400)\n",
      "We are creating 3648 features for 17089 rows... 0 , 100 , 200 , 300 , 400 , 500 , 600 , 700 , 800 , 900 , 1000 , 1100 , 1200 , 1300 , 1400 , 1500 , 1600 , 1700 , 1800 , 1900 , 2000 , 2100 , 2200 , 2300 , 2400 , 2500 , 2600 , 2700 , 2800 , 2900 , 3000 , 3100 , 3200 , 3300 , 3400 , 3500 , 3600 , 3700 , 3800 , 3900 , 4000 , 4100 , 4200 , 4300 , 4400 , 4500 , 4600 , 4700 , 4800 , 4900 , 5000 , 5100 , 5200 , 5300 , 5400 , 5500 , 5600 , 5700 , 5800 , 5900 , 6000 , 6100 , 6200 , 6300 , 6400 , 6500 , 6600 , 6700 , 6800 , 6900 , 7000 , 7100 , 7200 , 7300 , 7400 , 7500 , 7600 , 7700 , 7800 , 7900 , 8000 , 8100 , 8200 , 8300 , 8400 , 8500 , 8600 , 8700 , 8800 , 8900 , 9000 , 9100 , 9200 , 9300 , 9400 , 9500 , 9600 , 9700 , 9800 , 9900 , 10000 , 10100 , 10200 , 10300 , 10400 , 10500 , 10600 , 10700 , 10800 , 10900 , 11000 , 11100 , 11200 , 11300 , 11400 , 11500 , 11600 , 11700 , 11800 , 11900 , 12000 , 12100 , 12200 , 12300 , 12400 , 12500 , 12600 , 12700 , 12800 , 12900 , 13000 , 13100 , 13200 , 13300 , 13400 , 13500 , 13600 , 13700 , 13800 , 13900 , 14000 , 14100 , 14200 , 14300 , 14400 , 14500 , 14600 , 14700 , 14800 , 14900 , 15000 , 15100 , 15200 , 15300 , 15400 , 15500 , 15600 , 15700 , 15800 , 15900 , 16000 , 16100 , 16200 , 16300 , 16400 , 16500 , 16600 , 16700 , 16800 , 16900 , 17000 , \n",
      "New train shape: (17089, 3660)\n"
     ]
    }
   ],
   "source": [
    "%time\n",
    "# ENGINEER FEATURES\n",
    "import warnings\n",
    "warnings.filterwarnings('ignore')\n",
    "\n",
    "# FEATURE NAMES\n",
    "SPEC_COLS = pd.read_parquet(f'{PATH}1000086677.parquet').columns[1:]\n",
    "print(SPEC_COLS)\n",
    "FEATURES = [f'{c}_mean_10m' for c in SPEC_COLS]\n",
    "FEATURES += [f'{c}_min_10m' for c in SPEC_COLS]\n",
    "FEATURES += [f'{c}_mean_20s' for c in SPEC_COLS]\n",
    "FEATURES += [f'{c}_min_20s' for c in SPEC_COLS]\n",
    "FEATURES += [f'eeg_mean_f{x}_10s' for x in range(512)]\n",
    "FEATURES += [f'eeg_min_f{x}_10s' for x in range(512)]\n",
    "FEATURES += [f'eeg_max_f{x}_10s' for x in range(512)]\n",
    "FEATURES += [f'eeg_std_f{x}_10s' for x in range(512)]\n",
    "print(f'We are creating {len(FEATURES)} features for {len(train)} rows... ',end='')\n",
    "\n",
    "data = np.zeros((len(train),len(FEATURES)))\n",
    "for k in range(len(train)):\n",
    "    if k%100==0: print(k,', ',end='')\n",
    "    row = train.iloc[k]\n",
    "    r = int( (row['min'] + row['max'])//4 ) \n",
    "\n",
    "    # 10 MINUTE WINDOW FEATURES (MEANS and MINS)\n",
    "    x = np.nanmean(spectrograms[row.spec_id][r:r+300,:],axis=0)\n",
    "    data[k,:400] = x\n",
    "    x = np.nanmin(spectrograms[row.spec_id][r:r+300,:],axis=0)\n",
    "    data[k,400:800] = x\n",
    "\n",
    "    # 20 SECOND WINDOW FEATURES (MEANS and MINS)\n",
    "    x = np.nanmean(spectrograms[row.spec_id][r+145:r+155,:],axis=0)\n",
    "    data[k,800:1200] = x\n",
    "    x = np.nanmin(spectrograms[row.spec_id][r+145:r+155,:],axis=0)\n",
    "    data[k,1200:1600] = x\n",
    "\n",
    "    # RESHAPE EEG SPECTROGRAMS 128x256x4 => 512x256\n",
    "    eeg_spec = np.zeros((512,256),dtype='float32')\n",
    "    xx = all_eegs[row.eeg_id]\n",
    "    for j in range(4): eeg_spec[128*j:128*(j+1),] = xx[:,:,j]\n",
    "\n",
    "    # 10 SECOND WINDOW FROM EEG SPECTROGRAMS \n",
    "    x = np.nanmean(eeg_spec.T[100:-100,:],axis=0)\n",
    "    data[k,1600:2112] = x\n",
    "    x = np.nanmin(eeg_spec.T[100:-100,:],axis=0)\n",
    "    data[k,2112:2624] = x\n",
    "    x = np.nanmax(eeg_spec.T[100:-100,:],axis=0)\n",
    "    data[k,2624:3136] = x\n",
    "    x = np.nanstd(eeg_spec.T[100:-100,:],axis=0)\n",
    "    data[k,3136:3648] = x\n",
    "\n",
    "train[FEATURES] = data\n",
    "print(); print('New train shape:',train.shape)"
   ]
  },
  {
   "cell_type": "code",
   "execution_count": 10,
   "id": "b59e7377",
   "metadata": {
    "execution": {
     "iopub.execute_input": "2024-02-22T12:08:02.973866Z",
     "iopub.status.busy": "2024-02-22T12:08:02.973087Z",
     "iopub.status.idle": "2024-02-22T12:08:03.140503Z",
     "shell.execute_reply": "2024-02-22T12:08:03.139667Z"
    },
    "papermill": {
     "duration": 0.234845,
     "end_time": "2024-02-22T12:08:03.142471",
     "exception": false,
     "start_time": "2024-02-22T12:08:02.907626",
     "status": "completed"
    },
    "tags": []
   },
   "outputs": [
    {
     "data": {
      "text/plain": [
       "0"
      ]
     },
     "execution_count": 10,
     "metadata": {},
     "output_type": "execute_result"
    }
   ],
   "source": [
    "# FREE MEMORY\n",
    "del all_eegs, spectrograms, data\n",
    "gc.collect()"
   ]
  },
  {
   "cell_type": "code",
   "execution_count": 11,
   "id": "34004bf4",
   "metadata": {
    "execution": {
     "iopub.execute_input": "2024-02-22T12:08:03.192824Z",
     "iopub.status.busy": "2024-02-22T12:08:03.192281Z",
     "iopub.status.idle": "2024-02-22T12:08:03.793787Z",
     "shell.execute_reply": "2024-02-22T12:08:03.792839Z"
    },
    "papermill": {
     "duration": 0.630829,
     "end_time": "2024-02-22T12:08:03.797877",
     "exception": false,
     "start_time": "2024-02-22T12:08:03.167048",
     "status": "completed"
    },
    "tags": []
   },
   "outputs": [],
   "source": [
    "other_rows = train[train['target'] == 'Other']\n",
    "\n",
    "# Calcular la cantidad de filas a eliminar (la mitad de las filas con 'Other')\n",
    "rows_to_drop = len(other_rows) // 2\n",
    "\n",
    "# Obtener los índices de las filas a eliminar\n",
    "indices_to_drop = other_rows.sample(n=rows_to_drop, random_state=42).index\n",
    "\n",
    "# Eliminar las filas\n",
    "train = train.drop(indices_to_drop)"
   ]
  },
  {
   "cell_type": "code",
   "execution_count": 12,
   "id": "e1c53867",
   "metadata": {
    "execution": {
     "iopub.execute_input": "2024-02-22T12:08:03.847302Z",
     "iopub.status.busy": "2024-02-22T12:08:03.846995Z",
     "iopub.status.idle": "2024-02-22T12:08:03.851178Z",
     "shell.execute_reply": "2024-02-22T12:08:03.850358Z"
    },
    "papermill": {
     "duration": 0.030608,
     "end_time": "2024-02-22T12:08:03.852991",
     "exception": false,
     "start_time": "2024-02-22T12:08:03.822383",
     "status": "completed"
    },
    "tags": []
   },
   "outputs": [],
   "source": [
    "train.reset_index(drop=True,inplace=True)"
   ]
  },
  {
   "cell_type": "code",
   "execution_count": 13,
   "id": "6e2a5be2",
   "metadata": {
    "execution": {
     "iopub.execute_input": "2024-02-22T12:08:03.901198Z",
     "iopub.status.busy": "2024-02-22T12:08:03.900919Z",
     "iopub.status.idle": "2024-02-22T12:08:03.907119Z",
     "shell.execute_reply": "2024-02-22T12:08:03.906342Z"
    },
    "papermill": {
     "duration": 0.032394,
     "end_time": "2024-02-22T12:08:03.908932",
     "exception": false,
     "start_time": "2024-02-22T12:08:03.876538",
     "status": "completed"
    },
    "tags": []
   },
   "outputs": [
    {
     "data": {
      "text/plain": [
       "13491"
      ]
     },
     "execution_count": 13,
     "metadata": {},
     "output_type": "execute_result"
    }
   ],
   "source": [
    "len(train)"
   ]
  },
  {
   "cell_type": "markdown",
   "id": "c078ec70",
   "metadata": {
    "papermill": {
     "duration": 0.023434,
     "end_time": "2024-02-22T12:08:03.956035",
     "exception": false,
     "start_time": "2024-02-22T12:08:03.932601",
     "status": "completed"
    },
    "tags": []
   },
   "source": [
    "# Train CatBoost\n",
    "We use the default settings for CatBoost which are pretty good. We can tune CatBoost manually to improve CV and LB score. Note that CatBoost will automatically use both Kaggle T4 GPUs (when we add parameter `task_type='GPU'`)  for super fast training!"
   ]
  },
  {
   "cell_type": "code",
   "execution_count": 14,
   "id": "eb7859ab",
   "metadata": {
    "execution": {
     "iopub.execute_input": "2024-02-22T12:08:04.005298Z",
     "iopub.status.busy": "2024-02-22T12:08:04.004994Z",
     "iopub.status.idle": "2024-02-22T12:08:05.659828Z",
     "shell.execute_reply": "2024-02-22T12:08:05.658751Z"
    },
    "papermill": {
     "duration": 1.682135,
     "end_time": "2024-02-22T12:08:05.661811",
     "exception": false,
     "start_time": "2024-02-22T12:08:03.979676",
     "status": "completed"
    },
    "tags": []
   },
   "outputs": [
    {
     "name": "stdout",
     "output_type": "stream",
     "text": [
      "CatBoost version 1.2.2\n"
     ]
    }
   ],
   "source": [
    "import catboost as cat\n",
    "from catboost import CatBoostClassifier, Pool\n",
    "print('CatBoost version',cat.__version__)"
   ]
  },
  {
   "cell_type": "code",
   "execution_count": 15,
   "id": "4880f7d5",
   "metadata": {
    "execution": {
     "iopub.execute_input": "2024-02-22T12:08:05.711578Z",
     "iopub.status.busy": "2024-02-22T12:08:05.710878Z",
     "iopub.status.idle": "2024-02-22T12:15:16.665334Z",
     "shell.execute_reply": "2024-02-22T12:15:16.664338Z"
    },
    "papermill": {
     "duration": 430.981881,
     "end_time": "2024-02-22T12:15:16.668093",
     "exception": false,
     "start_time": "2024-02-22T12:08:05.686212",
     "status": "completed"
    },
    "tags": []
   },
   "outputs": [
    {
     "name": "stdout",
     "output_type": "stream",
     "text": [
      "#########################\n",
      "### Fold 1\n",
      "### train size 10792, valid size 2699\n",
      "#########################\n",
      "Learning rate set to 0.133713\n",
      "0:\tlearn: 1.6757047\ttest: 1.7095669\tbest: 1.7095669 (0)\ttotal: 362ms\tremaining: 6m 2s\n",
      "100:\tlearn: 0.7451482\ttest: 1.1234104\tbest: 1.1230136 (99)\ttotal: 8.81s\tremaining: 1m 18s\n",
      "200:\tlearn: 0.5779337\ttest: 1.1026414\tbest: 1.1022880 (198)\ttotal: 16.9s\tremaining: 1m 7s\n",
      "300:\tlearn: 0.4708304\ttest: 1.0925706\tbest: 1.0911882 (264)\ttotal: 25.2s\tremaining: 58.4s\n",
      "400:\tlearn: 0.3890484\ttest: 1.0975446\tbest: 1.0911882 (264)\ttotal: 33.4s\tremaining: 49.9s\n",
      "500:\tlearn: 0.3267754\ttest: 1.1020039\tbest: 1.0911882 (264)\ttotal: 41.2s\tremaining: 41.1s\n",
      "600:\tlearn: 0.2768151\ttest: 1.1103396\tbest: 1.0911882 (264)\ttotal: 49.3s\tremaining: 32.7s\n",
      "700:\tlearn: 0.2354252\ttest: 1.1172516\tbest: 1.0911882 (264)\ttotal: 57.2s\tremaining: 24.4s\n",
      "800:\tlearn: 0.2022283\ttest: 1.1228305\tbest: 1.0911882 (264)\ttotal: 1m 5s\tremaining: 16.2s\n",
      "900:\tlearn: 0.1750300\ttest: 1.1290897\tbest: 1.0911882 (264)\ttotal: 1m 13s\tremaining: 8.04s\n",
      "999:\tlearn: 0.1519150\ttest: 1.1364846\tbest: 1.0911882 (264)\ttotal: 1m 21s\tremaining: 0us\n",
      "bestTest = 1.091188197\n",
      "bestIteration = 264\n",
      "Shrink model to first 265 iterations.\n",
      "#########################\n",
      "### Fold 2\n",
      "### train size 10793, valid size 2698\n",
      "#########################\n",
      "Learning rate set to 0.133715\n",
      "0:\tlearn: 1.6766743\ttest: 1.6921059\tbest: 1.6921059 (0)\ttotal: 173ms\tremaining: 2m 52s\n",
      "100:\tlearn: 0.7473300\ttest: 1.0680177\tbest: 1.0680177 (100)\ttotal: 8.61s\tremaining: 1m 16s\n",
      "200:\tlearn: 0.5767735\ttest: 1.0360948\tbest: 1.0344085 (196)\ttotal: 16.9s\tremaining: 1m 7s\n",
      "300:\tlearn: 0.4657883\ttest: 1.0237168\tbest: 1.0237168 (300)\ttotal: 25.1s\tremaining: 58.2s\n",
      "400:\tlearn: 0.3869821\ttest: 1.0253658\tbest: 1.0235353 (309)\ttotal: 32.9s\tremaining: 49.1s\n",
      "500:\tlearn: 0.3237922\ttest: 1.0260924\tbest: 1.0235353 (309)\ttotal: 41.3s\tremaining: 41.1s\n",
      "600:\tlearn: 0.2748512\ttest: 1.0269985\tbest: 1.0235353 (309)\ttotal: 49.4s\tremaining: 32.8s\n",
      "700:\tlearn: 0.2369773\ttest: 1.0280679\tbest: 1.0235353 (309)\ttotal: 57.4s\tremaining: 24.5s\n",
      "800:\tlearn: 0.2013168\ttest: 1.0305661\tbest: 1.0235353 (309)\ttotal: 1m 5s\tremaining: 16.3s\n",
      "900:\tlearn: 0.1741550\ttest: 1.0379145\tbest: 1.0235353 (309)\ttotal: 1m 13s\tremaining: 8.11s\n",
      "999:\tlearn: 0.1516844\ttest: 1.0419640\tbest: 1.0235353 (309)\ttotal: 1m 21s\tremaining: 0us\n",
      "bestTest = 1.023535319\n",
      "bestIteration = 309\n",
      "Shrink model to first 310 iterations.\n",
      "#########################\n",
      "### Fold 3\n",
      "### train size 10793, valid size 2698\n",
      "#########################\n",
      "Learning rate set to 0.133715\n",
      "0:\tlearn: 1.6794258\ttest: 1.7119658\tbest: 1.7119658 (0)\ttotal: 178ms\tremaining: 2m 57s\n",
      "100:\tlearn: 0.7534719\ttest: 1.1335120\tbest: 1.1335027 (99)\ttotal: 8.61s\tremaining: 1m 16s\n",
      "200:\tlearn: 0.5813250\ttest: 1.1074630\tbest: 1.1070063 (193)\ttotal: 17s\tremaining: 1m 7s\n",
      "300:\tlearn: 0.4726916\ttest: 1.1053942\tbest: 1.1013255 (261)\ttotal: 24.9s\tremaining: 57.8s\n",
      "400:\tlearn: 0.3893025\ttest: 1.1087749\tbest: 1.1013255 (261)\ttotal: 32.9s\tremaining: 49.1s\n",
      "500:\tlearn: 0.3285949\ttest: 1.1075274\tbest: 1.1013255 (261)\ttotal: 41s\tremaining: 40.8s\n",
      "600:\tlearn: 0.2776422\ttest: 1.1110425\tbest: 1.1013255 (261)\ttotal: 49.2s\tremaining: 32.7s\n",
      "700:\tlearn: 0.2371809\ttest: 1.1196892\tbest: 1.1013255 (261)\ttotal: 57.2s\tremaining: 24.4s\n",
      "800:\tlearn: 0.2041127\ttest: 1.1237147\tbest: 1.1013255 (261)\ttotal: 1m 5s\tremaining: 16.2s\n",
      "900:\tlearn: 0.1770789\ttest: 1.1323327\tbest: 1.1013255 (261)\ttotal: 1m 12s\tremaining: 8s\n",
      "999:\tlearn: 0.1548145\ttest: 1.1387652\tbest: 1.1013255 (261)\ttotal: 1m 20s\tremaining: 0us\n",
      "bestTest = 1.101325508\n",
      "bestIteration = 261\n",
      "Shrink model to first 262 iterations.\n",
      "#########################\n",
      "### Fold 4\n",
      "### train size 10793, valid size 2698\n",
      "#########################\n",
      "Learning rate set to 0.133715\n",
      "0:\tlearn: 1.6699235\ttest: 1.7110457\tbest: 1.7110457 (0)\ttotal: 185ms\tremaining: 3m 5s\n",
      "100:\tlearn: 0.7455150\ttest: 1.1388087\tbest: 1.1388087 (100)\ttotal: 8.59s\tremaining: 1m 16s\n",
      "200:\tlearn: 0.5817035\ttest: 1.1127183\tbest: 1.1099965 (190)\ttotal: 16.6s\tremaining: 1m 5s\n",
      "300:\tlearn: 0.4783043\ttest: 1.0971320\tbest: 1.0970596 (296)\ttotal: 24.8s\tremaining: 57.7s\n",
      "400:\tlearn: 0.3905020\ttest: 1.0858624\tbest: 1.0853427 (398)\ttotal: 32.8s\tremaining: 49s\n",
      "500:\tlearn: 0.3303139\ttest: 1.0863924\tbest: 1.0852158 (444)\ttotal: 40.7s\tremaining: 40.6s\n",
      "600:\tlearn: 0.2780900\ttest: 1.0791162\tbest: 1.0789231 (599)\ttotal: 48.6s\tremaining: 32.2s\n",
      "700:\tlearn: 0.2400790\ttest: 1.0771300\tbest: 1.0750165 (667)\ttotal: 56.9s\tremaining: 24.3s\n",
      "800:\tlearn: 0.2068167\ttest: 1.0769162\tbest: 1.0749602 (746)\ttotal: 1m 5s\tremaining: 16.1s\n",
      "900:\tlearn: 0.1788008\ttest: 1.0766741\tbest: 1.0749602 (746)\ttotal: 1m 12s\tremaining: 8.02s\n",
      "999:\tlearn: 0.1559796\ttest: 1.0784916\tbest: 1.0749602 (746)\ttotal: 1m 20s\tremaining: 0us\n",
      "bestTest = 1.074960221\n",
      "bestIteration = 746\n",
      "Shrink model to first 747 iterations.\n",
      "#########################\n",
      "### Fold 5\n",
      "### train size 10793, valid size 2698\n",
      "#########################\n",
      "Learning rate set to 0.133715\n",
      "0:\tlearn: 1.6818536\ttest: 1.6939085\tbest: 1.6939085 (0)\ttotal: 178ms\tremaining: 2m 57s\n",
      "100:\tlearn: 0.7842087\ttest: 0.9626277\tbest: 0.9626277 (100)\ttotal: 8.62s\tremaining: 1m 16s\n",
      "200:\tlearn: 0.6141904\ttest: 0.9182216\tbest: 0.9170403 (191)\ttotal: 16.7s\tremaining: 1m 6s\n",
      "300:\tlearn: 0.4987852\ttest: 0.9066190\tbest: 0.9062873 (294)\ttotal: 24.5s\tremaining: 57s\n",
      "400:\tlearn: 0.4142498\ttest: 0.8977023\tbest: 0.8974709 (394)\ttotal: 32.5s\tremaining: 48.6s\n",
      "500:\tlearn: 0.3478590\ttest: 0.8953895\tbest: 0.8946080 (498)\ttotal: 40.8s\tremaining: 40.6s\n",
      "600:\tlearn: 0.2961748\ttest: 0.8957954\tbest: 0.8943441 (504)\ttotal: 49s\tremaining: 32.5s\n",
      "700:\tlearn: 0.2539552\ttest: 0.8963606\tbest: 0.8943441 (504)\ttotal: 57s\tremaining: 24.3s\n",
      "800:\tlearn: 0.2178481\ttest: 0.8958573\tbest: 0.8943441 (504)\ttotal: 1m 4s\tremaining: 16.1s\n",
      "900:\tlearn: 0.1883230\ttest: 0.8998108\tbest: 0.8943441 (504)\ttotal: 1m 13s\tremaining: 8.03s\n",
      "999:\tlearn: 0.1634315\ttest: 0.8997556\tbest: 0.8943441 (504)\ttotal: 1m 21s\tremaining: 0us\n",
      "bestTest = 0.8943441177\n",
      "bestIteration = 504\n",
      "Shrink model to first 505 iterations.\n"
     ]
    }
   ],
   "source": [
    "from sklearn.model_selection import KFold, GroupKFold\n",
    "\n",
    "all_oof = []\n",
    "all_true = []\n",
    "TARS = {'Seizure':0, 'LPD':1, 'GPD':2, 'LRDA':3, 'GRDA':4, 'Other':5}\n",
    "\n",
    "gkf = GroupKFold(n_splits=5)\n",
    "for i, (train_index, valid_index) in enumerate(gkf.split(train, train.target, train.patient_id)):   \n",
    "    \n",
    "    print('#'*25)\n",
    "    print(f'### Fold {i+1}')\n",
    "    print(f'### train size {len(train_index)}, valid size {len(valid_index)}')\n",
    "    print('#'*25)\n",
    "    \n",
    "    model = CatBoostClassifier(task_type='GPU',\n",
    "                               loss_function='MultiClass')\n",
    "    \n",
    "    train_pool = Pool(\n",
    "        data = train.loc[train_index,FEATURES],\n",
    "        label = train.loc[train_index,'target'].map(TARS),\n",
    "    )\n",
    "    \n",
    "    valid_pool = Pool(\n",
    "        data = train.loc[valid_index,FEATURES],\n",
    "        label = train.loc[valid_index,'target'].map(TARS),\n",
    "    )\n",
    "    \n",
    "    model.fit(train_pool,\n",
    "             verbose=100,\n",
    "             eval_set=valid_pool,\n",
    "             )\n",
    "    model.save_model(f'CAT_v{VER}_f{i}.cat')\n",
    "    \n",
    "    oof = model.predict_proba(valid_pool)\n",
    "    all_oof.append(oof)\n",
    "    all_true.append(train.loc[valid_index, TARGETS].values)\n",
    "    \n",
    "    del train_pool, valid_pool, oof #model\n",
    "    gc.collect()\n",
    "    \n",
    "    #break\n",
    "    \n",
    "all_oof = np.concatenate(all_oof)\n",
    "all_true = np.concatenate(all_true)"
   ]
  },
  {
   "cell_type": "markdown",
   "id": "977aa484",
   "metadata": {
    "papermill": {
     "duration": 0.038971,
     "end_time": "2024-02-22T12:15:16.747125",
     "exception": false,
     "start_time": "2024-02-22T12:15:16.708154",
     "status": "completed"
    },
    "tags": []
   },
   "source": [
    "# Feature Importance\n",
    "Below we display the CatBoost top 25 feature importance for the last fold we trained."
   ]
  },
  {
   "cell_type": "code",
   "execution_count": 16,
   "id": "b55922fc",
   "metadata": {
    "execution": {
     "iopub.execute_input": "2024-02-22T12:15:16.829082Z",
     "iopub.status.busy": "2024-02-22T12:15:16.827201Z",
     "iopub.status.idle": "2024-02-22T12:15:17.444095Z",
     "shell.execute_reply": "2024-02-22T12:15:17.443221Z"
    },
    "papermill": {
     "duration": 0.659877,
     "end_time": "2024-02-22T12:15:17.446019",
     "exception": false,
     "start_time": "2024-02-22T12:15:16.786142",
     "status": "completed"
    },
    "tags": []
   },
   "outputs": [
    {
     "data": {
      "image/png": "[encoded data removed]",
      "text/plain": [
       "<Figure size 1000x800 with 1 Axes>"
      ]
     },
     "metadata": {},
     "output_type": "display_data"
    }
   ],
   "source": [
    "TOP = 25\n",
    "\n",
    "feature_importance = model.feature_importances_\n",
    "sorted_idx = np.argsort(feature_importance)\n",
    "fig = plt.figure(figsize=(10, 8))\n",
    "plt.barh(np.arange(len(sorted_idx))[-TOP:], feature_importance[sorted_idx][-TOP:], align='center')\n",
    "plt.yticks(np.arange(len(sorted_idx))[-TOP:], np.array(FEATURES)[sorted_idx][-TOP:])\n",
    "plt.title(f'Feature Importance - Top {TOP}')\n",
    "plt.show()"
   ]
  },
  {
   "cell_type": "markdown",
   "id": "41ecc310",
   "metadata": {
    "papermill": {
     "duration": 0.029894,
     "end_time": "2024-02-22T12:15:17.506427",
     "exception": false,
     "start_time": "2024-02-22T12:15:17.476533",
     "status": "completed"
    },
    "tags": []
   },
   "source": [
    "# CV Score for CatBoost\n",
    "This is CV score for our CatBoost model."
   ]
  },
  {
   "cell_type": "code",
   "execution_count": 17,
   "id": "2dde9ce4",
   "metadata": {
    "execution": {
     "iopub.execute_input": "2024-02-22T12:15:17.567015Z",
     "iopub.status.busy": "2024-02-22T12:15:17.566704Z",
     "iopub.status.idle": "2024-02-22T12:15:17.640540Z",
     "shell.execute_reply": "2024-02-22T12:15:17.639720Z"
    },
    "papermill": {
     "duration": 0.106311,
     "end_time": "2024-02-22T12:15:17.642322",
     "exception": false,
     "start_time": "2024-02-22T12:15:17.536011",
     "status": "completed"
    },
    "tags": []
   },
   "outputs": [
    {
     "name": "stdout",
     "output_type": "stream",
     "text": [
      "CV Score KL-Div for CatBoost = 0.7875056246741902\n"
     ]
    }
   ],
   "source": [
    "import sys\n",
    "sys.path.append('/kaggle/input/kaggle-kl-div')\n",
    "from kaggle_kl_div import score\n",
    "\n",
    "oof = pd.DataFrame(all_oof.copy())\n",
    "oof['id'] = np.arange(len(oof))\n",
    "\n",
    "true = pd.DataFrame(all_true.copy())\n",
    "true['id'] = np.arange(len(true))\n",
    "\n",
    "cv = score(solution=true, submission=oof, row_id_column_name='id')\n",
    "print('CV Score KL-Div for CatBoost =',cv)"
   ]
  },
  {
   "cell_type": "markdown",
   "id": "df60ff7d",
   "metadata": {
    "papermill": {
     "duration": 0.029432,
     "end_time": "2024-02-22T12:15:17.702239",
     "exception": false,
     "start_time": "2024-02-22T12:15:17.672807",
     "status": "completed"
    },
    "tags": []
   },
   "source": [
    "# CV Score for Preds 1/6\n",
    "This is CV score for Kaggle's sample submission.csv which uses equal predictions of 1/6 for all targets."
   ]
  },
  {
   "cell_type": "code",
   "execution_count": 18,
   "id": "69fe006c",
   "metadata": {
    "execution": {
     "iopub.execute_input": "2024-02-22T12:15:17.762982Z",
     "iopub.status.busy": "2024-02-22T12:15:17.762697Z",
     "iopub.status.idle": "2024-02-22T12:15:17.807394Z",
     "shell.execute_reply": "2024-02-22T12:15:17.806520Z"
    },
    "papermill": {
     "duration": 0.077016,
     "end_time": "2024-02-22T12:15:17.809184",
     "exception": false,
     "start_time": "2024-02-22T12:15:17.732168",
     "status": "completed"
    },
    "tags": []
   },
   "outputs": [
    {
     "name": "stdout",
     "output_type": "stream",
     "text": [
      "CV Score for \"Use Equal Preds 1/6\" = 1.4423849357988843\n"
     ]
    }
   ],
   "source": [
    "oof = pd.DataFrame(all_oof.copy())\n",
    "for c in oof.columns:\n",
    "    oof[c] = 1/6.\n",
    "oof['id'] = np.arange(len(oof))\n",
    "\n",
    "true = pd.DataFrame(all_true.copy())\n",
    "true['id'] = np.arange(len(true))\n",
    "\n",
    "cv = score(solution=true, submission=oof, row_id_column_name='id')\n",
    "print('CV Score for \"Use Equal Preds 1/6\" =',cv)"
   ]
  },
  {
   "cell_type": "markdown",
   "id": "703f8754",
   "metadata": {
    "papermill": {
     "duration": 0.029558,
     "end_time": "2024-02-22T12:15:17.869220",
     "exception": false,
     "start_time": "2024-02-22T12:15:17.839662",
     "status": "completed"
    },
    "tags": []
   },
   "source": [
    "# CV Score for EEG_Id Means\n",
    "This is CV score for current highest scoring public notebook [here][1] which uses train means as predictions.\n",
    "\n",
    "[1]: https://www.kaggle.com/code/seshurajup/eda-train-csv"
   ]
  },
  {
   "cell_type": "code",
   "execution_count": 19,
   "id": "1a200869",
   "metadata": {
    "execution": {
     "iopub.execute_input": "2024-02-22T12:15:17.929849Z",
     "iopub.status.busy": "2024-02-22T12:15:17.929590Z",
     "iopub.status.idle": "2024-02-22T12:15:19.591233Z",
     "shell.execute_reply": "2024-02-22T12:15:19.590415Z"
    },
    "papermill": {
     "duration": 1.694759,
     "end_time": "2024-02-22T12:15:19.593651",
     "exception": false,
     "start_time": "2024-02-22T12:15:17.898892",
     "status": "completed"
    },
    "tags": []
   },
   "outputs": [],
   "source": [
    "all_oof2 = []\n",
    "\n",
    "gkf = GroupKFold(n_splits=5)\n",
    "for i, (train_index, valid_index) in enumerate(gkf.split(train, train.target, train.patient_id)):  \n",
    "    #print('#'*25)\n",
    "    #print(f'### Fold {i+1}')\n",
    "        \n",
    "    y_train = train.iloc[train_index][TARGETS].values\n",
    "    y_valid = train.iloc[valid_index][TARGETS].values\n",
    "    \n",
    "    #print(f'### train size {len(train_index)}, valid size {len(valid_index)}')\n",
    "    #print('#'*25)\n",
    "        \n",
    "    oof = y_valid.copy()\n",
    "    for j in range(6):\n",
    "        oof[:,j] = y_train[:,j].mean()\n",
    "    oof = oof / oof.sum(axis=1,keepdims=True)\n",
    "    all_oof2.append(oof)\n",
    "    \n",
    "all_oof2 = np.concatenate(all_oof2)"
   ]
  },
  {
   "cell_type": "code",
   "execution_count": 20,
   "id": "84f81280",
   "metadata": {
    "execution": {
     "iopub.execute_input": "2024-02-22T12:15:19.656095Z",
     "iopub.status.busy": "2024-02-22T12:15:19.655774Z",
     "iopub.status.idle": "2024-02-22T12:15:19.703839Z",
     "shell.execute_reply": "2024-02-22T12:15:19.702804Z"
    },
    "papermill": {
     "duration": 0.081405,
     "end_time": "2024-02-22T12:15:19.705814",
     "exception": false,
     "start_time": "2024-02-22T12:15:19.624409",
     "status": "completed"
    },
    "tags": []
   },
   "outputs": [
    {
     "name": "stdout",
     "output_type": "stream",
     "text": [
      "CV Score for \"Use Train Means\" = 1.3631367204778204\n"
     ]
    }
   ],
   "source": [
    "oof = pd.DataFrame(all_oof2.copy())\n",
    "oof['id'] = np.arange(len(oof))\n",
    "\n",
    "true = pd.DataFrame(all_true.copy())\n",
    "true['id'] = np.arange(len(true))\n",
    "\n",
    "cv = score(solution=true, submission=oof, row_id_column_name='id')\n",
    "print('CV Score for \"Use Train Means\" =',cv)"
   ]
  },
  {
   "cell_type": "markdown",
   "id": "e00f65ee",
   "metadata": {
    "papermill": {
     "duration": 0.029699,
     "end_time": "2024-02-22T12:15:19.765784",
     "exception": false,
     "start_time": "2024-02-22T12:15:19.736085",
     "status": "completed"
    },
    "tags": []
   },
   "source": [
    "# Infer Test and Create Submission CSV\n",
    "Below we use our 5 CatBoost fold models to infer the test data and create a `submission.csv` file."
   ]
  },
  {
   "cell_type": "code",
   "execution_count": 21,
   "id": "ddfa1c76",
   "metadata": {
    "execution": {
     "iopub.execute_input": "2024-02-22T12:15:19.826846Z",
     "iopub.status.busy": "2024-02-22T12:15:19.826557Z",
     "iopub.status.idle": "2024-02-22T12:15:19.910944Z",
     "shell.execute_reply": "2024-02-22T12:15:19.910107Z"
    },
    "papermill": {
     "duration": 0.117751,
     "end_time": "2024-02-22T12:15:19.913333",
     "exception": false,
     "start_time": "2024-02-22T12:15:19.795582",
     "status": "completed"
    },
    "tags": []
   },
   "outputs": [
    {
     "name": "stdout",
     "output_type": "stream",
     "text": [
      "Test shape (1, 3)\n"
     ]
    },
    {
     "data": {
      "text/html": [
       "<div>\n",
       "<style scoped>\n",
       "    .dataframe tbody tr th:only-of-type {\n",
       "        vertical-align: middle;\n",
       "    }\n",
       "\n",
       "    .dataframe tbody tr th {\n",
       "        vertical-align: top;\n",
       "    }\n",
       "\n",
       "    .dataframe thead th {\n",
       "        text-align: right;\n",
       "    }\n",
       "</style>\n",
       "<table border=\"1\" class=\"dataframe\">\n",
       "  <thead>\n",
       "    <tr style=\"text-align: right;\">\n",
       "      <th></th>\n",
       "      <th>spectrogram_id</th>\n",
       "      <th>eeg_id</th>\n",
       "      <th>patient_id</th>\n",
       "    </tr>\n",
       "  </thead>\n",
       "  <tbody>\n",
       "    <tr>\n",
       "      <th>0</th>\n",
       "      <td>853520</td>\n",
       "      <td>3911565283</td>\n",
       "      <td>6885</td>\n",
       "    </tr>\n",
       "  </tbody>\n",
       "</table>\n",
       "</div>"
      ],
      "text/plain": [
       "   spectrogram_id      eeg_id  patient_id\n",
       "0          853520  3911565283        6885"
      ]
     },
     "execution_count": 21,
     "metadata": {},
     "output_type": "execute_result"
    }
   ],
   "source": [
    "del train; gc.collect()\n",
    "test = pd.read_csv('/kaggle/input/hms-harmful-brain-activity-classification/test.csv')\n",
    "print('Test shape',test.shape)\n",
    "test.head()"
   ]
  },
  {
   "cell_type": "code",
   "execution_count": 22,
   "id": "c0e5ca1f",
   "metadata": {
    "_kg_hide-input": true,
    "execution": {
     "iopub.execute_input": "2024-02-22T12:15:19.979505Z",
     "iopub.status.busy": "2024-02-22T12:15:19.979240Z",
     "iopub.status.idle": "2024-02-22T12:15:20.128919Z",
     "shell.execute_reply": "2024-02-22T12:15:20.127707Z"
    },
    "papermill": {
     "duration": 0.184007,
     "end_time": "2024-02-22T12:15:20.131873",
     "exception": false,
     "start_time": "2024-02-22T12:15:19.947866",
     "status": "completed"
    },
    "tags": []
   },
   "outputs": [],
   "source": [
    "import pywt, librosa\n",
    "\n",
    "USE_WAVELET = None \n",
    "\n",
    "NAMES = ['LL','LP','RP','RR']\n",
    "\n",
    "FEATS = [['Fp1','F7','T3','T5','O1'],\n",
    "         ['Fp1','F3','C3','P3','O1'],\n",
    "         ['Fp2','F8','T4','T6','O2'],\n",
    "         ['Fp2','F4','C4','P4','O2']]\n",
    "\n",
    "# DENOISE FUNCTION\n",
    "def maddest(d, axis=None):\n",
    "    return np.mean(np.absolute(d - np.mean(d, axis)), axis)\n",
    "\n",
    "def denoise(x, wavelet='haar', level=1):    \n",
    "    coeff = pywt.wavedec(x, wavelet, mode=\"per\")\n",
    "    sigma = (1/0.6745) * maddest(coeff[-level])\n",
    "\n",
    "    uthresh = sigma * np.sqrt(2*np.log(len(x)))\n",
    "    coeff[1:] = (pywt.threshold(i, value=uthresh, mode='hard') for i in coeff[1:])\n",
    "\n",
    "    ret=pywt.waverec(coeff, wavelet, mode='per')\n",
    "    \n",
    "    return ret\n",
    "\n",
    "def spectrogram_from_eeg(parquet_path, display=False):\n",
    "    \n",
    "    # LOAD MIDDLE 50 SECONDS OF EEG SERIES\n",
    "    eeg = pd.read_parquet(parquet_path)\n",
    "    middle = (len(eeg)-10_000)//2\n",
    "    eeg = eeg.iloc[middle:middle+10_000]\n",
    "    \n",
    "    # VARIABLE TO HOLD SPECTROGRAM\n",
    "    img = np.zeros((128,256,4),dtype='float32')\n",
    "    \n",
    "    if display: plt.figure(figsize=(10,7))\n",
    "    signals = []\n",
    "    for k in range(4):\n",
    "        COLS = FEATS[k]\n",
    "        \n",
    "        for kk in range(4):\n",
    "        \n",
    "            # COMPUTE PAIR DIFFERENCES\n",
    "            x = eeg[COLS[kk]].values - eeg[COLS[kk+1]].values\n",
    "\n",
    "            # FILL NANS\n",
    "            m = np.nanmean(x)\n",
    "            if np.isnan(x).mean()<1: x = np.nan_to_num(x,nan=m)\n",
    "            else: x[:] = 0\n",
    "\n",
    "            # DENOISE\n",
    "            if USE_WAVELET:\n",
    "                x = denoise(x, wavelet=USE_WAVELET)\n",
    "            signals.append(x)\n",
    "\n",
    "            # RAW SPECTROGRAM\n",
    "            mel_spec = librosa.feature.melspectrogram(y=x, sr=200, hop_length=len(x)//256, \n",
    "                  n_fft=1024, n_mels=128, fmin=0, fmax=20, win_length=128)\n",
    "\n",
    "            # LOG TRANSFORM\n",
    "            width = (mel_spec.shape[1]//32)*32\n",
    "            mel_spec_db = librosa.power_to_db(mel_spec, ref=np.max).astype(np.float32)[:,:width]\n",
    "\n",
    "            # STANDARDIZE TO -1 TO 1\n",
    "            mel_spec_db = (mel_spec_db+40)/40 \n",
    "            img[:,:,k] += mel_spec_db\n",
    "                \n",
    "        # AVERAGE THE 4 MONTAGE DIFFERENCES\n",
    "        img[:,:,k] /= 4.0\n",
    "        \n",
    "        if display:\n",
    "            plt.subplot(2,2,k+1)\n",
    "            plt.imshow(img[:,:,k],aspect='auto',origin='lower')\n",
    "            plt.title(f'EEG {eeg_id} - Spectrogram {NAMES[k]}')\n",
    "            \n",
    "    if display: \n",
    "        plt.show()\n",
    "        plt.figure(figsize=(10,5))\n",
    "        offset = 0\n",
    "        for k in range(4):\n",
    "            if k>0: offset -= signals[3-k].min()\n",
    "            plt.plot(range(10_000),signals[k]+offset,label=NAMES[3-k])\n",
    "            offset += signals[3-k].max()\n",
    "        plt.legend()\n",
    "        plt.title(f'EEG {eeg_id} Signals')\n",
    "        plt.show()\n",
    "        print(); print('#'*25); print()\n",
    "        \n",
    "    return img"
   ]
  },
  {
   "cell_type": "code",
   "execution_count": 23,
   "id": "ddb15175",
   "metadata": {
    "execution": {
     "iopub.execute_input": "2024-02-22T12:15:20.198681Z",
     "iopub.status.busy": "2024-02-22T12:15:20.198020Z",
     "iopub.status.idle": "2024-02-22T12:15:29.319856Z",
     "shell.execute_reply": "2024-02-22T12:15:29.318534Z"
    },
    "papermill": {
     "duration": 9.158944,
     "end_time": "2024-02-22T12:15:29.323542",
     "exception": false,
     "start_time": "2024-02-22T12:15:20.164598",
     "status": "completed"
    },
    "tags": []
   },
   "outputs": [
    {
     "name": "stdout",
     "output_type": "stream",
     "text": [
      "Converting Test EEG to Spectrograms...\n",
      "\n"
     ]
    }
   ],
   "source": [
    "# CREATE ALL EEG SPECTROGRAMS\n",
    "PATH2 = '/kaggle/input/hms-harmful-brain-activity-classification/test_eegs/'\n",
    "DISPLAY = 0\n",
    "EEG_IDS2 = test.eeg_id.unique()\n",
    "all_eegs2 = {}\n",
    "\n",
    "print('Converting Test EEG to Spectrograms...'); print()\n",
    "for i,eeg_id in enumerate(EEG_IDS2):\n",
    "        \n",
    "    # CREATE SPECTROGRAM FROM EEG PARQUET\n",
    "    img = spectrogram_from_eeg(f'{PATH2}{eeg_id}.parquet', i<DISPLAY)\n",
    "    all_eegs2[eeg_id] = img"
   ]
  },
  {
   "cell_type": "code",
   "execution_count": 24,
   "id": "58558614",
   "metadata": {
    "execution": {
     "iopub.execute_input": "2024-02-22T12:15:29.456423Z",
     "iopub.status.busy": "2024-02-22T12:15:29.455207Z",
     "iopub.status.idle": "2024-02-22T12:15:32.520098Z",
     "shell.execute_reply": "2024-02-22T12:15:32.518906Z"
    },
    "papermill": {
     "duration": 3.132039,
     "end_time": "2024-02-22T12:15:32.522508",
     "exception": false,
     "start_time": "2024-02-22T12:15:29.390469",
     "status": "completed"
    },
    "tags": []
   },
   "outputs": [
    {
     "name": "stdout",
     "output_type": "stream",
     "text": [
      "New test shape (1, 3651)\n"
     ]
    }
   ],
   "source": [
    "# FEATURE ENGINEER TEST\n",
    "PATH2 = '/kaggle/input/hms-harmful-brain-activity-classification/test_spectrograms/'\n",
    "data = np.zeros((len(test),len(FEATURES)))\n",
    "    \n",
    "for k in range(len(test)):\n",
    "    row = test.iloc[k]\n",
    "    s = int( row.spectrogram_id )\n",
    "    spec = pd.read_parquet(f'{PATH2}{s}.parquet')\n",
    "    \n",
    "    # 10 MINUTE WINDOW FEATURES\n",
    "    x = np.nanmean( spec.iloc[:,1:].values, axis=0)\n",
    "    data[k,:400] = x\n",
    "    x = np.nanmin( spec.iloc[:,1:].values, axis=0)\n",
    "    data[k,400:800] = x\n",
    "\n",
    "    # 20 SECOND WINDOW FEATURES\n",
    "    x = np.nanmean( spec.iloc[145:155,1:].values, axis=0)\n",
    "    data[k,800:1200] = x\n",
    "    x = np.nanmin( spec.iloc[145:155,1:].values, axis=0)\n",
    "    data[k,1200:1600] = x\n",
    "    \n",
    "    # RESHAPE EEG SPECTROGRAMS 128x256x4 => 512x256\n",
    "    eeg_spec = np.zeros((512,256),dtype='float32')\n",
    "    xx = all_eegs2[row.eeg_id]\n",
    "    for j in range(4): eeg_spec[128*j:128*(j+1),] = xx[:,:,j]\n",
    "\n",
    "    # 10 SECOND WINDOW FROM EEG SPECTROGRAMS \n",
    "    x = np.nanmean(eeg_spec.T[100:-100,:],axis=0)\n",
    "    data[k,1600:2112] = x\n",
    "    x = np.nanmin(eeg_spec.T[100:-100,:],axis=0)\n",
    "    data[k,2112:2624] = x\n",
    "    x = np.nanmax(eeg_spec.T[100:-100,:],axis=0)\n",
    "    data[k,2624:3136] = x\n",
    "    x = np.nanstd(eeg_spec.T[100:-100,:],axis=0)\n",
    "    data[k,3136:3648] = x\n",
    "\n",
    "test[FEATURES] = data\n",
    "print('New test shape',test.shape)"
   ]
  },
  {
   "cell_type": "code",
   "execution_count": 25,
   "id": "0472e307",
   "metadata": {
    "execution": {
     "iopub.execute_input": "2024-02-22T12:15:32.586730Z",
     "iopub.status.busy": "2024-02-22T12:15:32.586419Z",
     "iopub.status.idle": "2024-02-22T12:15:34.623060Z",
     "shell.execute_reply": "2024-02-22T12:15:34.622021Z"
    },
    "papermill": {
     "duration": 2.070675,
     "end_time": "2024-02-22T12:15:34.625037",
     "exception": false,
     "start_time": "2024-02-22T12:15:32.554362",
     "status": "completed"
    },
    "tags": []
   },
   "outputs": [
    {
     "name": "stdout",
     "output_type": "stream",
     "text": [
      "0 , 1 , 2 , 3 , 4 , \n",
      "Test preds shape (1, 6)\n"
     ]
    }
   ],
   "source": [
    "# INFER CATBOOST ON TEST\n",
    "preds = []\n",
    "\n",
    "for i in range(5):\n",
    "    print(i,', ',end='')\n",
    "    model = CatBoostClassifier(task_type='GPU')\n",
    "    model.load_model(f'CAT_v{VER}_f{i}.cat')\n",
    "    \n",
    "    test_pool = Pool(\n",
    "        data = test[FEATURES]\n",
    "    )\n",
    "    \n",
    "    pred = model.predict_proba(test_pool)\n",
    "    preds.append(pred)\n",
    "pred = np.mean(preds,axis=0)\n",
    "print()\n",
    "print('Test preds shape',pred.shape)"
   ]
  },
  {
   "cell_type": "code",
   "execution_count": 26,
   "id": "9337c61c",
   "metadata": {
    "execution": {
     "iopub.execute_input": "2024-02-22T12:15:34.689667Z",
     "iopub.status.busy": "2024-02-22T12:15:34.689353Z",
     "iopub.status.idle": "2024-02-22T12:15:34.712851Z",
     "shell.execute_reply": "2024-02-22T12:15:34.711986Z"
    },
    "papermill": {
     "duration": 0.057165,
     "end_time": "2024-02-22T12:15:34.714686",
     "exception": false,
     "start_time": "2024-02-22T12:15:34.657521",
     "status": "completed"
    },
    "tags": []
   },
   "outputs": [
    {
     "name": "stdout",
     "output_type": "stream",
     "text": [
      "Submissionn shape (1, 7)\n"
     ]
    },
    {
     "data": {
      "text/html": [
       "<div>\n",
       "<style scoped>\n",
       "    .dataframe tbody tr th:only-of-type {\n",
       "        vertical-align: middle;\n",
       "    }\n",
       "\n",
       "    .dataframe tbody tr th {\n",
       "        vertical-align: top;\n",
       "    }\n",
       "\n",
       "    .dataframe thead th {\n",
       "        text-align: right;\n",
       "    }\n",
       "</style>\n",
       "<table border=\"1\" class=\"dataframe\">\n",
       "  <thead>\n",
       "    <tr style=\"text-align: right;\">\n",
       "      <th></th>\n",
       "      <th>eeg_id</th>\n",
       "      <th>seizure_vote</th>\n",
       "      <th>lpd_vote</th>\n",
       "      <th>gpd_vote</th>\n",
       "      <th>lrda_vote</th>\n",
       "      <th>grda_vote</th>\n",
       "      <th>other_vote</th>\n",
       "    </tr>\n",
       "  </thead>\n",
       "  <tbody>\n",
       "    <tr>\n",
       "      <th>0</th>\n",
       "      <td>3911565283</td>\n",
       "      <td>0.397553</td>\n",
       "      <td>0.00916</td>\n",
       "      <td>0.000469</td>\n",
       "      <td>0.16124</td>\n",
       "      <td>0.185788</td>\n",
       "      <td>0.245791</td>\n",
       "    </tr>\n",
       "  </tbody>\n",
       "</table>\n",
       "</div>"
      ],
      "text/plain": [
       "       eeg_id  seizure_vote  lpd_vote  gpd_vote  lrda_vote  grda_vote  \\\n",
       "0  3911565283      0.397553   0.00916  0.000469    0.16124   0.185788   \n",
       "\n",
       "   other_vote  \n",
       "0    0.245791  "
      ]
     },
     "execution_count": 26,
     "metadata": {},
     "output_type": "execute_result"
    }
   ],
   "source": [
    "sub = pd.DataFrame({'eeg_id':test.eeg_id.values})\n",
    "sub[TARGETS] = pred\n",
    "sub.to_csv('submission.csv',index=False)\n",
    "print('Submissionn shape',sub.shape)\n",
    "sub.head()"
   ]
  },
  {
   "cell_type": "code",
   "execution_count": 27,
   "id": "3ec77722",
   "metadata": {
    "execution": {
     "iopub.execute_input": "2024-02-22T12:15:34.778147Z",
     "iopub.status.busy": "2024-02-22T12:15:34.777841Z",
     "iopub.status.idle": "2024-02-22T12:15:34.785399Z",
     "shell.execute_reply": "2024-02-22T12:15:34.784613Z"
    },
    "papermill": {
     "duration": 0.041488,
     "end_time": "2024-02-22T12:15:34.787269",
     "exception": false,
     "start_time": "2024-02-22T12:15:34.745781",
     "status": "completed"
    },
    "tags": []
   },
   "outputs": [
    {
     "data": {
      "text/plain": [
       "0    1.0\n",
       "dtype: float64"
      ]
     },
     "execution_count": 27,
     "metadata": {},
     "output_type": "execute_result"
    }
   ],
   "source": [
    "# SANITY CHECK TO CONFIRM PREDICTIONS SUM TO ONE\n",
    "sub.iloc[:,-6:].sum(axis=1)"
   ]
  }
 ],
 "metadata": {
  "kaggle": {
   "accelerator": "nvidiaTeslaT4",
   "dataSources": [
    {
     "databundleVersionId": 7469972,
     "sourceId": 59093,
     "sourceType": "competition"
    },
    {
     "datasetId": 4297749,
     "sourceId": 7392733,
     "sourceType": "datasetVersion"
    },
    {
     "datasetId": 4297782,
     "sourceId": 7392775,
     "sourceType": "datasetVersion"
    },
    {
     "datasetId": 4334995,
     "sourceId": 7447509,
     "sourceType": "datasetVersion"
    }
   ],
   "dockerImageVersionId": 30636,
   "isGpuEnabled": true,
   "isInternetEnabled": false,
   "language": "python",
   "sourceType": "notebook"
  },
  "kernelspec": {
   "display_name": "Python 3",
   "language": "python",
   "name": "python3"
  },
  "language_info": {
   "codemirror_mode": {
    "name": "ipython",
    "version": 3
   },
   "file_extension": ".py",
   "mimetype": "text/x-python",
   "name": "python",
   "nbconvert_exporter": "python",
   "pygments_lexer": "ipython3",
   "version": "3.10.12"
  },
  "papermill": {
   "default_parameters": {},
   "duration": 633.989359,
   "end_time": "2024-02-22T12:15:37.831537",
   "environment_variables": {},
   "exception": null,
   "input_path": "__notebook__.ipynb",
   "output_path": "__notebook__.ipynb",
   "parameters": {},
   "start_time": "2024-02-22T12:05:03.842178",
   "version": "2.4.0"
  }
 },
 "nbformat": 4,
 "nbformat_minor": 5
}
