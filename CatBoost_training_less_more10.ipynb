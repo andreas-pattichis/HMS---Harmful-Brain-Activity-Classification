{
 "cells": [
  {
   "cell_type": "markdown",
   "id": "d355a254",
   "metadata": {
    "papermill": {
     "duration": 0.008889,
     "end_time": "2024-03-11T15:33:04.530297",
     "exception": false,
     "start_time": "2024-03-11T15:33:04.521408",
     "status": "completed"
    },
    "tags": []
   },
   "source": [
    "# CatBoost Starter for Brain Comp\n",
    "This is a CatBoost starter notebook for Kaggle's brain comp. We use only spectrogram features. (The model does not use eeg features yet). We can improve the CV and LB score by engineering more (spectrogram and/or eeg) features and we can tune the CatBoost model (and/or use other ML DL models). Discussion about this starter is [here][2].\n",
    "\n",
    "In this notebook, we also compare five CV scores. Kaggle's sample submission uses equal predictions of 1/6 for all targets and achieves CV 1.46, LB 1.09. The best public notebook (on Jan 12th) [here][1] uses train means and achieves CV 1.26 LB 0.97. Our CatBoost model version 1 achieves CV 1.01 LB 0.81. Our CatBoost model version 2 achieves CV 0.82 LB 0.67. Then version 3 adds features from **EEG spectrograms** and achieves CV 0.74, wow! Let's see what LB is...\n",
    "\n",
    "# Exciting UPDATE!\n",
    "Version 3 of this notebook trains using **both** Kaggle spectrograms and my new **EEG spectrograms** from my Kaggle dataset [here][3] (which were created from my spectrogram starter [here][4]). We boost the CV score and (most likely) LB score by almost `+0.10`, wow! \n",
    "\n",
    "### Version Notes\n",
    "* Version 1 - Uses spectrogram features from 10 minute window `means`. Achieves CV 1.01, LB 0.81\n",
    "* Version 2 - Uses spectrogram features from 10 minute and 20 second `means` and `mins`. Achieves CV 0.82, LB 0.67\n",
    "* Version 3 - Uses Kaggle spectrogrms **plus EEG spectrograms**. Achieves 0.74, LB to be determined...\n",
    "\n",
    "[1]: https://www.kaggle.com/code/seshurajup/eda-train-csv\n",
    "[2]: https://www.kaggle.com/competitions/hms-harmful-brain-activity-classification/discussion/467576\n",
    "[3]: https://www.kaggle.com/datasets/cdeotte/brain-eeg-spectrograms\n",
    "[4]: https://www.kaggle.com/code/cdeotte/how-to-make-spectrogram-from-eeg"
   ]
  },
  {
   "cell_type": "markdown",
   "id": "b3c19e60",
   "metadata": {
    "papermill": {
     "duration": 0.008088,
     "end_time": "2024-03-11T15:33:04.546549",
     "exception": false,
     "start_time": "2024-03-11T15:33:04.538461",
     "status": "completed"
    },
    "tags": []
   },
   "source": [
    "# Load Libraries"
   ]
  },
  {
   "cell_type": "code",
   "execution_count": 1,
   "id": "aa75eb8d",
   "metadata": {
    "execution": {
     "iopub.execute_input": "2024-03-11T15:33:04.564030Z",
     "iopub.status.busy": "2024-03-11T15:33:04.563684Z",
     "iopub.status.idle": "2024-03-11T15:33:05.420739Z",
     "shell.execute_reply": "2024-03-11T15:33:05.419699Z"
    },
    "papermill": {
     "duration": 0.868963,
     "end_time": "2024-03-11T15:33:05.423424",
     "exception": false,
     "start_time": "2024-03-11T15:33:04.554461",
     "status": "completed"
    },
    "tags": []
   },
   "outputs": [],
   "source": [
    "import os, gc\n",
    "os.environ[\"CUDA_VISIBLE_DEVICES\"]=\"0,1\"\n",
    "import pandas as pd, numpy as np\n",
    "import matplotlib.pyplot as plt\n",
    "\n",
    "VER = 3"
   ]
  },
  {
   "cell_type": "markdown",
   "id": "229ff240",
   "metadata": {
    "papermill": {
     "duration": 0.008375,
     "end_time": "2024-03-11T15:33:05.440767",
     "exception": false,
     "start_time": "2024-03-11T15:33:05.432392",
     "status": "completed"
    },
    "tags": []
   },
   "source": [
    "# Load Train Data"
   ]
  },
  {
   "cell_type": "code",
   "execution_count": 2,
   "id": "9c8bc8d0",
   "metadata": {
    "_cell_guid": "b1076dfc-b9ad-4769-8c92-a6c4dae69d19",
    "_uuid": "8f2839f25d086af736a60e9eeb907d3b93b6e0e5",
    "execution": {
     "iopub.execute_input": "2024-03-11T15:33:05.458648Z",
     "iopub.status.busy": "2024-03-11T15:33:05.458185Z",
     "iopub.status.idle": "2024-03-11T15:33:05.773448Z",
     "shell.execute_reply": "2024-03-11T15:33:05.772404Z"
    },
    "papermill": {
     "duration": 0.326323,
     "end_time": "2024-03-11T15:33:05.775580",
     "exception": false,
     "start_time": "2024-03-11T15:33:05.449257",
     "status": "completed"
    },
    "tags": []
   },
   "outputs": [
    {
     "name": "stdout",
     "output_type": "stream",
     "text": [
      "Train shape: (106800, 15)\n",
      "Targets ['seizure_vote', 'lpd_vote', 'gpd_vote', 'lrda_vote', 'grda_vote', 'other_vote']\n"
     ]
    },
    {
     "data": {
      "text/html": [
       "<div>\n",
       "<style scoped>\n",
       "    .dataframe tbody tr th:only-of-type {\n",
       "        vertical-align: middle;\n",
       "    }\n",
       "\n",
       "    .dataframe tbody tr th {\n",
       "        vertical-align: top;\n",
       "    }\n",
       "\n",
       "    .dataframe thead th {\n",
       "        text-align: right;\n",
       "    }\n",
       "</style>\n",
       "<table border=\"1\" class=\"dataframe\">\n",
       "  <thead>\n",
       "    <tr style=\"text-align: right;\">\n",
       "      <th></th>\n",
       "      <th>eeg_id</th>\n",
       "      <th>eeg_sub_id</th>\n",
       "      <th>eeg_label_offset_seconds</th>\n",
       "      <th>spectrogram_id</th>\n",
       "      <th>spectrogram_sub_id</th>\n",
       "      <th>spectrogram_label_offset_seconds</th>\n",
       "      <th>label_id</th>\n",
       "      <th>patient_id</th>\n",
       "      <th>expert_consensus</th>\n",
       "      <th>seizure_vote</th>\n",
       "      <th>lpd_vote</th>\n",
       "      <th>gpd_vote</th>\n",
       "      <th>lrda_vote</th>\n",
       "      <th>grda_vote</th>\n",
       "      <th>other_vote</th>\n",
       "    </tr>\n",
       "  </thead>\n",
       "  <tbody>\n",
       "    <tr>\n",
       "      <th>0</th>\n",
       "      <td>1628180742</td>\n",
       "      <td>0</td>\n",
       "      <td>0.0</td>\n",
       "      <td>353733</td>\n",
       "      <td>0</td>\n",
       "      <td>0.0</td>\n",
       "      <td>127492639</td>\n",
       "      <td>42516</td>\n",
       "      <td>Seizure</td>\n",
       "      <td>3</td>\n",
       "      <td>0</td>\n",
       "      <td>0</td>\n",
       "      <td>0</td>\n",
       "      <td>0</td>\n",
       "      <td>0</td>\n",
       "    </tr>\n",
       "    <tr>\n",
       "      <th>1</th>\n",
       "      <td>1628180742</td>\n",
       "      <td>1</td>\n",
       "      <td>6.0</td>\n",
       "      <td>353733</td>\n",
       "      <td>1</td>\n",
       "      <td>6.0</td>\n",
       "      <td>3887563113</td>\n",
       "      <td>42516</td>\n",
       "      <td>Seizure</td>\n",
       "      <td>3</td>\n",
       "      <td>0</td>\n",
       "      <td>0</td>\n",
       "      <td>0</td>\n",
       "      <td>0</td>\n",
       "      <td>0</td>\n",
       "    </tr>\n",
       "    <tr>\n",
       "      <th>2</th>\n",
       "      <td>1628180742</td>\n",
       "      <td>2</td>\n",
       "      <td>8.0</td>\n",
       "      <td>353733</td>\n",
       "      <td>2</td>\n",
       "      <td>8.0</td>\n",
       "      <td>1142670488</td>\n",
       "      <td>42516</td>\n",
       "      <td>Seizure</td>\n",
       "      <td>3</td>\n",
       "      <td>0</td>\n",
       "      <td>0</td>\n",
       "      <td>0</td>\n",
       "      <td>0</td>\n",
       "      <td>0</td>\n",
       "    </tr>\n",
       "    <tr>\n",
       "      <th>3</th>\n",
       "      <td>1628180742</td>\n",
       "      <td>3</td>\n",
       "      <td>18.0</td>\n",
       "      <td>353733</td>\n",
       "      <td>3</td>\n",
       "      <td>18.0</td>\n",
       "      <td>2718991173</td>\n",
       "      <td>42516</td>\n",
       "      <td>Seizure</td>\n",
       "      <td>3</td>\n",
       "      <td>0</td>\n",
       "      <td>0</td>\n",
       "      <td>0</td>\n",
       "      <td>0</td>\n",
       "      <td>0</td>\n",
       "    </tr>\n",
       "    <tr>\n",
       "      <th>4</th>\n",
       "      <td>1628180742</td>\n",
       "      <td>4</td>\n",
       "      <td>24.0</td>\n",
       "      <td>353733</td>\n",
       "      <td>4</td>\n",
       "      <td>24.0</td>\n",
       "      <td>3080632009</td>\n",
       "      <td>42516</td>\n",
       "      <td>Seizure</td>\n",
       "      <td>3</td>\n",
       "      <td>0</td>\n",
       "      <td>0</td>\n",
       "      <td>0</td>\n",
       "      <td>0</td>\n",
       "      <td>0</td>\n",
       "    </tr>\n",
       "  </tbody>\n",
       "</table>\n",
       "</div>"
      ],
      "text/plain": [
       "       eeg_id  eeg_sub_id  eeg_label_offset_seconds  spectrogram_id  \\\n",
       "0  1628180742           0                       0.0          353733   \n",
       "1  1628180742           1                       6.0          353733   \n",
       "2  1628180742           2                       8.0          353733   \n",
       "3  1628180742           3                      18.0          353733   \n",
       "4  1628180742           4                      24.0          353733   \n",
       "\n",
       "   spectrogram_sub_id  spectrogram_label_offset_seconds    label_id  \\\n",
       "0                   0                               0.0   127492639   \n",
       "1                   1                               6.0  3887563113   \n",
       "2                   2                               8.0  1142670488   \n",
       "3                   3                              18.0  2718991173   \n",
       "4                   4                              24.0  3080632009   \n",
       "\n",
       "   patient_id expert_consensus  seizure_vote  lpd_vote  gpd_vote  lrda_vote  \\\n",
       "0       42516          Seizure             3         0         0          0   \n",
       "1       42516          Seizure             3         0         0          0   \n",
       "2       42516          Seizure             3         0         0          0   \n",
       "3       42516          Seizure             3         0         0          0   \n",
       "4       42516          Seizure             3         0         0          0   \n",
       "\n",
       "   grda_vote  other_vote  \n",
       "0          0           0  \n",
       "1          0           0  \n",
       "2          0           0  \n",
       "3          0           0  \n",
       "4          0           0  "
      ]
     },
     "execution_count": 2,
     "metadata": {},
     "output_type": "execute_result"
    }
   ],
   "source": [
    "df = pd.read_csv('/kaggle/input/hms-harmful-brain-activity-classification/train.csv')\n",
    "TARGETS = df.columns[-6:]\n",
    "print('Train shape:', df.shape )\n",
    "print('Targets', list(TARGETS))\n",
    "df.head()"
   ]
  },
  {
   "cell_type": "markdown",
   "id": "8a281a7f",
   "metadata": {},
   "source": [
    "Depending if we are training larger than 10 votes dataset or less than 10 votes dataset we will comment the next cell or the one below"
   ]
  },
  {
   "cell_type": "code",
   "execution_count": 3,
   "id": "56a964d8",
   "metadata": {
    "execution": {
     "iopub.execute_input": "2024-03-11T15:33:05.794332Z",
     "iopub.status.busy": "2024-03-11T15:33:05.794010Z",
     "iopub.status.idle": "2024-03-11T15:33:05.799986Z",
     "shell.execute_reply": "2024-03-11T15:33:05.799110Z"
    },
    "papermill": {
     "duration": 0.018192,
     "end_time": "2024-03-11T15:33:05.802213",
     "exception": false,
     "start_time": "2024-03-11T15:33:05.784021",
     "status": "completed"
    },
    "tags": []
   },
   "outputs": [
    {
     "data": {
      "text/plain": [
       "\"df['total_votes'] = df[['seizure_vote', 'lpd_vote', 'gpd_vote', 'lrda_vote', 'grda_vote', 'other_vote']].sum(axis=1)\\ndf['max_vote'] = df[['seizure_vote', 'lpd_vote', 'gpd_vote', 'lrda_vote', 'grda_vote', 'other_vote']].idxmax(axis=1)\\n\\n# Filtrar según criterios\\ndf = df[(df['total_votes'] > 10) & (df.apply(lambda row: row[row['max_vote']] / row['total_votes'] >= 0.8, axis=1))]\""
      ]
     },
     "execution_count": 3,
     "metadata": {},
     "output_type": "execute_result"
    }
   ],
   "source": [
    "'''df['total_votes'] = df[['seizure_vote', 'lpd_vote', 'gpd_vote', 'lrda_vote', 'grda_vote', 'other_vote']].sum(axis=1)\n",
    "df['max_vote'] = df[['seizure_vote', 'lpd_vote', 'gpd_vote', 'lrda_vote', 'grda_vote', 'other_vote']].idxmax(axis=1)\n",
    "\n",
    "# Filtrar según criterios\n",
    "df = df[df['total_votes'] > 10]'''"
   ]
  },
  {
   "cell_type": "code",
   "execution_count": 4,
   "id": "33ef030c",
   "metadata": {
    "execution": {
     "iopub.execute_input": "2024-03-11T15:33:05.820315Z",
     "iopub.status.busy": "2024-03-11T15:33:05.820047Z",
     "iopub.status.idle": "2024-03-11T15:33:08.037866Z",
     "shell.execute_reply": "2024-03-11T15:33:08.036942Z"
    },
    "papermill": {
     "duration": 2.230043,
     "end_time": "2024-03-11T15:33:08.040627",
     "exception": false,
     "start_time": "2024-03-11T15:33:05.810584",
     "status": "completed"
    },
    "tags": []
   },
   "outputs": [],
   "source": [
    "df['total_votes'] = df[['seizure_vote', 'lpd_vote', 'gpd_vote', 'lrda_vote', 'grda_vote', 'other_vote']].sum(axis=1)\n",
    "df['max_vote'] = df[['seizure_vote', 'lpd_vote', 'gpd_vote', 'lrda_vote', 'grda_vote', 'other_vote']].idxmax(axis=1)\n",
    "\n",
    "# Filtrar según criterios\n",
    "df = df[df['total_votes'] < 10]"
   ]
  },
  {
   "cell_type": "markdown",
   "id": "533a1a16",
   "metadata": {
    "papermill": {
     "duration": 0.01009,
     "end_time": "2024-03-11T15:33:08.059710",
     "exception": false,
     "start_time": "2024-03-11T15:33:08.049620",
     "status": "completed"
    },
    "tags": []
   },
   "source": [
    "# Create Non-Overlapping Eeg Id Train Data\n",
    "The competition data description says that test data does not have multiple crops from the same `eeg_id`. Therefore we will train and validate using only 1 crop per `eeg_id`. There is a discussion about this [here][1].\n",
    "\n",
    "[1]: https://www.kaggle.com/competitions/hms-harmful-brain-activity-classification/discussion/467021"
   ]
  },
  {
   "cell_type": "code",
   "execution_count": 5,
   "id": "67642a3c",
   "metadata": {
    "execution": {
     "iopub.execute_input": "2024-03-11T15:33:08.083987Z",
     "iopub.status.busy": "2024-03-11T15:33:08.083647Z",
     "iopub.status.idle": "2024-03-11T15:33:08.168735Z",
     "shell.execute_reply": "2024-03-11T15:33:08.167720Z"
    },
    "papermill": {
     "duration": 0.099933,
     "end_time": "2024-03-11T15:33:08.171189",
     "exception": false,
     "start_time": "2024-03-11T15:33:08.071256",
     "status": "completed"
    },
    "tags": []
   },
   "outputs": [
    {
     "name": "stdout",
     "output_type": "stream",
     "text": [
      "Train non-overlapp eeg_id shape: (9689, 12)\n"
     ]
    },
    {
     "data": {
      "text/html": [
       "<div>\n",
       "<style scoped>\n",
       "    .dataframe tbody tr th:only-of-type {\n",
       "        vertical-align: middle;\n",
       "    }\n",
       "\n",
       "    .dataframe tbody tr th {\n",
       "        vertical-align: top;\n",
       "    }\n",
       "\n",
       "    .dataframe thead th {\n",
       "        text-align: right;\n",
       "    }\n",
       "</style>\n",
       "<table border=\"1\" class=\"dataframe\">\n",
       "  <thead>\n",
       "    <tr style=\"text-align: right;\">\n",
       "      <th></th>\n",
       "      <th>eeg_id</th>\n",
       "      <th>spec_id</th>\n",
       "      <th>min</th>\n",
       "      <th>max</th>\n",
       "      <th>patient_id</th>\n",
       "      <th>seizure_vote</th>\n",
       "      <th>lpd_vote</th>\n",
       "      <th>gpd_vote</th>\n",
       "      <th>lrda_vote</th>\n",
       "      <th>grda_vote</th>\n",
       "      <th>other_vote</th>\n",
       "      <th>target</th>\n",
       "    </tr>\n",
       "  </thead>\n",
       "  <tbody>\n",
       "    <tr>\n",
       "      <th>0</th>\n",
       "      <td>642382</td>\n",
       "      <td>14960202</td>\n",
       "      <td>1008.0</td>\n",
       "      <td>1032.0</td>\n",
       "      <td>5955</td>\n",
       "      <td>0.0</td>\n",
       "      <td>0.0</td>\n",
       "      <td>0.0</td>\n",
       "      <td>0.0</td>\n",
       "      <td>0.0</td>\n",
       "      <td>1.0</td>\n",
       "      <td>Other</td>\n",
       "    </tr>\n",
       "    <tr>\n",
       "      <th>1</th>\n",
       "      <td>751790</td>\n",
       "      <td>618728447</td>\n",
       "      <td>908.0</td>\n",
       "      <td>908.0</td>\n",
       "      <td>38549</td>\n",
       "      <td>0.0</td>\n",
       "      <td>0.0</td>\n",
       "      <td>1.0</td>\n",
       "      <td>0.0</td>\n",
       "      <td>0.0</td>\n",
       "      <td>0.0</td>\n",
       "      <td>GPD</td>\n",
       "    </tr>\n",
       "    <tr>\n",
       "      <th>2</th>\n",
       "      <td>778705</td>\n",
       "      <td>52296320</td>\n",
       "      <td>0.0</td>\n",
       "      <td>0.0</td>\n",
       "      <td>40955</td>\n",
       "      <td>0.0</td>\n",
       "      <td>0.0</td>\n",
       "      <td>0.0</td>\n",
       "      <td>0.0</td>\n",
       "      <td>0.0</td>\n",
       "      <td>1.0</td>\n",
       "      <td>Other</td>\n",
       "    </tr>\n",
       "    <tr>\n",
       "      <th>3</th>\n",
       "      <td>1629671</td>\n",
       "      <td>2036345030</td>\n",
       "      <td>0.0</td>\n",
       "      <td>160.0</td>\n",
       "      <td>37481</td>\n",
       "      <td>1.0</td>\n",
       "      <td>0.0</td>\n",
       "      <td>0.0</td>\n",
       "      <td>0.0</td>\n",
       "      <td>0.0</td>\n",
       "      <td>0.0</td>\n",
       "      <td>Seizure</td>\n",
       "    </tr>\n",
       "    <tr>\n",
       "      <th>4</th>\n",
       "      <td>2061593</td>\n",
       "      <td>320962633</td>\n",
       "      <td>1450.0</td>\n",
       "      <td>1450.0</td>\n",
       "      <td>23828</td>\n",
       "      <td>0.0</td>\n",
       "      <td>0.0</td>\n",
       "      <td>0.0</td>\n",
       "      <td>0.0</td>\n",
       "      <td>0.0</td>\n",
       "      <td>1.0</td>\n",
       "      <td>Other</td>\n",
       "    </tr>\n",
       "  </tbody>\n",
       "</table>\n",
       "</div>"
      ],
      "text/plain": [
       "    eeg_id     spec_id     min     max  patient_id  seizure_vote  lpd_vote  \\\n",
       "0   642382    14960202  1008.0  1032.0        5955           0.0       0.0   \n",
       "1   751790   618728447   908.0   908.0       38549           0.0       0.0   \n",
       "2   778705    52296320     0.0     0.0       40955           0.0       0.0   \n",
       "3  1629671  2036345030     0.0   160.0       37481           1.0       0.0   \n",
       "4  2061593   320962633  1450.0  1450.0       23828           0.0       0.0   \n",
       "\n",
       "   gpd_vote  lrda_vote  grda_vote  other_vote   target  \n",
       "0       0.0        0.0        0.0         1.0    Other  \n",
       "1       1.0        0.0        0.0         0.0      GPD  \n",
       "2       0.0        0.0        0.0         1.0    Other  \n",
       "3       0.0        0.0        0.0         0.0  Seizure  \n",
       "4       0.0        0.0        0.0         1.0    Other  "
      ]
     },
     "execution_count": 5,
     "metadata": {},
     "output_type": "execute_result"
    }
   ],
   "source": [
    "train = df.groupby('eeg_id')[['spectrogram_id','spectrogram_label_offset_seconds']].agg(\n",
    "    {'spectrogram_id':'first','spectrogram_label_offset_seconds':'min'})\n",
    "train.columns = ['spec_id','min']\n",
    "\n",
    "tmp = df.groupby('eeg_id')[['spectrogram_id','spectrogram_label_offset_seconds']].agg(\n",
    "    {'spectrogram_label_offset_seconds':'max'})\n",
    "train['max'] = tmp\n",
    "\n",
    "tmp = df.groupby('eeg_id')[['patient_id']].agg('first')\n",
    "train['patient_id'] = tmp\n",
    "\n",
    "tmp = df.groupby('eeg_id')[TARGETS].agg('sum')\n",
    "for t in TARGETS:\n",
    "    train[t] = tmp[t].values\n",
    "    \n",
    "y_data = train[TARGETS].values\n",
    "y_data = y_data / y_data.sum(axis=1,keepdims=True)\n",
    "train[TARGETS] = y_data\n",
    "\n",
    "tmp = df.groupby('eeg_id')[['expert_consensus']].agg('first')\n",
    "train['target'] = tmp\n",
    "\n",
    "train = train.reset_index()\n",
    "print('Train non-overlapp eeg_id shape:', train.shape )\n",
    "train.head()"
   ]
  },
  {
   "cell_type": "markdown",
   "id": "433ba87c",
   "metadata": {
    "papermill": {
     "duration": 0.008675,
     "end_time": "2024-03-11T15:33:08.189456",
     "exception": false,
     "start_time": "2024-03-11T15:33:08.180781",
     "status": "completed"
    },
    "tags": []
   },
   "source": [
    "# Feature Engineer\n",
    "In this section, we create features for our CatBoost model. \n",
    "\n",
    "First we need to read in all 11k train spectrogram files. Reading thousands of files takes 11 minutes with Pandas. Instead, we can read 1 file from my [Kaggle dataset here][1] which contains all the 11k spectrograms in less than 1 minute! To use my [Kaggle dataset][1], set variable `READ_SPEC_FILES = False`. Thanks for upvoting my Kaggle dataset!\n",
    "\n",
    "Next we need to engineer features for our CatBoost model. In version 1 notebook, we just take the mean (over time) of each of the 400 spectrogram frequencies (using middle 10 minutes). This produces 400 features (per each unique eeg id). We can improve CV and LB score by engineering new features (and/or tuning CatBoost).\n",
    "\n",
    "UPDATE: Version 2 creates features from `means` and `mins`. And version 2 uses `10 minute windows` and `20 second windows`.\n",
    "\n",
    "UPDATE: Version 3 uses **both** Kaggle spectrograms and **EEG spectrograms**. We load EEG spectrograms from my Kaggle dataset [here][2]. These EEG spectrograms were created from EEG raw waveforms in my spectrogram starter [here][3]. Thank you everyone for upvoting my new Kaggle dataset!\n",
    "\n",
    "[1]: https://www.kaggle.com/datasets/cdeotte/brain-spectrograms\n",
    "[2]: https://www.kaggle.com/datasets/cdeotte/brain-eeg-spectrograms\n",
    "[3]: https://www.kaggle.com/code/cdeotte/efficientnetb2-starter-lb-0-57"
   ]
  },
  {
   "cell_type": "code",
   "execution_count": 6,
   "id": "1ef3e3d6",
   "metadata": {
    "execution": {
     "iopub.execute_input": "2024-03-11T15:33:08.209175Z",
     "iopub.status.busy": "2024-03-11T15:33:08.208311Z",
     "iopub.status.idle": "2024-03-11T15:33:08.212462Z",
     "shell.execute_reply": "2024-03-11T15:33:08.211605Z"
    },
    "papermill": {
     "duration": 0.016228,
     "end_time": "2024-03-11T15:33:08.214480",
     "exception": false,
     "start_time": "2024-03-11T15:33:08.198252",
     "status": "completed"
    },
    "tags": []
   },
   "outputs": [],
   "source": [
    "READ_SPEC_FILES = False\n",
    "READ_EEG_SPEC_FILES = False"
   ]
  },
  {
   "cell_type": "code",
   "execution_count": 7,
   "id": "52c8e203",
   "metadata": {
    "execution": {
     "iopub.execute_input": "2024-03-11T15:33:08.232970Z",
     "iopub.status.busy": "2024-03-11T15:33:08.232670Z",
     "iopub.status.idle": "2024-03-11T15:34:22.849044Z",
     "shell.execute_reply": "2024-03-11T15:34:22.847968Z"
    },
    "papermill": {
     "duration": 74.636954,
     "end_time": "2024-03-11T15:34:22.860038",
     "exception": false,
     "start_time": "2024-03-11T15:33:08.223084",
     "status": "completed"
    },
    "tags": []
   },
   "outputs": [
    {
     "name": "stdout",
     "output_type": "stream",
     "text": [
      "There are 11138 spectrogram parquets\n",
      "CPU times: user 2.78 s, sys: 5.98 s, total: 8.75 s\n",
      "Wall time: 1min 14s\n"
     ]
    }
   ],
   "source": [
    "%%time\n",
    "# READ ALL SPECTROGRAMS\n",
    "PATH = '/kaggle/input/hms-harmful-brain-activity-classification/train_spectrograms/'\n",
    "files = os.listdir(PATH)\n",
    "print(f'There are {len(files)} spectrogram parquets')\n",
    "\n",
    "if READ_SPEC_FILES:    \n",
    "    spectrograms = {}\n",
    "    for i,f in enumerate(files):\n",
    "        if i%100==0: print(i,', ',end='')\n",
    "        tmp = pd.read_parquet(f'{PATH}{f}')\n",
    "        name = int(f.split('.')[0])\n",
    "        spectrograms[name] = tmp.iloc[:,1:].values\n",
    "else:\n",
    "    spectrograms = np.load('/kaggle/input/brain-spectrograms/specs.npy',allow_pickle=True).item()"
   ]
  },
  {
   "cell_type": "code",
   "execution_count": 8,
   "id": "4f3724a9",
   "metadata": {
    "execution": {
     "iopub.execute_input": "2024-03-11T15:34:22.879671Z",
     "iopub.status.busy": "2024-03-11T15:34:22.879375Z",
     "iopub.status.idle": "2024-03-11T15:35:36.971875Z",
     "shell.execute_reply": "2024-03-11T15:35:36.970962Z"
    },
    "papermill": {
     "duration": 74.119306,
     "end_time": "2024-03-11T15:35:36.988611",
     "exception": false,
     "start_time": "2024-03-11T15:34:22.869305",
     "status": "completed"
    },
    "tags": []
   },
   "outputs": [
    {
     "name": "stdout",
     "output_type": "stream",
     "text": [
      "CPU times: user 4.31 s, sys: 8.3 s, total: 12.6 s\n",
      "Wall time: 1min 14s\n"
     ]
    }
   ],
   "source": [
    "%%time\n",
    "# READ ALL EEG SPECTROGRAMS\n",
    "if READ_EEG_SPEC_FILES:\n",
    "    all_eegs = {}\n",
    "    for i,e in enumerate(train.eeg_id.values):\n",
    "        if i%100==0: print(i,', ',end='')\n",
    "        x = np.load(f'/kaggle/input/brain-eeg-spectrograms/EEG_Spectrograms/{e}.npy')\n",
    "        all_eegs[e] = x\n",
    "else:\n",
    "    all_eegs = np.load('/kaggle/input/brain-eeg-spectrograms/eeg_specs.npy',allow_pickle=True).item()"
   ]
  },
  {
   "cell_type": "code",
   "execution_count": 9,
   "id": "820bc989",
   "metadata": {
    "execution": {
     "iopub.execute_input": "2024-03-11T15:35:37.011039Z",
     "iopub.status.busy": "2024-03-11T15:35:37.010439Z",
     "iopub.status.idle": "2024-03-11T15:36:07.822377Z",
     "shell.execute_reply": "2024-03-11T15:36:07.821449Z"
    },
    "papermill": {
     "duration": 30.843023,
     "end_time": "2024-03-11T15:36:07.841740",
     "exception": false,
     "start_time": "2024-03-11T15:35:36.998717",
     "status": "completed"
    },
    "tags": []
   },
   "outputs": [
    {
     "name": "stdout",
     "output_type": "stream",
     "text": [
      "CPU times: user 2 µs, sys: 2 µs, total: 4 µs\n",
      "Wall time: 7.39 µs\n",
      "We are creating 3648 features for 9689 rows... 0 , 100 , 200 , 300 , 400 , 500 , 600 , 700 , 800 , 900 , 1000 , 1100 , 1200 , 1300 , 1400 , 1500 , 1600 , 1700 , 1800 , 1900 , 2000 , 2100 , 2200 , 2300 , 2400 , 2500 , 2600 , 2700 , 2800 , 2900 , 3000 , 3100 , 3200 , 3300 , 3400 , 3500 , 3600 , 3700 , 3800 , 3900 , 4000 , 4100 , 4200 , 4300 , 4400 , 4500 , 4600 , 4700 , 4800 , 4900 , 5000 , 5100 , 5200 , 5300 , 5400 , 5500 , 5600 , 5700 , 5800 , 5900 , 6000 , 6100 , 6200 , 6300 , 6400 , 6500 , 6600 , 6700 , 6800 , 6900 , 7000 , 7100 , 7200 , 7300 , 7400 , 7500 , 7600 , 7700 , 7800 , 7900 , 8000 , 8100 , 8200 , 8300 , 8400 , 8500 , 8600 , 8700 , 8800 , 8900 , 9000 , 9100 , 9200 , 9300 , 9400 , 9500 , 9600 , \n",
      "New train shape: (9689, 3660)\n"
     ]
    }
   ],
   "source": [
    "%time\n",
    "# ENGINEER FEATURES\n",
    "import warnings\n",
    "warnings.filterwarnings('ignore')\n",
    "\n",
    "# FEATURE NAMES\n",
    "SPEC_COLS = pd.read_parquet(f'{PATH}1000086677.parquet').columns[1:]\n",
    "FEATURES = [f'{c}_mean_10m' for c in SPEC_COLS]\n",
    "FEATURES += [f'{c}_min_10m' for c in SPEC_COLS]\n",
    "FEATURES += [f'{c}_mean_20s' for c in SPEC_COLS]\n",
    "FEATURES += [f'{c}_min_20s' for c in SPEC_COLS]\n",
    "FEATURES += [f'eeg_mean_f{x}_10s' for x in range(512)]\n",
    "FEATURES += [f'eeg_min_f{x}_10s' for x in range(512)]\n",
    "FEATURES += [f'eeg_max_f{x}_10s' for x in range(512)]\n",
    "FEATURES += [f'eeg_std_f{x}_10s' for x in range(512)]\n",
    "print(f'We are creating {len(FEATURES)} features for {len(train)} rows... ',end='')\n",
    "\n",
    "data = np.zeros((len(train),len(FEATURES)))\n",
    "for k in range(len(train)):\n",
    "    if k%100==0: print(k,', ',end='')\n",
    "    row = train.iloc[k]\n",
    "    r = int( (row['min'] + row['max'])//4 ) \n",
    "\n",
    "    # 10 MINUTE WINDOW FEATURES (MEANS and MINS)\n",
    "    x = np.nanmean(spectrograms[row.spec_id][r:r+300,:],axis=0)\n",
    "    data[k,:400] = x\n",
    "    x = np.nanmin(spectrograms[row.spec_id][r:r+300,:],axis=0)\n",
    "    data[k,400:800] = x\n",
    "\n",
    "    # 20 SECOND WINDOW FEATURES (MEANS and MINS)\n",
    "    x = np.nanmean(spectrograms[row.spec_id][r+145:r+155,:],axis=0)\n",
    "    data[k,800:1200] = x\n",
    "    x = np.nanmin(spectrograms[row.spec_id][r+145:r+155,:],axis=0)\n",
    "    data[k,1200:1600] = x\n",
    "\n",
    "    # RESHAPE EEG SPECTROGRAMS 128x256x4 => 512x256\n",
    "    eeg_spec = np.zeros((512,256),dtype='float32')\n",
    "    xx = all_eegs[row.eeg_id]\n",
    "    for j in range(4): eeg_spec[128*j:128*(j+1),] = xx[:,:,j]\n",
    "\n",
    "    # 10 SECOND WINDOW FROM EEG SPECTROGRAMS \n",
    "    x = np.nanmean(eeg_spec.T[100:-100,:],axis=0)\n",
    "    data[k,1600:2112] = x\n",
    "    x = np.nanmin(eeg_spec.T[100:-100,:],axis=0)\n",
    "    data[k,2112:2624] = x\n",
    "    x = np.nanmax(eeg_spec.T[100:-100,:],axis=0)\n",
    "    data[k,2624:3136] = x\n",
    "    x = np.nanstd(eeg_spec.T[100:-100,:],axis=0)\n",
    "    data[k,3136:3648] = x\n",
    "\n",
    "train[FEATURES] = data\n",
    "print(); print('New train shape:',train.shape)"
   ]
  },
  {
   "cell_type": "code",
   "execution_count": 10,
   "id": "4af3abf3",
   "metadata": {
    "execution": {
     "iopub.execute_input": "2024-03-11T15:36:07.878182Z",
     "iopub.status.busy": "2024-03-11T15:36:07.877821Z",
     "iopub.status.idle": "2024-03-11T15:36:08.006578Z",
     "shell.execute_reply": "2024-03-11T15:36:08.005644Z"
    },
    "papermill": {
     "duration": 0.150108,
     "end_time": "2024-03-11T15:36:08.009342",
     "exception": false,
     "start_time": "2024-03-11T15:36:07.859234",
     "status": "completed"
    },
    "tags": []
   },
   "outputs": [
    {
     "data": {
      "text/plain": [
       "0"
      ]
     },
     "execution_count": 10,
     "metadata": {},
     "output_type": "execute_result"
    }
   ],
   "source": [
    "# FREE MEMORY\n",
    "del all_eegs, spectrograms, data\n",
    "gc.collect()"
   ]
  },
  {
   "cell_type": "markdown",
   "id": "7c204f06",
   "metadata": {
    "papermill": {
     "duration": 0.018098,
     "end_time": "2024-03-11T15:36:08.046473",
     "exception": false,
     "start_time": "2024-03-11T15:36:08.028375",
     "status": "completed"
    },
    "tags": []
   },
   "source": [
    "# Train CatBoost\n",
    "We use the default settings for CatBoost which are pretty good. We can tune CatBoost manually to improve CV and LB score. Note that CatBoost will automatically use both Kaggle T4 GPUs (when we add parameter `task_type='GPU'`)  for super fast training!"
   ]
  },
  {
   "cell_type": "code",
   "execution_count": 11,
   "id": "03cb4e1b",
   "metadata": {
    "execution": {
     "iopub.execute_input": "2024-03-11T15:36:08.126643Z",
     "iopub.status.busy": "2024-03-11T15:36:08.126281Z",
     "iopub.status.idle": "2024-03-11T15:36:09.835885Z",
     "shell.execute_reply": "2024-03-11T15:36:09.834823Z"
    },
    "papermill": {
     "duration": 1.773636,
     "end_time": "2024-03-11T15:36:09.837878",
     "exception": false,
     "start_time": "2024-03-11T15:36:08.064242",
     "status": "completed"
    },
    "tags": []
   },
   "outputs": [
    {
     "name": "stdout",
     "output_type": "stream",
     "text": [
      "CatBoost version 1.2.2\n"
     ]
    }
   ],
   "source": [
    "import catboost as cat\n",
    "from catboost import CatBoostClassifier, Pool\n",
    "print('CatBoost version',cat.__version__)"
   ]
  },
  {
   "cell_type": "code",
   "execution_count": 12,
   "id": "72e72428",
   "metadata": {
    "execution": {
     "iopub.execute_input": "2024-03-11T15:36:09.874338Z",
     "iopub.status.busy": "2024-03-11T15:36:09.873682Z",
     "iopub.status.idle": "2024-03-11T15:44:10.644106Z",
     "shell.execute_reply": "2024-03-11T15:44:10.642382Z"
    },
    "papermill": {
     "duration": 480.791243,
     "end_time": "2024-03-11T15:44:10.646752",
     "exception": false,
     "start_time": "2024-03-11T15:36:09.855509",
     "status": "completed"
    },
    "tags": []
   },
   "outputs": [
    {
     "name": "stdout",
     "output_type": "stream",
     "text": [
      "#########################\n",
      "### Fold 1\n",
      "### train size 7751, valid size 1938\n",
      "#########################\n",
      "Learning rate set to 0.129317\n",
      "0:\tlearn: 1.6185734\ttest: 1.6668749\tbest: 1.6668749 (0)\ttotal: 350ms\tremaining: 5m 49s\n",
      "100:\tlearn: 0.5151390\ttest: 0.9555771\tbest: 0.9555771 (100)\ttotal: 10.2s\tremaining: 1m 30s\n",
      "200:\tlearn: 0.3680015\ttest: 0.9221365\tbest: 0.9209382 (196)\ttotal: 19.4s\tremaining: 1m 17s\n",
      "300:\tlearn: 0.2775954\ttest: 0.9155523\tbest: 0.9140156 (293)\ttotal: 28.7s\tremaining: 1m 6s\n",
      "400:\tlearn: 0.2195437\ttest: 0.9136983\tbest: 0.9101261 (373)\ttotal: 37.8s\tremaining: 56.5s\n",
      "500:\tlearn: 0.1741755\ttest: 0.9158808\tbest: 0.9100237 (455)\ttotal: 46.9s\tremaining: 46.7s\n",
      "600:\tlearn: 0.1412166\ttest: 0.9133933\tbest: 0.9100237 (455)\ttotal: 56s\tremaining: 37.2s\n",
      "700:\tlearn: 0.1161310\ttest: 0.9174523\tbest: 0.9100237 (455)\ttotal: 1m 5s\tremaining: 27.8s\n",
      "800:\tlearn: 0.0968089\ttest: 0.9286466\tbest: 0.9100237 (455)\ttotal: 1m 14s\tremaining: 18.4s\n",
      "900:\tlearn: 0.0809859\ttest: 0.9309489\tbest: 0.9100237 (455)\ttotal: 1m 23s\tremaining: 9.16s\n",
      "999:\tlearn: 0.0687901\ttest: 0.9373890\tbest: 0.9100237 (455)\ttotal: 1m 32s\tremaining: 0us\n",
      "bestTest = 0.9100237237\n",
      "bestIteration = 455\n",
      "Shrink model to first 456 iterations.\n",
      "#########################\n",
      "### Fold 2\n",
      "### train size 7751, valid size 1938\n",
      "#########################\n",
      "Learning rate set to 0.129317\n",
      "0:\tlearn: 1.6334772\ttest: 1.6488385\tbest: 1.6488385 (0)\ttotal: 172ms\tremaining: 2m 51s\n",
      "100:\tlearn: 0.5236334\ttest: 0.9091329\tbest: 0.9091329 (100)\ttotal: 9.78s\tremaining: 1m 27s\n",
      "200:\tlearn: 0.3728547\ttest: 0.8736509\tbest: 0.8734802 (198)\ttotal: 19.1s\tremaining: 1m 15s\n",
      "300:\tlearn: 0.2832674\ttest: 0.8608509\tbest: 0.8601020 (297)\ttotal: 28.5s\tremaining: 1m 6s\n",
      "400:\tlearn: 0.2250873\ttest: 0.8468809\tbest: 0.8468809 (400)\ttotal: 37.5s\tremaining: 56s\n",
      "500:\tlearn: 0.1793971\ttest: 0.8494729\tbest: 0.8465341 (423)\ttotal: 46.3s\tremaining: 46.1s\n",
      "600:\tlearn: 0.1463692\ttest: 0.8500527\tbest: 0.8465341 (423)\ttotal: 55.2s\tremaining: 36.7s\n",
      "700:\tlearn: 0.1209400\ttest: 0.8494037\tbest: 0.8465341 (423)\ttotal: 1m 4s\tremaining: 27.3s\n",
      "800:\tlearn: 0.0995909\ttest: 0.8536579\tbest: 0.8465341 (423)\ttotal: 1m 13s\tremaining: 18.2s\n",
      "900:\tlearn: 0.0831439\ttest: 0.8595868\tbest: 0.8465341 (423)\ttotal: 1m 22s\tremaining: 9.05s\n",
      "999:\tlearn: 0.0716137\ttest: 0.8591758\tbest: 0.8465341 (423)\ttotal: 1m 31s\tremaining: 0us\n",
      "bestTest = 0.8465341227\n",
      "bestIteration = 423\n",
      "Shrink model to first 424 iterations.\n",
      "#########################\n",
      "### Fold 3\n",
      "### train size 7751, valid size 1938\n",
      "#########################\n",
      "Learning rate set to 0.129317\n",
      "0:\tlearn: 1.6224076\ttest: 1.6854657\tbest: 1.6854657 (0)\ttotal: 160ms\tremaining: 2m 39s\n",
      "100:\tlearn: 0.5052232\ttest: 1.0489851\tbest: 1.0489851 (100)\ttotal: 9.88s\tremaining: 1m 27s\n",
      "200:\tlearn: 0.3570442\ttest: 1.0207707\tbest: 1.0184786 (196)\ttotal: 18.9s\tremaining: 1m 15s\n",
      "300:\tlearn: 0.2704791\ttest: 1.0090852\tbest: 1.0080196 (284)\ttotal: 28.2s\tremaining: 1m 5s\n",
      "400:\tlearn: 0.2096836\ttest: 1.0060539\tbest: 1.0003296 (336)\ttotal: 37.1s\tremaining: 55.5s\n",
      "500:\tlearn: 0.1655503\ttest: 1.0079104\tbest: 1.0003296 (336)\ttotal: 45.9s\tremaining: 45.8s\n",
      "600:\tlearn: 0.1325937\ttest: 1.0151011\tbest: 1.0003296 (336)\ttotal: 54.9s\tremaining: 36.4s\n",
      "700:\tlearn: 0.1081050\ttest: 1.0253778\tbest: 1.0003296 (336)\ttotal: 1m 4s\tremaining: 27.4s\n",
      "800:\tlearn: 0.0897401\ttest: 1.0273713\tbest: 1.0003296 (336)\ttotal: 1m 13s\tremaining: 18.3s\n",
      "900:\tlearn: 0.0750483\ttest: 1.0371899\tbest: 1.0003296 (336)\ttotal: 1m 22s\tremaining: 9.12s\n",
      "999:\tlearn: 0.0637145\ttest: 1.0388012\tbest: 1.0003296 (336)\ttotal: 1m 31s\tremaining: 0us\n",
      "bestTest = 1.000329552\n",
      "bestIteration = 336\n",
      "Shrink model to first 337 iterations.\n",
      "#########################\n",
      "### Fold 4\n",
      "### train size 7751, valid size 1938\n",
      "#########################\n",
      "Learning rate set to 0.129317\n",
      "0:\tlearn: 1.6148207\ttest: 1.6596940\tbest: 1.6596940 (0)\ttotal: 178ms\tremaining: 2m 57s\n",
      "100:\tlearn: 0.5265366\ttest: 0.9683471\tbest: 0.9683471 (100)\ttotal: 9.87s\tremaining: 1m 27s\n",
      "200:\tlearn: 0.3742373\ttest: 0.9511394\tbest: 0.9452539 (173)\ttotal: 18.9s\tremaining: 1m 15s\n",
      "300:\tlearn: 0.2870616\ttest: 0.9472960\tbest: 0.9361829 (268)\ttotal: 28.1s\tremaining: 1m 5s\n",
      "400:\tlearn: 0.2276760\ttest: 0.9590965\tbest: 0.9361829 (268)\ttotal: 37.4s\tremaining: 55.8s\n",
      "500:\tlearn: 0.1807476\ttest: 0.9608163\tbest: 0.9361829 (268)\ttotal: 46.5s\tremaining: 46.3s\n",
      "600:\tlearn: 0.1450269\ttest: 0.9655931\tbest: 0.9361829 (268)\ttotal: 55.7s\tremaining: 36.9s\n",
      "700:\tlearn: 0.1194660\ttest: 0.9707560\tbest: 0.9361829 (268)\ttotal: 1m 4s\tremaining: 27.3s\n",
      "800:\tlearn: 0.1000418\ttest: 0.9887961\tbest: 0.9361829 (268)\ttotal: 1m 12s\tremaining: 18.1s\n",
      "900:\tlearn: 0.0843395\ttest: 0.9975103\tbest: 0.9361829 (268)\ttotal: 1m 22s\tremaining: 9.03s\n",
      "999:\tlearn: 0.0714367\ttest: 1.0034710\tbest: 0.9361829 (268)\ttotal: 1m 31s\tremaining: 0us\n",
      "bestTest = 0.9361829256\n",
      "bestIteration = 268\n",
      "Shrink model to first 269 iterations.\n",
      "#########################\n",
      "### Fold 5\n",
      "### train size 7752, valid size 1937\n",
      "#########################\n",
      "Learning rate set to 0.129319\n",
      "0:\tlearn: 1.6221288\ttest: 1.6508839\tbest: 1.6508839 (0)\ttotal: 181ms\tremaining: 3m\n",
      "100:\tlearn: 0.5314011\ttest: 0.8765821\tbest: 0.8756386 (97)\ttotal: 9.91s\tremaining: 1m 28s\n",
      "200:\tlearn: 0.3794372\ttest: 0.8426691\tbest: 0.8419965 (195)\ttotal: 19.1s\tremaining: 1m 15s\n",
      "300:\tlearn: 0.2908280\ttest: 0.8426175\tbest: 0.8406027 (245)\ttotal: 28.1s\tremaining: 1m 5s\n",
      "400:\tlearn: 0.2275097\ttest: 0.8404083\tbest: 0.8390024 (339)\ttotal: 37.1s\tremaining: 55.4s\n",
      "500:\tlearn: 0.1806509\ttest: 0.8431567\tbest: 0.8385354 (461)\ttotal: 46.6s\tremaining: 46.4s\n",
      "600:\tlearn: 0.1448629\ttest: 0.8360604\tbest: 0.8356990 (599)\ttotal: 55.9s\tremaining: 37.1s\n",
      "700:\tlearn: 0.1185167\ttest: 0.8322373\tbest: 0.8294096 (687)\ttotal: 1m 4s\tremaining: 27.6s\n",
      "800:\tlearn: 0.0988192\ttest: 0.8367820\tbest: 0.8294096 (687)\ttotal: 1m 13s\tremaining: 18.3s\n",
      "900:\tlearn: 0.0831989\ttest: 0.8449118\tbest: 0.8294096 (687)\ttotal: 1m 22s\tremaining: 9.1s\n",
      "999:\tlearn: 0.0708303\ttest: 0.8534418\tbest: 0.8294096 (687)\ttotal: 1m 31s\tremaining: 0us\n",
      "bestTest = 0.8294096057\n",
      "bestIteration = 687\n",
      "Shrink model to first 688 iterations.\n"
     ]
    }
   ],
   "source": [
    "from sklearn.model_selection import KFold, GroupKFold\n",
    "\n",
    "all_oof = []\n",
    "all_true = []\n",
    "TARS = {'Seizure':0, 'LPD':1, 'GPD':2, 'LRDA':3, 'GRDA':4, 'Other':5}\n",
    "\n",
    "gkf = GroupKFold(n_splits=5)\n",
    "for i, (train_index, valid_index) in enumerate(gkf.split(train, train.target, train.patient_id)):   \n",
    "    \n",
    "    print('#'*25)\n",
    "    print(f'### Fold {i+1}')\n",
    "    print(f'### train size {len(train_index)}, valid size {len(valid_index)}')\n",
    "    print('#'*25)\n",
    "    \n",
    "    model = CatBoostClassifier(task_type='GPU',\n",
    "                               loss_function='MultiClass')\n",
    "    \n",
    "    train_pool = Pool(\n",
    "        data = train.loc[train_index,FEATURES],\n",
    "        label = train.loc[train_index,'target'].map(TARS),\n",
    "    )\n",
    "    \n",
    "    valid_pool = Pool(\n",
    "        data = train.loc[valid_index,FEATURES],\n",
    "        label = train.loc[valid_index,'target'].map(TARS),\n",
    "    )\n",
    "    \n",
    "    model.fit(train_pool,\n",
    "             verbose=100,\n",
    "             eval_set=valid_pool,\n",
    "             )\n",
    "    model.save_model(f'CAT_v{VER}_f{i}.cat')\n",
    "    \n",
    "    oof = model.predict_proba(valid_pool)\n",
    "    all_oof.append(oof)\n",
    "    all_true.append(train.loc[valid_index, TARGETS].values)\n",
    "    \n",
    "    del train_pool, valid_pool, oof #model\n",
    "    gc.collect()\n",
    "    \n",
    "    #break\n",
    "    \n",
    "all_oof = np.concatenate(all_oof)\n",
    "all_true = np.concatenate(all_true)"
   ]
  },
  {
   "cell_type": "markdown",
   "id": "a94afcbf",
   "metadata": {
    "papermill": {
     "duration": 0.029232,
     "end_time": "2024-03-11T15:44:10.706227",
     "exception": false,
     "start_time": "2024-03-11T15:44:10.676995",
     "status": "completed"
    },
    "tags": []
   },
   "source": [
    "# Feature Importance\n",
    "Below we display the CatBoost top 25 feature importance for the last fold we trained."
   ]
  },
  {
   "cell_type": "code",
   "execution_count": 13,
   "id": "9507cc9d",
   "metadata": {
    "execution": {
     "iopub.execute_input": "2024-03-11T15:44:10.765977Z",
     "iopub.status.busy": "2024-03-11T15:44:10.765617Z",
     "iopub.status.idle": "2024-03-11T15:44:11.380840Z",
     "shell.execute_reply": "2024-03-11T15:44:11.379810Z"
    },
    "papermill": {
     "duration": 0.647938,
     "end_time": "2024-03-11T15:44:11.383333",
     "exception": false,
     "start_time": "2024-03-11T15:44:10.735395",
     "status": "completed"
    },
    "tags": []
   },
   "outputs": [
    {
     "data": {
      "image/png": "[encoded data removed]",
      "text/plain": [
       "<Figure size 1000x800 with 1 Axes>"
      ]
     },
     "metadata": {},
     "output_type": "display_data"
    }
   ],
   "source": [
    "TOP = 25\n",
    "\n",
    "feature_importance = model.feature_importances_\n",
    "sorted_idx = np.argsort(feature_importance)\n",
    "fig = plt.figure(figsize=(10, 8))\n",
    "plt.barh(np.arange(len(sorted_idx))[-TOP:], feature_importance[sorted_idx][-TOP:], align='center')\n",
    "plt.yticks(np.arange(len(sorted_idx))[-TOP:], np.array(FEATURES)[sorted_idx][-TOP:])\n",
    "plt.title(f'Feature Importance - Top {TOP}')\n",
    "plt.show()"
   ]
  },
  {
   "cell_type": "markdown",
   "id": "bd593f3b",
   "metadata": {
    "papermill": {
     "duration": 0.023521,
     "end_time": "2024-03-11T15:44:11.431723",
     "exception": false,
     "start_time": "2024-03-11T15:44:11.408202",
     "status": "completed"
    },
    "tags": []
   },
   "source": [
    "# CV Score for CatBoost\n",
    "This is CV score for our CatBoost model."
   ]
  },
  {
   "cell_type": "code",
   "execution_count": 14,
   "id": "70707a10",
   "metadata": {
    "execution": {
     "iopub.execute_input": "2024-03-11T15:44:11.481557Z",
     "iopub.status.busy": "2024-03-11T15:44:11.481265Z",
     "iopub.status.idle": "2024-03-11T15:44:11.572364Z",
     "shell.execute_reply": "2024-03-11T15:44:11.571382Z"
    },
    "papermill": {
     "duration": 0.118383,
     "end_time": "2024-03-11T15:44:11.574289",
     "exception": false,
     "start_time": "2024-03-11T15:44:11.455906",
     "status": "completed"
    },
    "tags": []
   },
   "outputs": [
    {
     "name": "stdout",
     "output_type": "stream",
     "text": [
      "CV Score KL-Div for CatBoost = 0.8876146104000407\n"
     ]
    }
   ],
   "source": [
    "import sys\n",
    "sys.path.append('/kaggle/input/kaggle-kl-div')\n",
    "from kaggle_kl_div import score\n",
    "\n",
    "oof = pd.DataFrame(all_oof.copy())\n",
    "oof['id'] = np.arange(len(oof))\n",
    "\n",
    "true = pd.DataFrame(all_true.copy())\n",
    "true['id'] = np.arange(len(true))\n",
    "\n",
    "cv = score(solution=true, submission=oof, row_id_column_name='id')\n",
    "print('CV Score KL-Div for CatBoost =',cv)"
   ]
  },
  {
   "cell_type": "markdown",
   "id": "877d1a82",
   "metadata": {
    "papermill": {
     "duration": 0.023174,
     "end_time": "2024-03-11T15:44:11.620685",
     "exception": false,
     "start_time": "2024-03-11T15:44:11.597511",
     "status": "completed"
    },
    "tags": []
   },
   "source": [
    "# CV Score for Preds 1/6\n",
    "This is CV score for Kaggle's sample submission.csv which uses equal predictions of 1/6 for all targets."
   ]
  },
  {
   "cell_type": "code",
   "execution_count": 15,
   "id": "38907970",
   "metadata": {
    "execution": {
     "iopub.execute_input": "2024-03-11T15:44:11.668873Z",
     "iopub.status.busy": "2024-03-11T15:44:11.668581Z",
     "iopub.status.idle": "2024-03-11T15:44:11.711618Z",
     "shell.execute_reply": "2024-03-11T15:44:11.710674Z"
    },
    "papermill": {
     "duration": 0.069402,
     "end_time": "2024-03-11T15:44:11.713543",
     "exception": false,
     "start_time": "2024-03-11T15:44:11.644141",
     "status": "completed"
    },
    "tags": []
   },
   "outputs": [
    {
     "name": "stdout",
     "output_type": "stream",
     "text": [
      "CV Score for \"Use Equal Preds 1/6\" = 1.7697480211199834\n"
     ]
    }
   ],
   "source": [
    "oof = pd.DataFrame(all_oof.copy())\n",
    "for c in oof.columns:\n",
    "    oof[c] = 1/6.\n",
    "oof['id'] = np.arange(len(oof))\n",
    "\n",
    "true = pd.DataFrame(all_true.copy())\n",
    "true['id'] = np.arange(len(true))\n",
    "\n",
    "cv = score(solution=true, submission=oof, row_id_column_name='id')\n",
    "print('CV Score for \"Use Equal Preds 1/6\" =',cv)"
   ]
  },
  {
   "cell_type": "markdown",
   "id": "38594321",
   "metadata": {
    "papermill": {
     "duration": 0.022722,
     "end_time": "2024-03-11T15:44:11.759305",
     "exception": false,
     "start_time": "2024-03-11T15:44:11.736583",
     "status": "completed"
    },
    "tags": []
   },
   "source": [
    "# CV Score for EEG_Id Means\n",
    "This is CV score for current highest scoring public notebook [here][1] which uses train means as predictions.\n",
    "\n",
    "[1]: https://www.kaggle.com/code/seshurajup/eda-train-csv"
   ]
  },
  {
   "cell_type": "code",
   "execution_count": 16,
   "id": "08c6c5d3",
   "metadata": {
    "execution": {
     "iopub.execute_input": "2024-03-11T15:44:11.807329Z",
     "iopub.status.busy": "2024-03-11T15:44:11.807021Z",
     "iopub.status.idle": "2024-03-11T15:44:13.377725Z",
     "shell.execute_reply": "2024-03-11T15:44:13.376892Z"
    },
    "papermill": {
     "duration": 1.597885,
     "end_time": "2024-03-11T15:44:13.380885",
     "exception": false,
     "start_time": "2024-03-11T15:44:11.783000",
     "status": "completed"
    },
    "tags": []
   },
   "outputs": [],
   "source": [
    "all_oof2 = []\n",
    "\n",
    "gkf = GroupKFold(n_splits=5)\n",
    "for i, (train_index, valid_index) in enumerate(gkf.split(train, train.target, train.patient_id)):  \n",
    "    #print('#'*25)\n",
    "    #print(f'### Fold {i+1}')\n",
    "        \n",
    "    y_train = train.iloc[train_index][TARGETS].values\n",
    "    y_valid = train.iloc[valid_index][TARGETS].values\n",
    "    \n",
    "    #print(f'### train size {len(train_index)}, valid size {len(valid_index)}')\n",
    "    #print('#'*25)\n",
    "        \n",
    "    oof = y_valid.copy()\n",
    "    for j in range(6):\n",
    "        oof[:,j] = y_train[:,j].mean()\n",
    "    oof = oof / oof.sum(axis=1,keepdims=True)\n",
    "    all_oof2.append(oof)\n",
    "    \n",
    "all_oof2 = np.concatenate(all_oof2)"
   ]
  },
  {
   "cell_type": "code",
   "execution_count": 17,
   "id": "f82dd9f1",
   "metadata": {
    "execution": {
     "iopub.execute_input": "2024-03-11T15:44:13.430584Z",
     "iopub.status.busy": "2024-03-11T15:44:13.430271Z",
     "iopub.status.idle": "2024-03-11T15:44:13.473325Z",
     "shell.execute_reply": "2024-03-11T15:44:13.472369Z"
    },
    "papermill": {
     "duration": 0.069135,
     "end_time": "2024-03-11T15:44:13.475198",
     "exception": false,
     "start_time": "2024-03-11T15:44:13.406063",
     "status": "completed"
    },
    "tags": []
   },
   "outputs": [
    {
     "name": "stdout",
     "output_type": "stream",
     "text": [
      "CV Score for \"Use Train Means\" = 1.5466033216766983\n"
     ]
    }
   ],
   "source": [
    "oof = pd.DataFrame(all_oof2.copy())\n",
    "oof['id'] = np.arange(len(oof))\n",
    "\n",
    "true = pd.DataFrame(all_true.copy())\n",
    "true['id'] = np.arange(len(true))\n",
    "\n",
    "cv = score(solution=true, submission=oof, row_id_column_name='id')\n",
    "print('CV Score for \"Use Train Means\" =',cv)"
   ]
  },
  {
   "cell_type": "markdown",
   "id": "bb4f8253",
   "metadata": {
    "papermill": {
     "duration": 0.02292,
     "end_time": "2024-03-11T15:44:13.521703",
     "exception": false,
     "start_time": "2024-03-11T15:44:13.498783",
     "status": "completed"
    },
    "tags": []
   },
   "source": [
    "# Infer Test and Create Submission CSV\n",
    "Below we use our 5 CatBoost fold models to infer the test data and create a `submission.csv` file."
   ]
  },
  {
   "cell_type": "code",
   "execution_count": 18,
   "id": "498e7c4f",
   "metadata": {
    "execution": {
     "iopub.execute_input": "2024-03-11T15:44:13.569279Z",
     "iopub.status.busy": "2024-03-11T15:44:13.568998Z",
     "iopub.status.idle": "2024-03-11T15:44:13.652884Z",
     "shell.execute_reply": "2024-03-11T15:44:13.651918Z"
    },
    "papermill": {
     "duration": 0.110184,
     "end_time": "2024-03-11T15:44:13.655085",
     "exception": false,
     "start_time": "2024-03-11T15:44:13.544901",
     "status": "completed"
    },
    "tags": []
   },
   "outputs": [
    {
     "name": "stdout",
     "output_type": "stream",
     "text": [
      "Test shape (1, 3)\n"
     ]
    },
    {
     "data": {
      "text/html": [
       "<div>\n",
       "<style scoped>\n",
       "    .dataframe tbody tr th:only-of-type {\n",
       "        vertical-align: middle;\n",
       "    }\n",
       "\n",
       "    .dataframe tbody tr th {\n",
       "        vertical-align: top;\n",
       "    }\n",
       "\n",
       "    .dataframe thead th {\n",
       "        text-align: right;\n",
       "    }\n",
       "</style>\n",
       "<table border=\"1\" class=\"dataframe\">\n",
       "  <thead>\n",
       "    <tr style=\"text-align: right;\">\n",
       "      <th></th>\n",
       "      <th>spectrogram_id</th>\n",
       "      <th>eeg_id</th>\n",
       "      <th>patient_id</th>\n",
       "    </tr>\n",
       "  </thead>\n",
       "  <tbody>\n",
       "    <tr>\n",
       "      <th>0</th>\n",
       "      <td>853520</td>\n",
       "      <td>3911565283</td>\n",
       "      <td>6885</td>\n",
       "    </tr>\n",
       "  </tbody>\n",
       "</table>\n",
       "</div>"
      ],
      "text/plain": [
       "   spectrogram_id      eeg_id  patient_id\n",
       "0          853520  3911565283        6885"
      ]
     },
     "execution_count": 18,
     "metadata": {},
     "output_type": "execute_result"
    }
   ],
   "source": [
    "del train; gc.collect()\n",
    "test = pd.read_csv('/kaggle/input/hms-harmful-brain-activity-classification/test.csv')\n",
    "print('Test shape',test.shape)\n",
    "test.head()"
   ]
  },
  {
   "cell_type": "code",
   "execution_count": 19,
   "id": "9ffca643",
   "metadata": {
    "_kg_hide-input": true,
    "execution": {
     "iopub.execute_input": "2024-03-11T15:44:13.707064Z",
     "iopub.status.busy": "2024-03-11T15:44:13.706756Z",
     "iopub.status.idle": "2024-03-11T15:44:13.842331Z",
     "shell.execute_reply": "2024-03-11T15:44:13.841385Z"
    },
    "papermill": {
     "duration": 0.162649,
     "end_time": "2024-03-11T15:44:13.844559",
     "exception": false,
     "start_time": "2024-03-11T15:44:13.681910",
     "status": "completed"
    },
    "tags": []
   },
   "outputs": [],
   "source": [
    "import pywt, librosa\n",
    "\n",
    "USE_WAVELET = None \n",
    "\n",
    "NAMES = ['LL','LP','RP','RR']\n",
    "\n",
    "FEATS = [['Fp1','F7','T3','T5','O1'],\n",
    "         ['Fp1','F3','C3','P3','O1'],\n",
    "         ['Fp2','F8','T4','T6','O2'],\n",
    "         ['Fp2','F4','C4','P4','O2']]\n",
    "\n",
    "# DENOISE FUNCTION\n",
    "def maddest(d, axis=None):\n",
    "    return np.mean(np.absolute(d - np.mean(d, axis)), axis)\n",
    "\n",
    "def denoise(x, wavelet='haar', level=1):    \n",
    "    coeff = pywt.wavedec(x, wavelet, mode=\"per\")\n",
    "    sigma = (1/0.6745) * maddest(coeff[-level])\n",
    "\n",
    "    uthresh = sigma * np.sqrt(2*np.log(len(x)))\n",
    "    coeff[1:] = (pywt.threshold(i, value=uthresh, mode='hard') for i in coeff[1:])\n",
    "\n",
    "    ret=pywt.waverec(coeff, wavelet, mode='per')\n",
    "    \n",
    "    return ret\n",
    "\n",
    "def spectrogram_from_eeg(parquet_path, display=False):\n",
    "    \n",
    "    # LOAD MIDDLE 50 SECONDS OF EEG SERIES\n",
    "    eeg = pd.read_parquet(parquet_path)\n",
    "    middle = (len(eeg)-10_000)//2\n",
    "    eeg = eeg.iloc[middle:middle+10_000]\n",
    "    \n",
    "    # VARIABLE TO HOLD SPECTROGRAM\n",
    "    img = np.zeros((128,256,4),dtype='float32')\n",
    "    \n",
    "    if display: plt.figure(figsize=(10,7))\n",
    "    signals = []\n",
    "    for k in range(4):\n",
    "        COLS = FEATS[k]\n",
    "        \n",
    "        for kk in range(4):\n",
    "        \n",
    "            # COMPUTE PAIR DIFFERENCES\n",
    "            x = eeg[COLS[kk]].values - eeg[COLS[kk+1]].values\n",
    "\n",
    "            # FILL NANS\n",
    "            m = np.nanmean(x)\n",
    "            if np.isnan(x).mean()<1: x = np.nan_to_num(x,nan=m)\n",
    "            else: x[:] = 0\n",
    "\n",
    "            # DENOISE\n",
    "            if USE_WAVELET:\n",
    "                x = denoise(x, wavelet=USE_WAVELET)\n",
    "            signals.append(x)\n",
    "\n",
    "            # RAW SPECTROGRAM\n",
    "            mel_spec = librosa.feature.melspectrogram(y=x, sr=200, hop_length=len(x)//256, \n",
    "                  n_fft=1024, n_mels=128, fmin=0, fmax=20, win_length=128)\n",
    "\n",
    "            # LOG TRANSFORM\n",
    "            width = (mel_spec.shape[1]//32)*32\n",
    "            mel_spec_db = librosa.power_to_db(mel_spec, ref=np.max).astype(np.float32)[:,:width]\n",
    "\n",
    "            # STANDARDIZE TO -1 TO 1\n",
    "            mel_spec_db = (mel_spec_db+40)/40 \n",
    "            img[:,:,k] += mel_spec_db\n",
    "                \n",
    "        # AVERAGE THE 4 MONTAGE DIFFERENCES\n",
    "        img[:,:,k] /= 4.0\n",
    "        \n",
    "        if display:\n",
    "            plt.subplot(2,2,k+1)\n",
    "            plt.imshow(img[:,:,k],aspect='auto',origin='lower')\n",
    "            plt.title(f'EEG {eeg_id} - Spectrogram {NAMES[k]}')\n",
    "            \n",
    "    if display: \n",
    "        plt.show()\n",
    "        plt.figure(figsize=(10,5))\n",
    "        offset = 0\n",
    "        for k in range(4):\n",
    "            if k>0: offset -= signals[3-k].min()\n",
    "            plt.plot(range(10_000),signals[k]+offset,label=NAMES[3-k])\n",
    "            offset += signals[3-k].max()\n",
    "        plt.legend()\n",
    "        plt.title(f'EEG {eeg_id} Signals')\n",
    "        plt.show()\n",
    "        print(); print('#'*25); print()\n",
    "        \n",
    "    return img"
   ]
  },
  {
   "cell_type": "code",
   "execution_count": 20,
   "id": "9924b9ee",
   "metadata": {
    "execution": {
     "iopub.execute_input": "2024-03-11T15:44:13.895513Z",
     "iopub.status.busy": "2024-03-11T15:44:13.894788Z",
     "iopub.status.idle": "2024-03-11T15:44:23.144242Z",
     "shell.execute_reply": "2024-03-11T15:44:23.142847Z"
    },
    "papermill": {
     "duration": 9.278715,
     "end_time": "2024-03-11T15:44:23.148287",
     "exception": false,
     "start_time": "2024-03-11T15:44:13.869572",
     "status": "completed"
    },
    "tags": []
   },
   "outputs": [
    {
     "name": "stdout",
     "output_type": "stream",
     "text": [
      "Converting Test EEG to Spectrograms...\n",
      "\n"
     ]
    }
   ],
   "source": [
    "# CREATE ALL EEG SPECTROGRAMS\n",
    "PATH2 = '/kaggle/input/hms-harmful-brain-activity-classification/test_eegs/'\n",
    "DISPLAY = 0\n",
    "EEG_IDS2 = test.eeg_id.unique()\n",
    "all_eegs2 = {}\n",
    "\n",
    "print('Converting Test EEG to Spectrograms...'); print()\n",
    "for i,eeg_id in enumerate(EEG_IDS2):\n",
    "        \n",
    "    # CREATE SPECTROGRAM FROM EEG PARQUET\n",
    "    img = spectrogram_from_eeg(f'{PATH2}{eeg_id}.parquet', i<DISPLAY)\n",
    "    all_eegs2[eeg_id] = img"
   ]
  },
  {
   "cell_type": "code",
   "execution_count": 21,
   "id": "efcd6476",
   "metadata": {
    "execution": {
     "iopub.execute_input": "2024-03-11T15:44:23.261408Z",
     "iopub.status.busy": "2024-03-11T15:44:23.260535Z",
     "iopub.status.idle": "2024-03-11T15:44:26.587014Z",
     "shell.execute_reply": "2024-03-11T15:44:26.586169Z"
    },
    "papermill": {
     "duration": 3.384971,
     "end_time": "2024-03-11T15:44:26.589146",
     "exception": false,
     "start_time": "2024-03-11T15:44:23.204175",
     "status": "completed"
    },
    "tags": []
   },
   "outputs": [
    {
     "name": "stdout",
     "output_type": "stream",
     "text": [
      "New test shape (1, 3651)\n"
     ]
    }
   ],
   "source": [
    "# FEATURE ENGINEER TEST\n",
    "PATH2 = '/kaggle/input/hms-harmful-brain-activity-classification/test_spectrograms/'\n",
    "data = np.zeros((len(test),len(FEATURES)))\n",
    "    \n",
    "for k in range(len(test)):\n",
    "    row = test.iloc[k]\n",
    "    s = int( row.spectrogram_id )\n",
    "    spec = pd.read_parquet(f'{PATH2}{s}.parquet')\n",
    "    \n",
    "    # 10 MINUTE WINDOW FEATURES\n",
    "    x = np.nanmean( spec.iloc[:,1:].values, axis=0)\n",
    "    data[k,:400] = x\n",
    "    x = np.nanmin( spec.iloc[:,1:].values, axis=0)\n",
    "    data[k,400:800] = x\n",
    "\n",
    "    # 20 SECOND WINDOW FEATURES\n",
    "    x = np.nanmean( spec.iloc[145:155,1:].values, axis=0)\n",
    "    data[k,800:1200] = x\n",
    "    x = np.nanmin( spec.iloc[145:155,1:].values, axis=0)\n",
    "    data[k,1200:1600] = x\n",
    "    \n",
    "    # RESHAPE EEG SPECTROGRAMS 128x256x4 => 512x256\n",
    "    eeg_spec = np.zeros((512,256),dtype='float32')\n",
    "    xx = all_eegs2[row.eeg_id]\n",
    "    for j in range(4): eeg_spec[128*j:128*(j+1),] = xx[:,:,j]\n",
    "\n",
    "    # 10 SECOND WINDOW FROM EEG SPECTROGRAMS \n",
    "    x = np.nanmean(eeg_spec.T[100:-100,:],axis=0)\n",
    "    data[k,1600:2112] = x\n",
    "    x = np.nanmin(eeg_spec.T[100:-100,:],axis=0)\n",
    "    data[k,2112:2624] = x\n",
    "    x = np.nanmax(eeg_spec.T[100:-100,:],axis=0)\n",
    "    data[k,2624:3136] = x\n",
    "    x = np.nanstd(eeg_spec.T[100:-100,:],axis=0)\n",
    "    data[k,3136:3648] = x\n",
    "\n",
    "test[FEATURES] = data\n",
    "print('New test shape',test.shape)"
   ]
  },
  {
   "cell_type": "code",
   "execution_count": 22,
   "id": "c1c49a58",
   "metadata": {
    "execution": {
     "iopub.execute_input": "2024-03-11T15:44:26.638654Z",
     "iopub.status.busy": "2024-03-11T15:44:26.638094Z",
     "iopub.status.idle": "2024-03-11T15:44:28.655043Z",
     "shell.execute_reply": "2024-03-11T15:44:28.654082Z"
    },
    "papermill": {
     "duration": 2.043819,
     "end_time": "2024-03-11T15:44:28.657153",
     "exception": false,
     "start_time": "2024-03-11T15:44:26.613334",
     "status": "completed"
    },
    "tags": []
   },
   "outputs": [
    {
     "name": "stdout",
     "output_type": "stream",
     "text": [
      "0 , 1 , 2 , 3 , 4 , \n",
      "Test preds shape (1, 6)\n"
     ]
    }
   ],
   "source": [
    "# INFER CATBOOST ON TEST\n",
    "preds = []\n",
    "\n",
    "for i in range(5):\n",
    "    print(i,', ',end='')\n",
    "    model = CatBoostClassifier(task_type='GPU')\n",
    "    model.load_model(f'CAT_v{VER}_f{i}.cat')\n",
    "    \n",
    "    test_pool = Pool(\n",
    "        data = test[FEATURES]\n",
    "    )\n",
    "    \n",
    "    pred = model.predict_proba(test_pool)\n",
    "    preds.append(pred)\n",
    "pred = np.mean(preds,axis=0)\n",
    "print()\n",
    "print('Test preds shape',pred.shape)"
   ]
  },
  {
   "cell_type": "code",
   "execution_count": 23,
   "id": "eea70716",
   "metadata": {
    "execution": {
     "iopub.execute_input": "2024-03-11T15:44:28.708642Z",
     "iopub.status.busy": "2024-03-11T15:44:28.708319Z",
     "iopub.status.idle": "2024-03-11T15:44:28.732136Z",
     "shell.execute_reply": "2024-03-11T15:44:28.731131Z"
    },
    "papermill": {
     "duration": 0.051404,
     "end_time": "2024-03-11T15:44:28.734066",
     "exception": false,
     "start_time": "2024-03-11T15:44:28.682662",
     "status": "completed"
    },
    "tags": []
   },
   "outputs": [
    {
     "name": "stdout",
     "output_type": "stream",
     "text": [
      "Submissionn shape (1, 7)\n"
     ]
    },
    {
     "data": {
      "text/html": [
       "<div>\n",
       "<style scoped>\n",
       "    .dataframe tbody tr th:only-of-type {\n",
       "        vertical-align: middle;\n",
       "    }\n",
       "\n",
       "    .dataframe tbody tr th {\n",
       "        vertical-align: top;\n",
       "    }\n",
       "\n",
       "    .dataframe thead th {\n",
       "        text-align: right;\n",
       "    }\n",
       "</style>\n",
       "<table border=\"1\" class=\"dataframe\">\n",
       "  <thead>\n",
       "    <tr style=\"text-align: right;\">\n",
       "      <th></th>\n",
       "      <th>eeg_id</th>\n",
       "      <th>seizure_vote</th>\n",
       "      <th>lpd_vote</th>\n",
       "      <th>gpd_vote</th>\n",
       "      <th>lrda_vote</th>\n",
       "      <th>grda_vote</th>\n",
       "      <th>other_vote</th>\n",
       "    </tr>\n",
       "  </thead>\n",
       "  <tbody>\n",
       "    <tr>\n",
       "      <th>0</th>\n",
       "      <td>3911565283</td>\n",
       "      <td>0.496949</td>\n",
       "      <td>0.002274</td>\n",
       "      <td>0.000105</td>\n",
       "      <td>0.107625</td>\n",
       "      <td>0.150903</td>\n",
       "      <td>0.242144</td>\n",
       "    </tr>\n",
       "  </tbody>\n",
       "</table>\n",
       "</div>"
      ],
      "text/plain": [
       "       eeg_id  seizure_vote  lpd_vote  gpd_vote  lrda_vote  grda_vote  \\\n",
       "0  3911565283      0.496949  0.002274  0.000105   0.107625   0.150903   \n",
       "\n",
       "   other_vote  \n",
       "0    0.242144  "
      ]
     },
     "execution_count": 23,
     "metadata": {},
     "output_type": "execute_result"
    }
   ],
   "source": [
    "sub = pd.DataFrame({'eeg_id':test.eeg_id.values})\n",
    "sub[TARGETS] = pred\n",
    "sub.to_csv('submission.csv',index=False)\n",
    "print('Submissionn shape',sub.shape)\n",
    "sub.head()"
   ]
  },
  {
   "cell_type": "code",
   "execution_count": 24,
   "id": "bc42690c",
   "metadata": {
    "execution": {
     "iopub.execute_input": "2024-03-11T15:44:28.785131Z",
     "iopub.status.busy": "2024-03-11T15:44:28.784542Z",
     "iopub.status.idle": "2024-03-11T15:44:28.792476Z",
     "shell.execute_reply": "2024-03-11T15:44:28.791658Z"
    },
    "papermill": {
     "duration": 0.035462,
     "end_time": "2024-03-11T15:44:28.794264",
     "exception": false,
     "start_time": "2024-03-11T15:44:28.758802",
     "status": "completed"
    },
    "tags": []
   },
   "outputs": [
    {
     "data": {
      "text/plain": [
       "0    1.0\n",
       "dtype: float64"
      ]
     },
     "execution_count": 24,
     "metadata": {},
     "output_type": "execute_result"
    }
   ],
   "source": [
    "# SANITY CHECK TO CONFIRM PREDICTIONS SUM TO ONE\n",
    "sub.iloc[:,-6:].sum(axis=1)"
   ]
  }
 ],
 "metadata": {
  "kaggle": {
   "accelerator": "nvidiaTeslaT4",
   "dataSources": [
    {
     "databundleVersionId": 7469972,
     "sourceId": 59093,
     "sourceType": "competition"
    },
    {
     "datasetId": 4297749,
     "sourceId": 7392733,
     "sourceType": "datasetVersion"
    },
    {
     "datasetId": 4297782,
     "sourceId": 7392775,
     "sourceType": "datasetVersion"
    },
    {
     "datasetId": 4334995,
     "sourceId": 7447509,
     "sourceType": "datasetVersion"
    }
   ],
   "dockerImageVersionId": 30636,
   "isGpuEnabled": true,
   "isInternetEnabled": false,
   "language": "python",
   "sourceType": "notebook"
  },
  "kernelspec": {
   "display_name": "Python 3",
   "language": "python",
   "name": "python3"
  },
  "language_info": {
   "codemirror_mode": {
    "name": "ipython",
    "version": 3
   },
   "file_extension": ".py",
   "mimetype": "text/x-python",
   "name": "python",
   "nbconvert_exporter": "python",
   "pygments_lexer": "ipython3",
   "version": "3.10.12"
  },
  "papermill": {
   "default_parameters": {},
   "duration": 691.114675,
   "end_time": "2024-03-11T15:44:31.836139",
   "environment_variables": {},
   "exception": null,
   "input_path": "__notebook__.ipynb",
   "output_path": "__notebook__.ipynb",
   "parameters": {},
   "start_time": "2024-03-11T15:33:00.721464",
   "version": "2.4.0"
  }
 },
 "nbformat": 4,
 "nbformat_minor": 5
}
