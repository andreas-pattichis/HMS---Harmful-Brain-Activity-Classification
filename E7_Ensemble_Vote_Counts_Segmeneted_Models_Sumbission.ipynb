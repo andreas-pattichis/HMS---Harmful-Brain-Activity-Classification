{
 "cells": [
  {
   "cell_type": "markdown",
   "id": "95ba88cc",
   "metadata": {
    "papermill": {
     "duration": 0.006063,
     "end_time": "2024-03-06T01:01:53.114052",
     "exception": false,
     "start_time": "2024-03-06T01:01:53.107989",
     "status": "completed"
    },
    "tags": []
   },
   "source": [
    "## 📌 Overview"
   ]
  },
  {
   "cell_type": "markdown",
   "id": "810620ff",
   "metadata": {
    "papermill": {
     "duration": 0.005198,
     "end_time": "2024-03-06T01:01:53.125142",
     "exception": false,
     "start_time": "2024-03-06T01:01:53.119944",
     "status": "completed"
    },
    "tags": []
   },
   "source": [
    "#### 📋 Key Aspects of the Notebook\n",
    "This notebook is used for the inference of three pretrained models, ResNet34d, EfficientNetB0 and EfficientnetB1: trained exclusively on the Kaggle-provided data (EEG spectrograms) using a batch size of 16. \n",
    "* links:\n",
    "    * https://www.kaggle.com/code/andreasbis/hms-train-resnet34d\n",
    "    * https://www.kaggle.com/code/andreasbis/hms-train-efficientnetb0\n",
    "    * https://www.kaggle.com/code/andreasbis/hms-train-efficientnetb1\n",
    "\n",
    "\n",
    "### 🙏 Acknowledgement\n",
    "Inspired by the work of @yunsuxiaozi. Don't forget to upvote their work if you find it helpful!\n",
    "* links:\n",
    "    * https://www.kaggle.com/code/yunsuxiaozi/hms-baseline-resnet34d-512-512-training-5-folds\n",
    "    * https://www.kaggle.com/code/yunsuxiaozi/hms-baseline-resnet34d-512-512-inference-6-models"
   ]
  },
  {
   "cell_type": "markdown",
   "id": "f1a7c092",
   "metadata": {
    "papermill": {
     "duration": 0.005017,
     "end_time": "2024-03-06T01:01:53.136184",
     "exception": false,
     "start_time": "2024-03-06T01:01:53.131167",
     "status": "completed"
    },
    "tags": []
   },
   "source": [
    "## 📙 Import libraries and modules"
   ]
  },
  {
   "cell_type": "code",
   "execution_count": 1,
   "id": "59b43fd7",
   "metadata": {
    "execution": {
     "iopub.execute_input": "2024-03-06T01:01:53.149262Z",
     "iopub.status.busy": "2024-03-06T01:01:53.148573Z",
     "iopub.status.idle": "2024-03-06T01:02:00.354241Z",
     "shell.execute_reply": "2024-03-06T01:02:00.352658Z"
    },
    "papermill": {
     "duration": 7.215545,
     "end_time": "2024-03-06T01:02:00.357136",
     "exception": false,
     "start_time": "2024-03-06T01:01:53.141591",
     "status": "completed"
    },
    "tags": []
   },
   "outputs": [
    {
     "data": {
      "text/plain": [
       "46"
      ]
     },
     "execution_count": 1,
     "metadata": {},
     "output_type": "execute_result"
    }
   ],
   "source": [
    "# Importing essential libraries\n",
    "import gc\n",
    "import os\n",
    "import random\n",
    "import warnings\n",
    "import numpy as np\n",
    "import pandas as pd\n",
    "from IPython.display import display\n",
    "\n",
    "# PyTorch for deep learning\n",
    "import timm\n",
    "import torch\n",
    "import torch.nn as nn  \n",
    "import torch.optim as optim\n",
    "import torch.nn.functional as F\n",
    "\n",
    "# torchvision for image processing and augmentation\n",
    "import torchvision.transforms as transforms\n",
    "\n",
    "# Suppressing minor warnings to keep the output clean\n",
    "warnings.filterwarnings('ignore', category=Warning)\n",
    "\n",
    "# Reclaim memory no longer in use.\n",
    "gc.collect()"
   ]
  },
  {
   "cell_type": "markdown",
   "id": "bc6bc4e0",
   "metadata": {
    "papermill": {
     "duration": 0.004821,
     "end_time": "2024-03-06T01:02:00.367154",
     "exception": false,
     "start_time": "2024-03-06T01:02:00.362333",
     "status": "completed"
    },
    "tags": []
   },
   "source": [
    "## ⚙️ Configuration"
   ]
  },
  {
   "cell_type": "code",
   "execution_count": 2,
   "id": "cc4d3068",
   "metadata": {
    "execution": {
     "iopub.execute_input": "2024-03-06T01:02:00.380360Z",
     "iopub.status.busy": "2024-03-06T01:02:00.378935Z",
     "iopub.status.idle": "2024-03-06T01:02:00.391617Z",
     "shell.execute_reply": "2024-03-06T01:02:00.390588Z"
    },
    "papermill": {
     "duration": 0.021897,
     "end_time": "2024-03-06T01:02:00.394015",
     "exception": false,
     "start_time": "2024-03-06T01:02:00.372118",
     "status": "completed"
    },
    "tags": []
   },
   "outputs": [],
   "source": [
    "class Config:\n",
    "    seed=42\n",
    "    image_transform=transforms.Resize((512, 512))\n",
    "    num_folds=5\n",
    "    \n",
    "# Set the seed for reproducibility across multiple libraries\n",
    "def set_seed(seed):\n",
    "    torch.backends.cudnn.deterministic = True\n",
    "    torch.backends.cudnn.benchmark = True\n",
    "    torch.manual_seed(seed)\n",
    "    np.random.seed(seed)\n",
    "    random.seed(seed)\n",
    "    \n",
    "set_seed(Config.seed)"
   ]
  },
  {
   "cell_type": "markdown",
   "id": "8145d5b7",
   "metadata": {
    "papermill": {
     "duration": 0.004746,
     "end_time": "2024-03-06T01:02:00.403888",
     "exception": false,
     "start_time": "2024-03-06T01:02:00.399142",
     "status": "completed"
    },
    "tags": []
   },
   "source": [
    "## 📂 Data Loading"
   ]
  },
  {
   "cell_type": "code",
   "execution_count": 3,
   "id": "aa8a727e",
   "metadata": {
    "execution": {
     "iopub.execute_input": "2024-03-06T01:02:00.416652Z",
     "iopub.status.busy": "2024-03-06T01:02:00.415352Z",
     "iopub.status.idle": "2024-03-06T01:02:24.546956Z",
     "shell.execute_reply": "2024-03-06T01:02:24.545382Z"
    },
    "papermill": {
     "duration": 24.140891,
     "end_time": "2024-03-06T01:02:24.549661",
     "exception": false,
     "start_time": "2024-03-06T01:02:00.408770",
     "status": "completed"
    },
    "tags": []
   },
   "outputs": [
    {
     "data": {
      "text/plain": [
       "36"
      ]
     },
     "execution_count": 3,
     "metadata": {},
     "output_type": "execute_result"
    }
   ],
   "source": [
    "models = []\n",
    "\n",
    "# Update to include full paths for each architecture\n",
    "arch_paths = {\n",
    "    'resnet34d': '/kaggle/input/k/apatti01/hms-train-resnet34d',\n",
    "    'efficientnet_b0': '/kaggle/input/k/apatti01/hms-train-efficientnetb0',\n",
    "    'efficientnet_b1': '/kaggle/input/k/apatti01/hms-train-efficientnetb1'\n",
    "}\n",
    "\n",
    "def load_models(architecture, type_prefix, num_folds, base_path):\n",
    "    for i in range(num_folds):\n",
    "        model_path = f'{base_path}/{type_prefix}/{architecture}_fold{i}.pth'\n",
    "        model = timm.create_model(architecture, pretrained=False, num_classes=6, in_chans=1)\n",
    "        model.load_state_dict(torch.load(model_path, map_location=torch.device('cpu')))\n",
    "        models.append(model)\n",
    "\n",
    "for arch, base_path in arch_paths.items():\n",
    "    # Load \"less10\" models\n",
    "    load_models(arch, 'models_less10', Config.num_folds, base_path)\n",
    "    # Load \"more10\" models\n",
    "    load_models(arch, 'models_more10', Config.num_folds, base_path)\n",
    "\n",
    "gc.collect()\n",
    "\n"
   ]
  },
  {
   "cell_type": "code",
   "execution_count": 4,
   "id": "a3f18fa3",
   "metadata": {
    "execution": {
     "iopub.execute_input": "2024-03-06T01:02:24.562112Z",
     "iopub.status.busy": "2024-03-06T01:02:24.561709Z",
     "iopub.status.idle": "2024-03-06T01:02:24.843120Z",
     "shell.execute_reply": "2024-03-06T01:02:24.841819Z"
    },
    "papermill": {
     "duration": 0.291279,
     "end_time": "2024-03-06T01:02:24.846111",
     "exception": false,
     "start_time": "2024-03-06T01:02:24.554832",
     "status": "completed"
    },
    "tags": []
   },
   "outputs": [
    {
     "data": {
      "text/html": [
       "<div>\n",
       "<style scoped>\n",
       "    .dataframe tbody tr th:only-of-type {\n",
       "        vertical-align: middle;\n",
       "    }\n",
       "\n",
       "    .dataframe tbody tr th {\n",
       "        vertical-align: top;\n",
       "    }\n",
       "\n",
       "    .dataframe thead th {\n",
       "        text-align: right;\n",
       "    }\n",
       "</style>\n",
       "<table border=\"1\" class=\"dataframe\">\n",
       "  <thead>\n",
       "    <tr style=\"text-align: right;\">\n",
       "      <th></th>\n",
       "      <th>eeg_id</th>\n",
       "      <th>seizure_vote</th>\n",
       "      <th>lpd_vote</th>\n",
       "      <th>gpd_vote</th>\n",
       "      <th>lrda_vote</th>\n",
       "      <th>grda_vote</th>\n",
       "      <th>other_vote</th>\n",
       "      <th>spectrogram_id</th>\n",
       "      <th>patient_id</th>\n",
       "      <th>path</th>\n",
       "    </tr>\n",
       "  </thead>\n",
       "  <tbody>\n",
       "    <tr>\n",
       "      <th>0</th>\n",
       "      <td>3911565283</td>\n",
       "      <td>0.166667</td>\n",
       "      <td>0.166667</td>\n",
       "      <td>0.166667</td>\n",
       "      <td>0.166667</td>\n",
       "      <td>0.166667</td>\n",
       "      <td>0.166667</td>\n",
       "      <td>853520</td>\n",
       "      <td>6885</td>\n",
       "      <td>/kaggle/input/hms-harmful-brain-activity-class...</td>\n",
       "    </tr>\n",
       "  </tbody>\n",
       "</table>\n",
       "</div>"
      ],
      "text/plain": [
       "       eeg_id  seizure_vote  lpd_vote  gpd_vote  lrda_vote  grda_vote  \\\n",
       "0  3911565283      0.166667  0.166667  0.166667   0.166667   0.166667   \n",
       "\n",
       "   other_vote  spectrogram_id  patient_id  \\\n",
       "0    0.166667          853520        6885   \n",
       "\n",
       "                                                path  \n",
       "0  /kaggle/input/hms-harmful-brain-activity-class...  "
      ]
     },
     "metadata": {},
     "output_type": "display_data"
    },
    {
     "data": {
      "text/plain": [
       "0"
      ]
     },
     "execution_count": 4,
     "metadata": {},
     "output_type": "execute_result"
    }
   ],
   "source": [
    "# Load test data and sample submission dataframe\n",
    "test_df = pd.read_csv(\"/kaggle/input/hms-harmful-brain-activity-classification/test.csv\")\n",
    "submission = pd.read_csv(\"/kaggle/input/hms-harmful-brain-activity-classification/sample_submission.csv\")\n",
    "\n",
    "# Merge the submission dataframe with the test data on EEG IDs\n",
    "submission = submission.merge(test_df, on='eeg_id', how='left')\n",
    "\n",
    "# Generate file paths for each spectrogram based on the EEG data in the submission dataframe\n",
    "submission['path'] = submission['spectrogram_id'].apply(lambda x: f\"/kaggle/input/hms-harmful-brain-activity-classification/test_spectrograms/{x}.parquet\")\n",
    "\n",
    "# Display the first few rows of the submission dataframe\n",
    "display(submission.head())\n",
    "\n",
    "# Reclaim memory no longer in use\n",
    "gc.collect()"
   ]
  },
  {
   "cell_type": "markdown",
   "id": "00ea83fb",
   "metadata": {
    "papermill": {
     "duration": 0.006909,
     "end_time": "2024-03-06T01:02:24.859214",
     "exception": false,
     "start_time": "2024-03-06T01:02:24.852305",
     "status": "completed"
    },
    "tags": []
   },
   "source": [
    "## 🎰 Predictions"
   ]
  },
  {
   "cell_type": "code",
   "execution_count": 5,
   "id": "83b9f05f",
   "metadata": {
    "execution": {
     "iopub.execute_input": "2024-03-06T01:02:24.875281Z",
     "iopub.status.busy": "2024-03-06T01:02:24.874795Z",
     "iopub.status.idle": "2024-03-06T01:02:34.158295Z",
     "shell.execute_reply": "2024-03-06T01:02:34.157088Z"
    },
    "papermill": {
     "duration": 9.295612,
     "end_time": "2024-03-06T01:02:34.161412",
     "exception": false,
     "start_time": "2024-03-06T01:02:24.865800",
     "status": "completed"
    },
    "tags": []
   },
   "outputs": [
    {
     "data": {
      "text/plain": [
       "0"
      ]
     },
     "execution_count": 5,
     "metadata": {},
     "output_type": "execute_result"
    }
   ],
   "source": [
    "# Define the weights for each model architecture\n",
    "weight_resnet34d = 0.26\n",
    "weight_effnetb0 = 0.48\n",
    "weight_effnetb1 = 0.26\n",
    "\n",
    "# Define weights for \"less10\" and \"more10\"\n",
    "weight_less10 = 0.4\n",
    "weight_more10 = 0.6\n",
    "\n",
    "# Get file paths for test spectrograms\n",
    "paths = submission['path'].values\n",
    "test_preds = []\n",
    "\n",
    "# Generate predictions for each spectrogram using all models\n",
    "for path in paths:\n",
    "    eps = 1e-6\n",
    "    # Read and preprocess spectrogram data\n",
    "    data = pd.read_parquet(path)\n",
    "    data = data.fillna(-1).values[:, 1:].T\n",
    "    data = np.clip(data, np.exp(-6), np.exp(10))\n",
    "    data = np.log(data)\n",
    "    \n",
    "    # Normalize the data\n",
    "    data_mean = data.mean(axis=(0, 1))\n",
    "    data_std = data.std(axis=(0, 1))\n",
    "    data = (data - data_mean) / (data_std + eps)\n",
    "    data_tensor = torch.unsqueeze(torch.Tensor(data), dim=0)\n",
    "    data = Config.image_transform(data_tensor)\n",
    "\n",
    "    test_pred = []\n",
    "    \n",
    "    # Generate predictions using all models\n",
    "    for model in models:\n",
    "        model.eval()\n",
    "        with torch.no_grad():\n",
    "            pred = F.softmax(model(data.unsqueeze(0)), dim=1)[0]\n",
    "            pred = pred.detach().cpu().numpy()\n",
    "        test_pred.append(pred)\n",
    "        \n",
    "    # Separate predictions into \"less10\" and \"more10\" for each architecture\n",
    "    preds_resnet34d = test_pred[:10]  # First 10 models are for ResNet34d\n",
    "    preds_effnetb0 = test_pred[10:20]  # Next 10 models are for EfficientNetB0\n",
    "    preds_effnetb1 = test_pred[20:]  # Last 10 models are for EfficientNetB1\n",
    "    \n",
    "    # Calculate weighted averages for \"less10\" and \"more10\"\n",
    "    weighted_pred_resnet34d = np.mean(preds_resnet34d[:5], axis=0) * weight_less10 + np.mean(preds_resnet34d[5:], axis=0) * weight_more10\n",
    "    weighted_pred_effnetb0 = np.mean(preds_effnetb0[:5], axis=0) * weight_less10 + np.mean(preds_effnetb0[5:], axis=0) * weight_more10\n",
    "    weighted_pred_effnetb1 = np.mean(preds_effnetb1[:5], axis=0) * weight_less10 + np.mean(preds_effnetb1[5:], axis=0) * weight_more10\n",
    "    \n",
    "    # Combine weighted predictions from all architectures\n",
    "    final_pred = (weighted_pred_resnet34d * weight_resnet34d +\n",
    "                  weighted_pred_effnetb0 * weight_effnetb0 +\n",
    "                  weighted_pred_effnetb1 * weight_effnetb1)\n",
    "    \n",
    "    test_preds.append(final_pred)\n",
    "\n",
    "# Convert the list of predictions to a NumPy array for further processing\n",
    "test_preds = np.array(test_preds)\n",
    "\n",
    "# Reclaim memory no longer in use\n",
    "gc.collect()\n"
   ]
  },
  {
   "cell_type": "markdown",
   "id": "e45b2ceb",
   "metadata": {
    "papermill": {
     "duration": 0.006085,
     "end_time": "2024-03-06T01:02:34.174055",
     "exception": false,
     "start_time": "2024-03-06T01:02:34.167970",
     "status": "completed"
    },
    "tags": []
   },
   "source": [
    "## 🚀 Submission"
   ]
  },
  {
   "cell_type": "code",
   "execution_count": 6,
   "id": "a5bbe284",
   "metadata": {
    "execution": {
     "iopub.execute_input": "2024-03-06T01:02:34.189108Z",
     "iopub.status.busy": "2024-03-06T01:02:34.188636Z",
     "iopub.status.idle": "2024-03-06T01:02:34.531598Z",
     "shell.execute_reply": "2024-03-06T01:02:34.530319Z"
    },
    "papermill": {
     "duration": 0.353449,
     "end_time": "2024-03-06T01:02:34.534081",
     "exception": false,
     "start_time": "2024-03-06T01:02:34.180632",
     "status": "completed"
    },
    "tags": []
   },
   "outputs": [
    {
     "data": {
      "text/html": [
       "<div>\n",
       "<style scoped>\n",
       "    .dataframe tbody tr th:only-of-type {\n",
       "        vertical-align: middle;\n",
       "    }\n",
       "\n",
       "    .dataframe tbody tr th {\n",
       "        vertical-align: top;\n",
       "    }\n",
       "\n",
       "    .dataframe thead th {\n",
       "        text-align: right;\n",
       "    }\n",
       "</style>\n",
       "<table border=\"1\" class=\"dataframe\">\n",
       "  <thead>\n",
       "    <tr style=\"text-align: right;\">\n",
       "      <th></th>\n",
       "      <th>eeg_id</th>\n",
       "      <th>seizure_vote</th>\n",
       "      <th>lpd_vote</th>\n",
       "      <th>gpd_vote</th>\n",
       "      <th>lrda_vote</th>\n",
       "      <th>grda_vote</th>\n",
       "      <th>other_vote</th>\n",
       "    </tr>\n",
       "  </thead>\n",
       "  <tbody>\n",
       "    <tr>\n",
       "      <th>0</th>\n",
       "      <td>3911565283</td>\n",
       "      <td>0.081307</td>\n",
       "      <td>0.11103</td>\n",
       "      <td>0.001382</td>\n",
       "      <td>0.256873</td>\n",
       "      <td>0.022374</td>\n",
       "      <td>0.527034</td>\n",
       "    </tr>\n",
       "  </tbody>\n",
       "</table>\n",
       "</div>"
      ],
      "text/plain": [
       "       eeg_id  seizure_vote  lpd_vote  gpd_vote  lrda_vote  grda_vote  \\\n",
       "0  3911565283      0.081307   0.11103  0.001382   0.256873   0.022374   \n",
       "\n",
       "   other_vote  \n",
       "0    0.527034  "
      ]
     },
     "metadata": {},
     "output_type": "display_data"
    },
    {
     "data": {
      "text/plain": [
       "0"
      ]
     },
     "execution_count": 6,
     "metadata": {},
     "output_type": "execute_result"
    }
   ],
   "source": [
    "# Load the sample submission file and update it with model predictions for each label\n",
    "submission = pd.read_csv(\"/kaggle/input/hms-harmful-brain-activity-classification/sample_submission.csv\")\n",
    "labels = ['seizure', 'lpd', 'gpd', 'lrda', 'grda', 'other']\n",
    "\n",
    "# Assign model predictions to respective columns in the submission DataFrame\n",
    "for i in range(len(labels)):\n",
    "    submission[f'{labels[i]}_vote'] = test_preds[:, i]\n",
    "\n",
    "# Save the updated DataFrame as the final submission file\n",
    "submission.to_csv(\"submission.csv\", index=None)\n",
    "\n",
    "# Display the first few rows of the submission file\n",
    "display(submission.head())\n",
    "\n",
    "# Reclaim memory no longer in use.\n",
    "gc.collect()"
   ]
  }
 ],
 "metadata": {
  "kaggle": {
   "accelerator": "none",
   "dataSources": [
    {
     "databundleVersionId": 7469972,
     "sourceId": 59093,
     "sourceType": "competition"
    },
    {
     "sourceId": 164525656,
     "sourceType": "kernelVersion"
    },
    {
     "sourceId": 164526171,
     "sourceType": "kernelVersion"
    },
    {
     "sourceId": 164563953,
     "sourceType": "kernelVersion"
    }
   ],
   "dockerImageVersionId": 30635,
   "isGpuEnabled": false,
   "isInternetEnabled": false,
   "language": "python",
   "sourceType": "notebook"
  },
  "kernelspec": {
   "display_name": "Python 3",
   "language": "python",
   "name": "python3"
  },
  "language_info": {
   "codemirror_mode": {
    "name": "ipython",
    "version": 3
   },
   "file_extension": ".py",
   "mimetype": "text/x-python",
   "name": "python",
   "nbconvert_exporter": "python",
   "pygments_lexer": "ipython3",
   "version": "3.10.12"
  },
  "papermill": {
   "default_parameters": {},
   "duration": 48.957307,
   "end_time": "2024-03-06T01:02:37.542094",
   "environment_variables": {},
   "exception": null,
   "input_path": "__notebook__.ipynb",
   "output_path": "__notebook__.ipynb",
   "parameters": {},
   "start_time": "2024-03-06T01:01:48.584787",
   "version": "2.4.0"
  }
 },
 "nbformat": 4,
 "nbformat_minor": 5
}
